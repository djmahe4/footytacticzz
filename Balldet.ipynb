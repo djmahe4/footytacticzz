{
  "nbformat": 4,
  "nbformat_minor": 0,
  "metadata": {
    "colab": {
      "provenance": [],
      "gpuType": "T4",
      "authorship_tag": "ABX9TyN9N6LQTKlPampHYHuavQDZ",
      "include_colab_link": true
    },
    "kernelspec": {
      "name": "python3",
      "display_name": "Python 3"
    },
    "language_info": {
      "name": "python"
    },
    "accelerator": "GPU"
  },
  "cells": [
    {
      "cell_type": "markdown",
      "metadata": {
        "id": "view-in-github",
        "colab_type": "text"
      },
      "source": [
        "<a href=\"https://colab.research.google.com/github/djmahe4/footytacticzz/blob/master/Balldet.ipynb\" target=\"_parent\"><img src=\"https://colab.research.google.com/assets/colab-badge.svg\" alt=\"Open In Colab\"/></a>"
      ]
    },
    {
      "cell_type": "code",
      "execution_count": null,
      "metadata": {
        "colab": {
          "base_uri": "https://localhost:8080/"
        },
        "id": "2dok6JbN7RQO",
        "outputId": "c47e906d-d1c7-4ddc-90be-559ffe83a6b0"
      },
      "outputs": [
        {
          "output_type": "stream",
          "name": "stdout",
          "text": [
            "Thu May 15 07:52:59 2025       \n",
            "+-----------------------------------------------------------------------------------------+\n",
            "| NVIDIA-SMI 550.54.15              Driver Version: 550.54.15      CUDA Version: 12.4     |\n",
            "|-----------------------------------------+------------------------+----------------------+\n",
            "| GPU  Name                 Persistence-M | Bus-Id          Disp.A | Volatile Uncorr. ECC |\n",
            "| Fan  Temp   Perf          Pwr:Usage/Cap |           Memory-Usage | GPU-Util  Compute M. |\n",
            "|                                         |                        |               MIG M. |\n",
            "|=========================================+========================+======================|\n",
            "|   0  Tesla T4                       Off |   00000000:00:04.0 Off |                    0 |\n",
            "| N/A   64C    P8             10W /   70W |       0MiB /  15360MiB |      0%      Default |\n",
            "|                                         |                        |                  N/A |\n",
            "+-----------------------------------------+------------------------+----------------------+\n",
            "                                                                                         \n",
            "+-----------------------------------------------------------------------------------------+\n",
            "| Processes:                                                                              |\n",
            "|  GPU   GI   CI        PID   Type   Process name                              GPU Memory |\n",
            "|        ID   ID                                                               Usage      |\n",
            "|=========================================================================================|\n",
            "|  No running processes found                                                             |\n",
            "+-----------------------------------------------------------------------------------------+\n"
          ]
        }
      ],
      "source": [
        "!nvidia-smi"
      ]
    },
    {
      "cell_type": "code",
      "source": [
        "# STEP 1: Install required packages\n",
        "!pip install ultralytics kaggle --upgrade -q\n",
        "\n",
        "# STEP 2: Authenticate with Kaggle (upload your kaggle.json)\n",
        "from google.colab import files\n",
        "files.upload()  # Upload your kaggle.json\n",
        "\n",
        "# STEP 3: Set up Kaggle API credentials\n",
        "import os\n",
        "os.makedirs('/root/.kaggle', exist_ok=True)\n",
        "!mv kaggle.json /root/.kaggle/\n",
        "!chmod 600 /root/.kaggle/kaggle.json\n",
        "\n",
        "# STEP 4: Download Kaggle Dataset\n",
        "# Replace with the actual dataset name (example below)\n",
        "!kaggle datasets download -d  ellisdg/football-detection# Example: ellisdg/football-detection\n",
        "!unzip -q '*.zip' -d data/\n",
        "\n",
        "# STEP 5: Convert Dataset if not already in YOLO Format\n",
        "# Folder should contain: images/train, labels/train, images/val, labels/val\n",
        "# If not in YOLO format, you'll need to convert annotations accordingly.\n",
        "\n",
        "# Example directory structure:\n",
        "# data/\n",
        "# ├── images/\n",
        "# │   ├── train/\n",
        "# │   └── val/\n",
        "# └── labels/\n",
        "#     ├── train/\n",
        "#     └── val/\n",
        "\n",
        "# STEP 6: Create a YOLOv8 YAML config\n",
        "yaml_content = \"\"\"\n",
        "path: data\n",
        "train: images/train\n",
        "val: images/val\n",
        "names:\n",
        "  0: ball\n",
        "\"\"\"\n",
        "\n",
        "with open(\"data.yaml\", \"w\") as f:\n",
        "    f.write(yaml_content)\n",
        "\n",
        "# STEP 7: Train YOLOv8m\n",
        "from ultralytics import YOLO\n",
        "\n",
        "model = YOLO('yolov8m.pt')  # Use pretrained medium model\n",
        "model.train(data='data.yaml', epochs=50, imgsz=640, batch=16)\n",
        "\n",
        "# STEP 8: Evaluate the model\n",
        "metrics = model.val()\n",
        "print(metrics)\n",
        "\n",
        "# STEP 8: Mount Google Drive\n",
        "from google.colab import drive\n",
        "drive.mount('/content/drive')\n",
        "\n",
        "# STEP 9: Save the best model (.pt) to Google Drive\n",
        "import shutil\n",
        "\n",
        "# Path to the best model (after training)\n",
        "best_model_path = 'runs/detect/train/weights/best.pt'\n",
        "\n",
        "# Your destination folder in Drive\n",
        "drive_path = '/content/drive/MyDrive/ball_best.pt'\n",
        "\n",
        "# Make sure the destination directory exists\n",
        "os.makedirs(os.path.dirname(drive_path), exist_ok=True)\n",
        "\n",
        "# Copy the model to Drive\n",
        "shutil.copy(best_model_path, drive_path)\n",
        "\n",
        "print(f\"Model saved to {drive_path}\")"
      ],
      "metadata": {
        "colab": {
          "base_uri": "https://localhost:8080/",
          "height": 1000
        },
        "id": "c6gILQ6R7nUx",
        "outputId": "c8496f84-1cce-4a48-9703-320f81bbfe15"
      },
      "execution_count": null,
      "outputs": [
        {
          "output_type": "stream",
          "name": "stdout",
          "text": [
            "\u001b[2K   \u001b[90m━━━━━━━━━━━━━━━━━━━━━━━━━━━━━━━━━━━━━━━━\u001b[0m \u001b[32m1.0/1.0 MB\u001b[0m \u001b[31m15.0 MB/s\u001b[0m eta \u001b[36m0:00:00\u001b[0m\n",
            "\u001b[2K   \u001b[90m━━━━━━━━━━━━━━━━━━━━━━━━━━━━━━━━━━━━━━━━\u001b[0m \u001b[32m363.4/363.4 MB\u001b[0m \u001b[31m4.0 MB/s\u001b[0m eta \u001b[36m0:00:00\u001b[0m\n",
            "\u001b[2K   \u001b[90m━━━━━━━━━━━━━━━━━━━━━━━━━━━━━━━━━━━━━━━━\u001b[0m \u001b[32m13.8/13.8 MB\u001b[0m \u001b[31m38.7 MB/s\u001b[0m eta \u001b[36m0:00:00\u001b[0m\n",
            "\u001b[2K   \u001b[90m━━━━━━━━━━━━━━━━━━━━━━━━━━━━━━━━━━━━━━━━\u001b[0m \u001b[32m24.6/24.6 MB\u001b[0m \u001b[31m31.4 MB/s\u001b[0m eta \u001b[36m0:00:00\u001b[0m\n",
            "\u001b[2K   \u001b[90m━━━━━━━━━━━━━━━━━━━━━━━━━━━━━━━━━━━━━━━━\u001b[0m \u001b[32m883.7/883.7 kB\u001b[0m \u001b[31m36.2 MB/s\u001b[0m eta \u001b[36m0:00:00\u001b[0m\n",
            "\u001b[2K   \u001b[90m━━━━━━━━━━━━━━━━━━━━━━━━━━━━━━━━━━━━━━━━\u001b[0m \u001b[32m664.8/664.8 MB\u001b[0m \u001b[31m2.8 MB/s\u001b[0m eta \u001b[36m0:00:00\u001b[0m\n",
            "\u001b[2K   \u001b[90m━━━━━━━━━━━━━━━━━━━━━━━━━━━━━━━━━━━━━━━━\u001b[0m \u001b[32m211.5/211.5 MB\u001b[0m \u001b[31m5.2 MB/s\u001b[0m eta \u001b[36m0:00:00\u001b[0m\n",
            "\u001b[2K   \u001b[90m━━━━━━━━━━━━━━━━━━━━━━━━━━━━━━━━━━━━━━━━\u001b[0m \u001b[32m56.3/56.3 MB\u001b[0m \u001b[31m12.0 MB/s\u001b[0m eta \u001b[36m0:00:00\u001b[0m\n",
            "\u001b[2K   \u001b[90m━━━━━━━━━━━━━━━━━━━━━━━━━━━━━━━━━━━━━━━━\u001b[0m \u001b[32m127.9/127.9 MB\u001b[0m \u001b[31m7.6 MB/s\u001b[0m eta \u001b[36m0:00:00\u001b[0m\n",
            "\u001b[2K   \u001b[90m━━━━━━━━━━━━━━━━━━━━━━━━━━━━━━━━━━━━━━━━\u001b[0m \u001b[32m207.5/207.5 MB\u001b[0m \u001b[31m5.9 MB/s\u001b[0m eta \u001b[36m0:00:00\u001b[0m\n",
            "\u001b[2K   \u001b[90m━━━━━━━━━━━━━━━━━━━━━━━━━━━━━━━━━━━━━━━━\u001b[0m \u001b[32m21.1/21.1 MB\u001b[0m \u001b[31m100.3 MB/s\u001b[0m eta \u001b[36m0:00:00\u001b[0m\n",
            "\u001b[?25h"
          ]
        },
        {
          "output_type": "display_data",
          "data": {
            "text/plain": [
              "<IPython.core.display.HTML object>"
            ],
            "text/html": [
              "\n",
              "     <input type=\"file\" id=\"files-ab1da88e-c76e-4bea-a56e-89606e8f3cd8\" name=\"files[]\" multiple disabled\n",
              "        style=\"border:none\" />\n",
              "     <output id=\"result-ab1da88e-c76e-4bea-a56e-89606e8f3cd8\">\n",
              "      Upload widget is only available when the cell has been executed in the\n",
              "      current browser session. Please rerun this cell to enable.\n",
              "      </output>\n",
              "      <script>// Copyright 2017 Google LLC\n",
              "//\n",
              "// Licensed under the Apache License, Version 2.0 (the \"License\");\n",
              "// you may not use this file except in compliance with the License.\n",
              "// You may obtain a copy of the License at\n",
              "//\n",
              "//      http://www.apache.org/licenses/LICENSE-2.0\n",
              "//\n",
              "// Unless required by applicable law or agreed to in writing, software\n",
              "// distributed under the License is distributed on an \"AS IS\" BASIS,\n",
              "// WITHOUT WARRANTIES OR CONDITIONS OF ANY KIND, either express or implied.\n",
              "// See the License for the specific language governing permissions and\n",
              "// limitations under the License.\n",
              "\n",
              "/**\n",
              " * @fileoverview Helpers for google.colab Python module.\n",
              " */\n",
              "(function(scope) {\n",
              "function span(text, styleAttributes = {}) {\n",
              "  const element = document.createElement('span');\n",
              "  element.textContent = text;\n",
              "  for (const key of Object.keys(styleAttributes)) {\n",
              "    element.style[key] = styleAttributes[key];\n",
              "  }\n",
              "  return element;\n",
              "}\n",
              "\n",
              "// Max number of bytes which will be uploaded at a time.\n",
              "const MAX_PAYLOAD_SIZE = 100 * 1024;\n",
              "\n",
              "function _uploadFiles(inputId, outputId) {\n",
              "  const steps = uploadFilesStep(inputId, outputId);\n",
              "  const outputElement = document.getElementById(outputId);\n",
              "  // Cache steps on the outputElement to make it available for the next call\n",
              "  // to uploadFilesContinue from Python.\n",
              "  outputElement.steps = steps;\n",
              "\n",
              "  return _uploadFilesContinue(outputId);\n",
              "}\n",
              "\n",
              "// This is roughly an async generator (not supported in the browser yet),\n",
              "// where there are multiple asynchronous steps and the Python side is going\n",
              "// to poll for completion of each step.\n",
              "// This uses a Promise to block the python side on completion of each step,\n",
              "// then passes the result of the previous step as the input to the next step.\n",
              "function _uploadFilesContinue(outputId) {\n",
              "  const outputElement = document.getElementById(outputId);\n",
              "  const steps = outputElement.steps;\n",
              "\n",
              "  const next = steps.next(outputElement.lastPromiseValue);\n",
              "  return Promise.resolve(next.value.promise).then((value) => {\n",
              "    // Cache the last promise value to make it available to the next\n",
              "    // step of the generator.\n",
              "    outputElement.lastPromiseValue = value;\n",
              "    return next.value.response;\n",
              "  });\n",
              "}\n",
              "\n",
              "/**\n",
              " * Generator function which is called between each async step of the upload\n",
              " * process.\n",
              " * @param {string} inputId Element ID of the input file picker element.\n",
              " * @param {string} outputId Element ID of the output display.\n",
              " * @return {!Iterable<!Object>} Iterable of next steps.\n",
              " */\n",
              "function* uploadFilesStep(inputId, outputId) {\n",
              "  const inputElement = document.getElementById(inputId);\n",
              "  inputElement.disabled = false;\n",
              "\n",
              "  const outputElement = document.getElementById(outputId);\n",
              "  outputElement.innerHTML = '';\n",
              "\n",
              "  const pickedPromise = new Promise((resolve) => {\n",
              "    inputElement.addEventListener('change', (e) => {\n",
              "      resolve(e.target.files);\n",
              "    });\n",
              "  });\n",
              "\n",
              "  const cancel = document.createElement('button');\n",
              "  inputElement.parentElement.appendChild(cancel);\n",
              "  cancel.textContent = 'Cancel upload';\n",
              "  const cancelPromise = new Promise((resolve) => {\n",
              "    cancel.onclick = () => {\n",
              "      resolve(null);\n",
              "    };\n",
              "  });\n",
              "\n",
              "  // Wait for the user to pick the files.\n",
              "  const files = yield {\n",
              "    promise: Promise.race([pickedPromise, cancelPromise]),\n",
              "    response: {\n",
              "      action: 'starting',\n",
              "    }\n",
              "  };\n",
              "\n",
              "  cancel.remove();\n",
              "\n",
              "  // Disable the input element since further picks are not allowed.\n",
              "  inputElement.disabled = true;\n",
              "\n",
              "  if (!files) {\n",
              "    return {\n",
              "      response: {\n",
              "        action: 'complete',\n",
              "      }\n",
              "    };\n",
              "  }\n",
              "\n",
              "  for (const file of files) {\n",
              "    const li = document.createElement('li');\n",
              "    li.append(span(file.name, {fontWeight: 'bold'}));\n",
              "    li.append(span(\n",
              "        `(${file.type || 'n/a'}) - ${file.size} bytes, ` +\n",
              "        `last modified: ${\n",
              "            file.lastModifiedDate ? file.lastModifiedDate.toLocaleDateString() :\n",
              "                                    'n/a'} - `));\n",
              "    const percent = span('0% done');\n",
              "    li.appendChild(percent);\n",
              "\n",
              "    outputElement.appendChild(li);\n",
              "\n",
              "    const fileDataPromise = new Promise((resolve) => {\n",
              "      const reader = new FileReader();\n",
              "      reader.onload = (e) => {\n",
              "        resolve(e.target.result);\n",
              "      };\n",
              "      reader.readAsArrayBuffer(file);\n",
              "    });\n",
              "    // Wait for the data to be ready.\n",
              "    let fileData = yield {\n",
              "      promise: fileDataPromise,\n",
              "      response: {\n",
              "        action: 'continue',\n",
              "      }\n",
              "    };\n",
              "\n",
              "    // Use a chunked sending to avoid message size limits. See b/62115660.\n",
              "    let position = 0;\n",
              "    do {\n",
              "      const length = Math.min(fileData.byteLength - position, MAX_PAYLOAD_SIZE);\n",
              "      const chunk = new Uint8Array(fileData, position, length);\n",
              "      position += length;\n",
              "\n",
              "      const base64 = btoa(String.fromCharCode.apply(null, chunk));\n",
              "      yield {\n",
              "        response: {\n",
              "          action: 'append',\n",
              "          file: file.name,\n",
              "          data: base64,\n",
              "        },\n",
              "      };\n",
              "\n",
              "      let percentDone = fileData.byteLength === 0 ?\n",
              "          100 :\n",
              "          Math.round((position / fileData.byteLength) * 100);\n",
              "      percent.textContent = `${percentDone}% done`;\n",
              "\n",
              "    } while (position < fileData.byteLength);\n",
              "  }\n",
              "\n",
              "  // All done.\n",
              "  yield {\n",
              "    response: {\n",
              "      action: 'complete',\n",
              "    }\n",
              "  };\n",
              "}\n",
              "\n",
              "scope.google = scope.google || {};\n",
              "scope.google.colab = scope.google.colab || {};\n",
              "scope.google.colab._files = {\n",
              "  _uploadFiles,\n",
              "  _uploadFilesContinue,\n",
              "};\n",
              "})(self);\n",
              "</script> "
            ]
          },
          "metadata": {}
        },
        {
          "output_type": "stream",
          "name": "stdout",
          "text": [
            "Saving kaggle.json to kaggle.json\n",
            "usage: kaggle [-h] [-v] [-W]\n",
            "              {competitions,c,datasets,d,kernels,k,models,m,files,f,config}\n",
            "              ...\n",
            "kaggle: error: unrecognized arguments: ellisdg/football-detection\n",
            "unzip:  cannot find or open *.zip, *.zip.zip or *.zip.ZIP.\n",
            "\n",
            "No zipfiles found.\n",
            "Creating new Ultralytics Settings v0.0.6 file ✅ \n",
            "View Ultralytics Settings with 'yolo settings' or at '/root/.config/Ultralytics/settings.json'\n",
            "Update Settings with 'yolo settings key=value', i.e. 'yolo settings runs_dir=path/to/dir'. For help see https://docs.ultralytics.com/quickstart/#ultralytics-settings.\n",
            "Downloading https://github.com/ultralytics/assets/releases/download/v8.3.0/yolov8m.pt to 'yolov8m.pt'...\n"
          ]
        },
        {
          "output_type": "stream",
          "name": "stderr",
          "text": [
            "100%|██████████| 49.7M/49.7M [00:00<00:00, 146MB/s]\n"
          ]
        },
        {
          "output_type": "stream",
          "name": "stdout",
          "text": [
            "Ultralytics 8.3.134 🚀 Python-3.11.12 torch-2.6.0+cu124 CUDA:0 (Tesla T4, 15095MiB)\n",
            "\u001b[34m\u001b[1mengine/trainer: \u001b[0magnostic_nms=False, amp=True, augment=False, auto_augment=randaugment, batch=16, bgr=0.0, box=7.5, cache=False, cfg=None, classes=None, close_mosaic=10, cls=0.5, conf=None, copy_paste=0.0, copy_paste_mode=flip, cos_lr=False, cutmix=0.0, data=data.yaml, degrees=0.0, deterministic=True, device=None, dfl=1.5, dnn=False, dropout=0.0, dynamic=False, embed=None, epochs=50, erasing=0.4, exist_ok=False, fliplr=0.5, flipud=0.0, format=torchscript, fraction=1.0, freeze=None, half=False, hsv_h=0.015, hsv_s=0.7, hsv_v=0.4, imgsz=640, int8=False, iou=0.7, keras=False, kobj=1.0, line_width=None, lr0=0.01, lrf=0.01, mask_ratio=4, max_det=300, mixup=0.0, mode=train, model=yolov8m.pt, momentum=0.937, mosaic=1.0, multi_scale=False, name=train, nbs=64, nms=False, opset=None, optimize=False, optimizer=auto, overlap_mask=True, patience=100, perspective=0.0, plots=True, pose=12.0, pretrained=True, profile=False, project=None, rect=False, resume=False, retina_masks=False, save=True, save_conf=False, save_crop=False, save_dir=runs/detect/train, save_frames=False, save_json=False, save_period=-1, save_txt=False, scale=0.5, seed=0, shear=0.0, show=False, show_boxes=True, show_conf=True, show_labels=True, simplify=True, single_cls=False, source=None, split=val, stream_buffer=False, task=detect, time=None, tracker=botsort.yaml, translate=0.1, val=True, verbose=True, vid_stride=1, visualize=False, warmup_bias_lr=0.1, warmup_epochs=3.0, warmup_momentum=0.8, weight_decay=0.0005, workers=8, workspace=None\n",
            "\n"
          ]
        },
        {
          "output_type": "error",
          "ename": "RuntimeError",
          "evalue": "Dataset 'data.yaml' error ❌ Dataset 'data.yaml' images not found, missing path '/content/datasets/data/images/val'\nNote dataset download directory is '/content/datasets'. You can update this in '/root/.config/Ultralytics/settings.json'",
          "traceback": [
            "\u001b[0;31m---------------------------------------------------------------------------\u001b[0m",
            "\u001b[0;31mFileNotFoundError\u001b[0m                         Traceback (most recent call last)",
            "\u001b[0;32m/usr/local/lib/python3.11/dist-packages/ultralytics/engine/trainer.py\u001b[0m in \u001b[0;36mget_dataset\u001b[0;34m(self)\u001b[0m\n\u001b[1;32m    586\u001b[0m             }:\n\u001b[0;32m--> 587\u001b[0;31m                 \u001b[0mdata\u001b[0m \u001b[0;34m=\u001b[0m \u001b[0mcheck_det_dataset\u001b[0m\u001b[0;34m(\u001b[0m\u001b[0mself\u001b[0m\u001b[0;34m.\u001b[0m\u001b[0margs\u001b[0m\u001b[0;34m.\u001b[0m\u001b[0mdata\u001b[0m\u001b[0;34m)\u001b[0m\u001b[0;34m\u001b[0m\u001b[0;34m\u001b[0m\u001b[0m\n\u001b[0m\u001b[1;32m    588\u001b[0m                 \u001b[0;32mif\u001b[0m \u001b[0;34m\"yaml_file\"\u001b[0m \u001b[0;32min\u001b[0m \u001b[0mdata\u001b[0m\u001b[0;34m:\u001b[0m\u001b[0;34m\u001b[0m\u001b[0;34m\u001b[0m\u001b[0m\n",
            "\u001b[0;32m/usr/local/lib/python3.11/dist-packages/ultralytics/data/utils.py\u001b[0m in \u001b[0;36mcheck_det_dataset\u001b[0;34m(dataset, autodownload)\u001b[0m\n\u001b[1;32m    453\u001b[0m                 \u001b[0mm\u001b[0m \u001b[0;34m+=\u001b[0m \u001b[0;34mf\"\\nNote dataset download directory is '{DATASETS_DIR}'. You can update this in '{SETTINGS_FILE}'\"\u001b[0m\u001b[0;34m\u001b[0m\u001b[0;34m\u001b[0m\u001b[0m\n\u001b[0;32m--> 454\u001b[0;31m                 \u001b[0;32mraise\u001b[0m \u001b[0mFileNotFoundError\u001b[0m\u001b[0;34m(\u001b[0m\u001b[0mm\u001b[0m\u001b[0;34m)\u001b[0m\u001b[0;34m\u001b[0m\u001b[0;34m\u001b[0m\u001b[0m\n\u001b[0m\u001b[1;32m    455\u001b[0m             \u001b[0mt\u001b[0m \u001b[0;34m=\u001b[0m \u001b[0mtime\u001b[0m\u001b[0;34m.\u001b[0m\u001b[0mtime\u001b[0m\u001b[0;34m(\u001b[0m\u001b[0;34m)\u001b[0m\u001b[0;34m\u001b[0m\u001b[0;34m\u001b[0m\u001b[0m\n",
            "\u001b[0;31mFileNotFoundError\u001b[0m: Dataset 'data.yaml' images not found, missing path '/content/datasets/data/images/val'\nNote dataset download directory is '/content/datasets'. You can update this in '/root/.config/Ultralytics/settings.json'",
            "\nThe above exception was the direct cause of the following exception:\n",
            "\u001b[0;31mRuntimeError\u001b[0m                              Traceback (most recent call last)",
            "\u001b[0;32m<ipython-input-1-0ad7b55072ca>\u001b[0m in \u001b[0;36m<cell line: 0>\u001b[0;34m()\u001b[0m\n\u001b[1;32m     46\u001b[0m \u001b[0;34m\u001b[0m\u001b[0m\n\u001b[1;32m     47\u001b[0m \u001b[0mmodel\u001b[0m \u001b[0;34m=\u001b[0m \u001b[0mYOLO\u001b[0m\u001b[0;34m(\u001b[0m\u001b[0;34m'yolov8m.pt'\u001b[0m\u001b[0;34m)\u001b[0m  \u001b[0;31m# Use pretrained medium model\u001b[0m\u001b[0;34m\u001b[0m\u001b[0;34m\u001b[0m\u001b[0m\n\u001b[0;32m---> 48\u001b[0;31m \u001b[0mmodel\u001b[0m\u001b[0;34m.\u001b[0m\u001b[0mtrain\u001b[0m\u001b[0;34m(\u001b[0m\u001b[0mdata\u001b[0m\u001b[0;34m=\u001b[0m\u001b[0;34m'data.yaml'\u001b[0m\u001b[0;34m,\u001b[0m \u001b[0mepochs\u001b[0m\u001b[0;34m=\u001b[0m\u001b[0;36m50\u001b[0m\u001b[0;34m,\u001b[0m \u001b[0mimgsz\u001b[0m\u001b[0;34m=\u001b[0m\u001b[0;36m640\u001b[0m\u001b[0;34m,\u001b[0m \u001b[0mbatch\u001b[0m\u001b[0;34m=\u001b[0m\u001b[0;36m16\u001b[0m\u001b[0;34m)\u001b[0m\u001b[0;34m\u001b[0m\u001b[0;34m\u001b[0m\u001b[0m\n\u001b[0m\u001b[1;32m     49\u001b[0m \u001b[0;34m\u001b[0m\u001b[0m\n\u001b[1;32m     50\u001b[0m \u001b[0;31m# STEP 8: Evaluate the model\u001b[0m\u001b[0;34m\u001b[0m\u001b[0;34m\u001b[0m\u001b[0m\n",
            "\u001b[0;32m/usr/local/lib/python3.11/dist-packages/ultralytics/engine/model.py\u001b[0m in \u001b[0;36mtrain\u001b[0;34m(self, trainer, **kwargs)\u001b[0m\n\u001b[1;32m    785\u001b[0m             \u001b[0margs\u001b[0m\u001b[0;34m[\u001b[0m\u001b[0;34m\"resume\"\u001b[0m\u001b[0;34m]\u001b[0m \u001b[0;34m=\u001b[0m \u001b[0mself\u001b[0m\u001b[0;34m.\u001b[0m\u001b[0mckpt_path\u001b[0m\u001b[0;34m\u001b[0m\u001b[0;34m\u001b[0m\u001b[0m\n\u001b[1;32m    786\u001b[0m \u001b[0;34m\u001b[0m\u001b[0m\n\u001b[0;32m--> 787\u001b[0;31m         \u001b[0mself\u001b[0m\u001b[0;34m.\u001b[0m\u001b[0mtrainer\u001b[0m \u001b[0;34m=\u001b[0m \u001b[0;34m(\u001b[0m\u001b[0mtrainer\u001b[0m \u001b[0;32mor\u001b[0m \u001b[0mself\u001b[0m\u001b[0;34m.\u001b[0m\u001b[0m_smart_load\u001b[0m\u001b[0;34m(\u001b[0m\u001b[0;34m\"trainer\"\u001b[0m\u001b[0;34m)\u001b[0m\u001b[0;34m)\u001b[0m\u001b[0;34m(\u001b[0m\u001b[0moverrides\u001b[0m\u001b[0;34m=\u001b[0m\u001b[0margs\u001b[0m\u001b[0;34m,\u001b[0m \u001b[0m_callbacks\u001b[0m\u001b[0;34m=\u001b[0m\u001b[0mself\u001b[0m\u001b[0;34m.\u001b[0m\u001b[0mcallbacks\u001b[0m\u001b[0;34m)\u001b[0m\u001b[0;34m\u001b[0m\u001b[0;34m\u001b[0m\u001b[0m\n\u001b[0m\u001b[1;32m    788\u001b[0m         \u001b[0;32mif\u001b[0m \u001b[0;32mnot\u001b[0m \u001b[0margs\u001b[0m\u001b[0;34m.\u001b[0m\u001b[0mget\u001b[0m\u001b[0;34m(\u001b[0m\u001b[0;34m\"resume\"\u001b[0m\u001b[0;34m)\u001b[0m\u001b[0;34m:\u001b[0m  \u001b[0;31m# manually set model only if not resuming\u001b[0m\u001b[0;34m\u001b[0m\u001b[0;34m\u001b[0m\u001b[0m\n\u001b[1;32m    789\u001b[0m             \u001b[0mself\u001b[0m\u001b[0;34m.\u001b[0m\u001b[0mtrainer\u001b[0m\u001b[0;34m.\u001b[0m\u001b[0mmodel\u001b[0m \u001b[0;34m=\u001b[0m \u001b[0mself\u001b[0m\u001b[0;34m.\u001b[0m\u001b[0mtrainer\u001b[0m\u001b[0;34m.\u001b[0m\u001b[0mget_model\u001b[0m\u001b[0;34m(\u001b[0m\u001b[0mweights\u001b[0m\u001b[0;34m=\u001b[0m\u001b[0mself\u001b[0m\u001b[0;34m.\u001b[0m\u001b[0mmodel\u001b[0m \u001b[0;32mif\u001b[0m \u001b[0mself\u001b[0m\u001b[0;34m.\u001b[0m\u001b[0mckpt\u001b[0m \u001b[0;32melse\u001b[0m \u001b[0;32mNone\u001b[0m\u001b[0;34m,\u001b[0m \u001b[0mcfg\u001b[0m\u001b[0;34m=\u001b[0m\u001b[0mself\u001b[0m\u001b[0;34m.\u001b[0m\u001b[0mmodel\u001b[0m\u001b[0;34m.\u001b[0m\u001b[0myaml\u001b[0m\u001b[0;34m)\u001b[0m\u001b[0;34m\u001b[0m\u001b[0;34m\u001b[0m\u001b[0m\n",
            "\u001b[0;32m/usr/local/lib/python3.11/dist-packages/ultralytics/engine/trainer.py\u001b[0m in \u001b[0;36m__init__\u001b[0;34m(self, cfg, overrides, _callbacks)\u001b[0m\n\u001b[1;32m    135\u001b[0m         \u001b[0mself\u001b[0m\u001b[0;34m.\u001b[0m\u001b[0mmodel\u001b[0m \u001b[0;34m=\u001b[0m \u001b[0mcheck_model_file_from_stem\u001b[0m\u001b[0;34m(\u001b[0m\u001b[0mself\u001b[0m\u001b[0;34m.\u001b[0m\u001b[0margs\u001b[0m\u001b[0;34m.\u001b[0m\u001b[0mmodel\u001b[0m\u001b[0;34m)\u001b[0m  \u001b[0;31m# add suffix, i.e. yolo11n -> yolo11n.pt\u001b[0m\u001b[0;34m\u001b[0m\u001b[0;34m\u001b[0m\u001b[0m\n\u001b[1;32m    136\u001b[0m         \u001b[0;32mwith\u001b[0m \u001b[0mtorch_distributed_zero_first\u001b[0m\u001b[0;34m(\u001b[0m\u001b[0mLOCAL_RANK\u001b[0m\u001b[0;34m)\u001b[0m\u001b[0;34m:\u001b[0m  \u001b[0;31m# avoid auto-downloading dataset multiple times\u001b[0m\u001b[0;34m\u001b[0m\u001b[0;34m\u001b[0m\u001b[0m\n\u001b[0;32m--> 137\u001b[0;31m             \u001b[0mself\u001b[0m\u001b[0;34m.\u001b[0m\u001b[0mdata\u001b[0m \u001b[0;34m=\u001b[0m \u001b[0mself\u001b[0m\u001b[0;34m.\u001b[0m\u001b[0mget_dataset\u001b[0m\u001b[0;34m(\u001b[0m\u001b[0;34m)\u001b[0m\u001b[0;34m\u001b[0m\u001b[0;34m\u001b[0m\u001b[0m\n\u001b[0m\u001b[1;32m    138\u001b[0m \u001b[0;34m\u001b[0m\u001b[0m\n\u001b[1;32m    139\u001b[0m         \u001b[0mself\u001b[0m\u001b[0;34m.\u001b[0m\u001b[0mema\u001b[0m \u001b[0;34m=\u001b[0m \u001b[0;32mNone\u001b[0m\u001b[0;34m\u001b[0m\u001b[0;34m\u001b[0m\u001b[0m\n",
            "\u001b[0;32m/usr/local/lib/python3.11/dist-packages/ultralytics/engine/trainer.py\u001b[0m in \u001b[0;36mget_dataset\u001b[0;34m(self)\u001b[0m\n\u001b[1;32m    589\u001b[0m                     \u001b[0mself\u001b[0m\u001b[0;34m.\u001b[0m\u001b[0margs\u001b[0m\u001b[0;34m.\u001b[0m\u001b[0mdata\u001b[0m \u001b[0;34m=\u001b[0m \u001b[0mdata\u001b[0m\u001b[0;34m[\u001b[0m\u001b[0;34m\"yaml_file\"\u001b[0m\u001b[0;34m]\u001b[0m  \u001b[0;31m# for validating 'yolo train data=url.zip' usage\u001b[0m\u001b[0;34m\u001b[0m\u001b[0;34m\u001b[0m\u001b[0m\n\u001b[1;32m    590\u001b[0m         \u001b[0;32mexcept\u001b[0m \u001b[0mException\u001b[0m \u001b[0;32mas\u001b[0m \u001b[0me\u001b[0m\u001b[0;34m:\u001b[0m\u001b[0;34m\u001b[0m\u001b[0;34m\u001b[0m\u001b[0m\n\u001b[0;32m--> 591\u001b[0;31m             \u001b[0;32mraise\u001b[0m \u001b[0mRuntimeError\u001b[0m\u001b[0;34m(\u001b[0m\u001b[0memojis\u001b[0m\u001b[0;34m(\u001b[0m\u001b[0;34mf\"Dataset '{clean_url(self.args.data)}' error ❌ {e}\"\u001b[0m\u001b[0;34m)\u001b[0m\u001b[0;34m)\u001b[0m \u001b[0;32mfrom\u001b[0m \u001b[0me\u001b[0m\u001b[0;34m\u001b[0m\u001b[0;34m\u001b[0m\u001b[0m\n\u001b[0m\u001b[1;32m    592\u001b[0m         \u001b[0;32mif\u001b[0m \u001b[0mself\u001b[0m\u001b[0;34m.\u001b[0m\u001b[0margs\u001b[0m\u001b[0;34m.\u001b[0m\u001b[0msingle_cls\u001b[0m\u001b[0;34m:\u001b[0m\u001b[0;34m\u001b[0m\u001b[0;34m\u001b[0m\u001b[0m\n\u001b[1;32m    593\u001b[0m             \u001b[0mLOGGER\u001b[0m\u001b[0;34m.\u001b[0m\u001b[0minfo\u001b[0m\u001b[0;34m(\u001b[0m\u001b[0;34m\"Overriding class names with single class.\"\u001b[0m\u001b[0;34m)\u001b[0m\u001b[0;34m\u001b[0m\u001b[0;34m\u001b[0m\u001b[0m\n",
            "\u001b[0;31mRuntimeError\u001b[0m: Dataset 'data.yaml' error ❌ Dataset 'data.yaml' images not found, missing path '/content/datasets/data/images/val'\nNote dataset download directory is '/content/datasets'. You can update this in '/root/.config/Ultralytics/settings.json'"
          ]
        }
      ]
    },
    {
      "cell_type": "code",
      "source": [
        "!pip install soccernet"
      ],
      "metadata": {
        "id": "XmkYQrKdD5G_",
        "colab": {
          "base_uri": "https://localhost:8080/"
        },
        "outputId": "147789ed-ff23-4844-ab56-18ec4441574e"
      },
      "execution_count": 30,
      "outputs": [
        {
          "output_type": "stream",
          "name": "stdout",
          "text": [
            "Collecting soccernet\n",
            "  Downloading SoccerNet-0.1.62-py3-none-any.whl.metadata (13 kB)\n",
            "Requirement already satisfied: tqdm in /usr/local/lib/python3.11/dist-packages (from soccernet) (4.67.1)\n",
            "Collecting scikit-video (from soccernet)\n",
            "  Downloading scikit_video-1.1.11-py2.py3-none-any.whl.metadata (1.1 kB)\n",
            "Requirement already satisfied: matplotlib in /usr/local/lib/python3.11/dist-packages (from soccernet) (3.10.0)\n",
            "Collecting google-measurement-protocol (from soccernet)\n",
            "  Downloading google_measurement_protocol-1.1.0-py2.py3-none-any.whl.metadata (845 bytes)\n",
            "Collecting pycocoevalcap (from soccernet)\n",
            "  Downloading pycocoevalcap-1.2-py3-none-any.whl.metadata (3.2 kB)\n",
            "Requirement already satisfied: huggingface_hub[cli] in /usr/local/lib/python3.11/dist-packages (from soccernet) (0.31.1)\n",
            "Collecting boto3 (from soccernet)\n",
            "  Downloading boto3-1.38.16-py3-none-any.whl.metadata (6.6 kB)\n",
            "Collecting botocore<1.39.0,>=1.38.16 (from boto3->soccernet)\n",
            "  Downloading botocore-1.38.16-py3-none-any.whl.metadata (5.7 kB)\n",
            "Collecting jmespath<2.0.0,>=0.7.1 (from boto3->soccernet)\n",
            "  Downloading jmespath-1.0.1-py3-none-any.whl.metadata (7.6 kB)\n",
            "Collecting s3transfer<0.13.0,>=0.12.0 (from boto3->soccernet)\n",
            "  Downloading s3transfer-0.12.0-py3-none-any.whl.metadata (1.7 kB)\n",
            "Requirement already satisfied: requests<3.0a0,>=2.0 in /usr/local/lib/python3.11/dist-packages (from google-measurement-protocol->soccernet) (2.32.3)\n",
            "Collecting prices>=1.0.0 (from google-measurement-protocol->soccernet)\n",
            "  Downloading prices-1.1.1-py3-none-any.whl.metadata (2.8 kB)\n",
            "Requirement already satisfied: filelock in /usr/local/lib/python3.11/dist-packages (from huggingface_hub[cli]->soccernet) (3.18.0)\n",
            "Requirement already satisfied: fsspec>=2023.5.0 in /usr/local/lib/python3.11/dist-packages (from huggingface_hub[cli]->soccernet) (2025.3.2)\n",
            "Requirement already satisfied: packaging>=20.9 in /usr/local/lib/python3.11/dist-packages (from huggingface_hub[cli]->soccernet) (24.2)\n",
            "Requirement already satisfied: pyyaml>=5.1 in /usr/local/lib/python3.11/dist-packages (from huggingface_hub[cli]->soccernet) (6.0.2)\n",
            "Requirement already satisfied: typing-extensions>=3.7.4.3 in /usr/local/lib/python3.11/dist-packages (from huggingface_hub[cli]->soccernet) (4.13.2)\n",
            "Requirement already satisfied: hf-xet<2.0.0,>=1.1.0 in /usr/local/lib/python3.11/dist-packages (from huggingface_hub[cli]->soccernet) (1.1.0)\n",
            "Collecting InquirerPy==0.3.4 (from huggingface_hub[cli]->soccernet)\n",
            "  Downloading InquirerPy-0.3.4-py3-none-any.whl.metadata (8.1 kB)\n",
            "Collecting pfzy<0.4.0,>=0.3.1 (from InquirerPy==0.3.4->huggingface_hub[cli]->soccernet)\n",
            "  Downloading pfzy-0.3.4-py3-none-any.whl.metadata (4.9 kB)\n",
            "Requirement already satisfied: prompt-toolkit<4.0.0,>=3.0.1 in /usr/local/lib/python3.11/dist-packages (from InquirerPy==0.3.4->huggingface_hub[cli]->soccernet) (3.0.51)\n",
            "Requirement already satisfied: contourpy>=1.0.1 in /usr/local/lib/python3.11/dist-packages (from matplotlib->soccernet) (1.3.2)\n",
            "Requirement already satisfied: cycler>=0.10 in /usr/local/lib/python3.11/dist-packages (from matplotlib->soccernet) (0.12.1)\n",
            "Requirement already satisfied: fonttools>=4.22.0 in /usr/local/lib/python3.11/dist-packages (from matplotlib->soccernet) (4.57.0)\n",
            "Requirement already satisfied: kiwisolver>=1.3.1 in /usr/local/lib/python3.11/dist-packages (from matplotlib->soccernet) (1.4.8)\n",
            "Requirement already satisfied: numpy>=1.23 in /usr/local/lib/python3.11/dist-packages (from matplotlib->soccernet) (2.0.2)\n",
            "Requirement already satisfied: pillow>=8 in /usr/local/lib/python3.11/dist-packages (from matplotlib->soccernet) (11.2.1)\n",
            "Requirement already satisfied: pyparsing>=2.3.1 in /usr/local/lib/python3.11/dist-packages (from matplotlib->soccernet) (3.2.3)\n",
            "Requirement already satisfied: python-dateutil>=2.7 in /usr/local/lib/python3.11/dist-packages (from matplotlib->soccernet) (2.9.0.post0)\n",
            "Requirement already satisfied: pycocotools>=2.0.2 in /usr/local/lib/python3.11/dist-packages (from pycocoevalcap->soccernet) (2.0.8)\n",
            "Requirement already satisfied: scipy in /usr/local/lib/python3.11/dist-packages (from scikit-video->soccernet) (1.15.3)\n",
            "Requirement already satisfied: urllib3!=2.2.0,<3,>=1.25.4 in /usr/local/lib/python3.11/dist-packages (from botocore<1.39.0,>=1.38.16->boto3->soccernet) (2.4.0)\n",
            "Requirement already satisfied: babel>=2.5.0 in /usr/local/lib/python3.11/dist-packages (from prices>=1.0.0->google-measurement-protocol->soccernet) (2.17.0)\n",
            "Requirement already satisfied: six>=1.5 in /usr/local/lib/python3.11/dist-packages (from python-dateutil>=2.7->matplotlib->soccernet) (1.17.0)\n",
            "Requirement already satisfied: charset-normalizer<4,>=2 in /usr/local/lib/python3.11/dist-packages (from requests<3.0a0,>=2.0->google-measurement-protocol->soccernet) (3.4.2)\n",
            "Requirement already satisfied: idna<4,>=2.5 in /usr/local/lib/python3.11/dist-packages (from requests<3.0a0,>=2.0->google-measurement-protocol->soccernet) (3.10)\n",
            "Requirement already satisfied: certifi>=2017.4.17 in /usr/local/lib/python3.11/dist-packages (from requests<3.0a0,>=2.0->google-measurement-protocol->soccernet) (2025.4.26)\n",
            "Requirement already satisfied: wcwidth in /usr/local/lib/python3.11/dist-packages (from prompt-toolkit<4.0.0,>=3.0.1->InquirerPy==0.3.4->huggingface_hub[cli]->soccernet) (0.2.13)\n",
            "Downloading SoccerNet-0.1.62-py3-none-any.whl (86 kB)\n",
            "\u001b[2K   \u001b[90m━━━━━━━━━━━━━━━━━━━━━━━━━━━━━━━━━━━━━━━━\u001b[0m \u001b[32m86.9/86.9 kB\u001b[0m \u001b[31m6.0 MB/s\u001b[0m eta \u001b[36m0:00:00\u001b[0m\n",
            "\u001b[?25hDownloading boto3-1.38.16-py3-none-any.whl (139 kB)\n",
            "\u001b[2K   \u001b[90m━━━━━━━━━━━━━━━━━━━━━━━━━━━━━━━━━━━━━━━━\u001b[0m \u001b[32m139.9/139.9 kB\u001b[0m \u001b[31m10.4 MB/s\u001b[0m eta \u001b[36m0:00:00\u001b[0m\n",
            "\u001b[?25hDownloading google_measurement_protocol-1.1.0-py2.py3-none-any.whl (5.9 kB)\n",
            "Downloading InquirerPy-0.3.4-py3-none-any.whl (67 kB)\n",
            "\u001b[2K   \u001b[90m━━━━━━━━━━━━━━━━━━━━━━━━━━━━━━━━━━━━━━━━\u001b[0m \u001b[32m67.7/67.7 kB\u001b[0m \u001b[31m6.3 MB/s\u001b[0m eta \u001b[36m0:00:00\u001b[0m\n",
            "\u001b[?25hDownloading pycocoevalcap-1.2-py3-none-any.whl (104.3 MB)\n",
            "\u001b[2K   \u001b[90m━━━━━━━━━━━━━━━━━━━━━━━━━━━━━━━━━━━━━━━━\u001b[0m \u001b[32m104.3/104.3 MB\u001b[0m \u001b[31m13.2 MB/s\u001b[0m eta \u001b[36m0:00:00\u001b[0m\n",
            "\u001b[?25hDownloading scikit_video-1.1.11-py2.py3-none-any.whl (2.3 MB)\n",
            "\u001b[2K   \u001b[90m━━━━━━━━━━━━━━━━━━━━━━━━━━━━━━━━━━━━━━━━\u001b[0m \u001b[32m2.3/2.3 MB\u001b[0m \u001b[31m92.6 MB/s\u001b[0m eta \u001b[36m0:00:00\u001b[0m\n",
            "\u001b[?25hDownloading botocore-1.38.16-py3-none-any.whl (13.6 MB)\n",
            "\u001b[2K   \u001b[90m━━━━━━━━━━━━━━━━━━━━━━━━━━━━━━━━━━━━━━━━\u001b[0m \u001b[32m13.6/13.6 MB\u001b[0m \u001b[31m121.3 MB/s\u001b[0m eta \u001b[36m0:00:00\u001b[0m\n",
            "\u001b[?25hDownloading jmespath-1.0.1-py3-none-any.whl (20 kB)\n",
            "Downloading prices-1.1.1-py3-none-any.whl (9.5 kB)\n",
            "Downloading s3transfer-0.12.0-py3-none-any.whl (84 kB)\n",
            "\u001b[2K   \u001b[90m━━━━━━━━━━━━━━━━━━━━━━━━━━━━━━━━━━━━━━━━\u001b[0m \u001b[32m84.8/84.8 kB\u001b[0m \u001b[31m8.1 MB/s\u001b[0m eta \u001b[36m0:00:00\u001b[0m\n",
            "\u001b[?25hDownloading pfzy-0.3.4-py3-none-any.whl (8.5 kB)\n",
            "Installing collected packages: prices, pfzy, jmespath, scikit-video, InquirerPy, google-measurement-protocol, botocore, s3transfer, pycocoevalcap, boto3, soccernet\n",
            "Successfully installed InquirerPy-0.3.4 boto3-1.38.16 botocore-1.38.16 google-measurement-protocol-1.1.0 jmespath-1.0.1 pfzy-0.3.4 prices-1.1.1 pycocoevalcap-1.2 s3transfer-0.12.0 scikit-video-1.1.11 soccernet-0.1.62\n"
          ]
        }
      ]
    },
    {
      "cell_type": "code",
      "source": [
        "from SoccerNet.Downloader import SoccerNetDownloader\n",
        "mySoccerNetDownloader = SoccerNetDownloader(LocalDirectory=\"\")\n",
        "mySoccerNetDownloader.downloadDataTask(task=\"gamestate-2024\",\n",
        "                                        split=[\"train\", \"valid\"])"
      ],
      "metadata": {
        "colab": {
          "base_uri": "https://localhost:8080/"
        },
        "id": "UjElMJCEOGks",
        "outputId": "f0167028-ac88-4571-cce2-dc9d0965be77"
      },
      "execution_count": null,
      "outputs": [
        {
          "output_type": "stream",
          "name": "stderr",
          "text": [
            "Downloading gamestate-2024/train.zip...: : 9.76GiB [14:34, 11.2MiB/s]                         \n",
            "Downloading gamestate-2024/valid.zip...:  48%|████▊     | 5.35G/11.2G [19:41<38:02, 2.55MiB/s]"
          ]
        }
      ]
    },
    {
      "cell_type": "code",
      "source": [
        "!rm -rf train test valid"
      ],
      "metadata": {
        "id": "PjrCC4zbTr-p"
      },
      "execution_count": null,
      "outputs": []
    },
    {
      "cell_type": "code",
      "source": [
        "!mkdir dataset\n",
        "!cd dataset | mkdir train valid"
      ],
      "metadata": {
        "id": "-bPFV-0kOxQ4"
      },
      "execution_count": null,
      "outputs": []
    },
    {
      "cell_type": "code",
      "source": [
        "!rm data.yaml"
      ],
      "metadata": {
        "id": "aLKNdUwVQ13K"
      },
      "execution_count": null,
      "outputs": []
    },
    {
      "cell_type": "code",
      "source": [
        "from pathlib import Path\n",
        "import json\n",
        "import shutil\n",
        "def get_segmentation_from_single_side(annotations, side=\"left\", default_offset=0.05):\n",
        "    \"\"\"\n",
        "    Creates a closed polygon for a single side goal (e.g., the left side)\n",
        "    from the given annotations. It expects the following keys:\n",
        "      - \"Goal {side} post left\": two points (top and bottom of the post)\n",
        "      - \"Goal {side} post right\": two points (top and bottom of the post)\n",
        "      - \"Goal {side} crossbar\": two points (defining the crossbar)\n",
        "\n",
        "    If one of the goalpost sides is missing, the function uses a default offset\n",
        "    from the available post. The polygon is defined by:\n",
        "      1. Top-left   : first point of the crossbar.\n",
        "      2. Top-right  : second point of the crossbar.\n",
        "      3. Bottom-right: second point of \"Goal {side} post right\".\n",
        "      4. Bottom-left : second point of \"Goal {side} post left\".\n",
        "\n",
        "    Parameters:\n",
        "      annotations: dict containing the key segments.\n",
        "      side: which side to process (e.g., \"left\")\n",
        "      default_offset: a horizontal offset used to fill in missing posts.\n",
        "\n",
        "    Returns:\n",
        "      A list of (x, y) tuples that define the polygon.\n",
        "\n",
        "    Raises:\n",
        "      ValueError if critical parts (like the crossbar or both posts) are missing.\n",
        "    \"\"\"\n",
        "    # Fetch the segments from the annotations.\n",
        "    post_left = annotations.get(f\"Goal {side} post left\")\n",
        "    post_right = annotations.get(f\"Goal {side} post right\")\n",
        "    crossbar = annotations.get(f\"Goal {side} crossbar\")\n",
        "\n",
        "    # Crossbar is mandatory\n",
        "    if not crossbar:\n",
        "        raise ValueError(f\"Missing 'Goal {side} crossbar'; cannot form segmentation.\")\n",
        "\n",
        "    # If one of the posts is missing, try to compute it using the available post.\n",
        "    if post_left is None and post_right is not None:\n",
        "        post_left = [{\"x\": pt[\"x\"] - default_offset, \"y\": pt[\"y\"]} for pt in post_right]\n",
        "    elif post_right is None and post_left is not None:\n",
        "        post_right = [{\"x\": pt[\"x\"] + default_offset, \"y\": pt[\"y\"]} for pt in post_left]\n",
        "    # If both posts are missing, there's nothing we can do.\n",
        "    elif post_left is None and post_right is None:\n",
        "        raise ValueError(f\"Both posts for side '{side}' are missing.\")\n",
        "\n",
        "    # Now assume each post list contains at least two points.\n",
        "    try:\n",
        "        top_left = (crossbar[0][\"x\"], crossbar[0][\"y\"])\n",
        "        top_right = (crossbar[1][\"x\"], crossbar[1][\"y\"])\n",
        "        bottom_right = (post_right[1][\"x\"], post_right[1][\"y\"])\n",
        "        bottom_left = (post_left[1][\"x\"], post_left[1][\"y\"])\n",
        "    except (IndexError, KeyError, TypeError) as e:\n",
        "        raise ValueError(f\"Error accessing expected points for side '{side}': {e}\")\n",
        "\n",
        "    # Define the polygon points in an order (clockwise or counterclockwise) that forms a valid polygon.\n",
        "    polygon_points = [top_left, top_right, bottom_right, bottom_left]\n",
        "    return polygon_points\n",
        "\n",
        "def flatten_points(points):\n",
        "    \"\"\"\n",
        "    Flattens a list of (x, y) tuples into a single list.\n",
        "    Example: [(x1, y1), (x2, y2), ...] → [x1, y1, x2, y2, ...]\n",
        "    \"\"\"\n",
        "    return [coord for point in points for coord in point]\n",
        "\n",
        "def create_coco_segmentation(annotations, side=\"left\", default_offset=0.05):\n",
        "    \"\"\"\n",
        "    Processes the annotations for a single goalpost side and returns the segmentation\n",
        "    in COCO format. The segmentation is a list of a single list (flattened polygon).\n",
        "\n",
        "    If any segment is missing, it will try to handle it with default heuristics.\n",
        "    \"\"\"\n",
        "    try:\n",
        "        polygon_points = get_segmentation_from_single_side(annotations, side, default_offset)\n",
        "        segmentation = [flatten_points(polygon_points)]\n",
        "        return segmentation\n",
        "    except ValueError as e:\n",
        "        # Handle the error appropriately (you might log it, return a default value, or re-raise)\n",
        "        print(f\"Error creating segmentation for side '{side}': {e}\")\n",
        "        return None\n",
        "\n",
        "\n",
        "# Set base directory where all sequence subfolders are located\n",
        "base_dir = Path(r'D://footydj/data/train')\n",
        "dataset_dir = Path('dataset/train')\n",
        "\n",
        "# Automatically collect all sequence directories\n",
        "sequence_dirs = [d for d in base_dir.iterdir() if d.is_dir()]\n",
        "print(f\"📁 Found sequence directories: {[d.name for d in sequence_dirs]}\")\n",
        "\n",
        "# Prepare master dictionary to merge all sequences\n",
        "combined_data = {\n",
        "    'info': None,\n",
        "    'images': [],\n",
        "    'annotations': [],\n",
        "    'categories': None,\n",
        "    'events': []  # Added for event mapping\n",
        "}\n",
        "\n",
        "# Maintain offset to avoid ID collisions\n",
        "image_id_offset = 0\n",
        "annotation_id_offset = 0\n",
        "\n",
        "# Process each sequence directory\n",
        "for seq_dir in sequence_dirs:\n",
        "    seq_name = seq_dir.name\n",
        "    label_path = seq_dir / 'Labels-GameState.json'\n",
        "\n",
        "    if not label_path.exists():\n",
        "        print(f\"⚠️ Warning: {label_path} not found. Skipping '{seq_name}'.\")\n",
        "        continue\n",
        "\n",
        "    print(f\"✅ Processing: {label_path}\")\n",
        "    with label_path.open('r') as f:\n",
        "        seq_data = json.load(f)\n",
        "\n",
        "    # Save info and categories from the first valid sequence\n",
        "    if combined_data['info'] is None:\n",
        "        combined_data['info'] = seq_data['info']\n",
        "        combined_data['categories'] = seq_data['categories']\n",
        "    elif seq_data['categories'] != combined_data['categories']:\n",
        "        print(f\"⚠️ Warning: Category mismatch in {seq_name}. Using the first sequence’s categories.\")\n",
        "\n",
        "    # Extract event information.  Handles missing key.\n",
        "    event = seq_data['info'].get('action_class', None)  # Get event, None if missing.\n",
        "    if event is not None:\n",
        "        combined_data['events'].append({\n",
        "            'sequence_name': seq_name,\n",
        "            'event': event\n",
        "        })\n",
        "\n",
        "    # Update image file names and IDs\n",
        "    for img in seq_data['images']:\n",
        "        img['image_id'] = str(int(img['image_id']) + image_id_offset)\n",
        "        img['file_name'] = str(Path(seq_name) / seq_data['info']['im_dir'] / img['file_name'])\n",
        "        combined_data['images'].append(img)\n",
        "\n",
        "    # Update annotation IDs\n",
        "    for ann in seq_data['annotations']:\n",
        "        ann['id'] = str(int(ann['id']) + annotation_id_offset)\n",
        "        ann['image_id'] = str(int(ann['image_id']) + image_id_offset)\n",
        "        combined_data['annotations'].append(ann)\n",
        "\n",
        "    image_id_offset += max(int(img['image_id']) for img in seq_data['images']) + 1\n",
        "    annotation_id_offset += max(int(ann['id']) for ann in seq_data['annotations']) + 1\n",
        "print(combined_data['categories'])\n",
        "# Create output directories for YOLO\n",
        "for subdir in ['images', 'labels']:\n",
        "    (dataset_dir / subdir).mkdir(parents=True, exist_ok=True)\n",
        "\n",
        "# Copy all images into one YOLO-style 'images' folder\n",
        "print(\"🖼 Copying images to YOLO format directory...\")\n",
        "last_dst = None\n",
        "lid=0\n",
        "for img in combined_data['images']:\n",
        "    #global lid\n",
        "    src_path = base_dir / img['file_name']\n",
        "    lid += 1\n",
        "    dst_filename = \"{:06}\".format(lid) + \".jpg\"\n",
        "    print(f\"Iterating {dst_filename}\")\n",
        "    dst_path = dataset_dir / 'images' / dst_filename\n",
        "    img['file_name'] = dst_filename\n",
        "    shutil.move(src_path, dst_path)\n",
        "# if last_dst:  # print the last copied image.\n",
        "#     print(f\"✔️ {last_dst.name} copied.\")\n",
        "\n",
        "# Build image dimension map\n",
        "image_dims = {img['image_id']: (img['width'], img['height']) for img in combined_data['images']}\n",
        "key_rem=[\"Goal left post right\",\"Goal left post left\",\n",
        "                 \"Goal right post right\",\"Goal right post left\"]\n",
        "# Prepare category mappings\n",
        "pitch_liness = next(cat['lines'] for cat in combined_data['categories'] if cat['id'] == 5 )\n",
        "pitch_lines=[]\n",
        "for i in pitch_liness:\n",
        "    if i not in key_rem:\n",
        "        pitch_lines.append(i)\n",
        "line_to_id = {line: idx for idx, line in enumerate(pitch_lines) }\n",
        "print(line_to_id)\n",
        "#exit(0)\n",
        "\n",
        "# Build mapping from annotation ID to player info\n",
        "ann_by_image = {}\n",
        "\n",
        "for ann in combined_data['annotations']:\n",
        "    img_id = ann['image_id']\n",
        "    ann_by_image.setdefault(img_id, []).append(ann)\n",
        "print(\"Combined data loaded..\")\n",
        "# Generate YOLO label and pitch data files\n",
        "for img in combined_data['images']:\n",
        "    img_id = img['image_id']\n",
        "    width, height = image_dims[img_id]\n",
        "    base_filename = Path(img['file_name']).stem  # Use Pathlib for filename extraction\n",
        "\n",
        "    label_path = dataset_dir / 'labels' / (base_filename + '.txt')\n",
        "    #pitch_path = dataset_dir / 'pitch' / (base_filename + '.txt')\n",
        "\n",
        "    with label_path.open('w') as lf:\n",
        "        for ann in ann_by_image.get(img_id, []):\n",
        "            if ann['category_id'] == 5:  # Pitch\n",
        "                for line_type, keypoints in ann.get('lines', {}).items():\n",
        "                    if line_type in line_to_id:\n",
        "                        if line_type in [\"Goal left post right\",\"Goal left post left\",\n",
        "                                         \"Goal right post right\",\"Goal right post left\"]:\n",
        "                            continue\n",
        "                        elif line_type==\"Goal left crossbar\":\n",
        "                            try:\n",
        "                                kpys=create_coco_segmentation(ann.get('lines', {}), side=\"left\", default_offset=0.00)[0]\n",
        "                            except:\n",
        "                                print(f\"Error on left post: {label_path}\")\n",
        "                                continue\n",
        "                            line_data = \" \".join(\n",
        "                                [f\"{kp} \" for kp in kpys])  # Format keypoints in one line\n",
        "                            lf.write(f\"{line_to_id[line_type]} {line_data}\")  # Write all keypoints in a single operation\n",
        "                            lf.write(\"\\n\")\n",
        "                            continue\n",
        "                        elif line_type==\"Goal right crossbar\":\n",
        "                            try:\n",
        "                                kpys=create_coco_segmentation(ann.get('lines', {}), side=\"right\", default_offset=0.00)[0]\n",
        "                            except:\n",
        "                                print(f\"Error on right post: {label_path}\")\n",
        "                                continue\n",
        "                            line_data = \" \".join(\n",
        "                                [f\"{kp} \" for kp in kpys])  # Format keypoints in one line\n",
        "                            lf.write(f\"{line_to_id[line_type]} {line_data}\")  # Write all keypoints in a single operation\n",
        "                            lf.write(\"\\n\")\n",
        "                            continue\n",
        "\n",
        "                        # points=[\n",
        "                        #     (kp['x'] / width, kp['y'] / height) for kp in keypoints\n",
        "                        # ]\n",
        "                        #lf.write(f\"{line_to_id[line_type]}\")  # Writing the initial identifier\n",
        "\n",
        "                        line_data = \" \".join(\n",
        "                            [f\"{kp['x']:.6f} {kp['y']:.6f}\" for kp in keypoints])  # Format keypoints in one line\n",
        "                        lf.write(f\"{line_to_id[line_type]} {line_data}\")  # Write all keypoints in a single operation\n",
        "                        lf.write(\"\\n\")\n",
        "                        #print(f\"line {line_type} {kp['x']:.6f} {kp['y']:.6f}\\n\")\n",
        "                print(f\"Done Writing {label_path} for image ID {img_id}\")\n",
        "print(\"🎉 YOLO pitch line segmentation data preparation completed successfully!\")\n",
        "print(list(line_to_id.keys()))"
      ],
      "metadata": {
        "id": "Q_CgbWDHS8Hd"
      },
      "execution_count": null,
      "outputs": []
    },
    {
      "cell_type": "code",
      "source": [
        "from pathlib import Path\n",
        "\n",
        "# Directory containing the label files\n",
        "labels_dir = Path(r'D:\\pitch_mapping\\segementation_3_1cls\\dataset\\train\\labels')\n",
        "#labels_dir = Path(r'D:\\pitch_mapping\\segementation_3_1cls\\dataset\\valid\\labels')\n",
        "\n",
        "# List of affected image filenames (without .jpg extension)\n",
        "affected_images = [f\"{i:06d}\" for i in range(6655, 6741)]  # 006655 to 006740 for train\n",
        "#affected_images = [f\"{i:06d}\" for i in range(34450, 34454)]  # 034450 to 034453 for valid\n",
        "\n",
        "# Process each .txt file\n",
        "for img_name in affected_images:\n",
        "    txt_file = labels_dir / f\"{img_name}.txt\"\n",
        "    if not txt_file.exists():\n",
        "        print(f\"Label file {txt_file} not found.\")\n",
        "        continue\n",
        "\n",
        "    # Read the current labels\n",
        "    with open(txt_file, 'r') as f:\n",
        "        lines = f.readlines()\n",
        "\n",
        "    # Process each line and adjust only coordinates > 1.0\n",
        "    new_lines = []\n",
        "    for line in lines:\n",
        "        values = line.strip().split()\n",
        "        # if len(values) < 5:\n",
        "        #     print(f\"Invalid line in {txt_file}: {line}\")\n",
        "        #     continue\n",
        "\n",
        "        class_id = values[0]\n",
        "        coords = [float(v) for v in values[1:]]  # x_center, y_center, width, height\n",
        "\n",
        "        # Adjust only coordinates > 1.0 to 1.00000, leave others unchanged\n",
        "        adjusted_coords = []\n",
        "        for coord in coords:\n",
        "            if coord > 1.0:\n",
        "                adjusted_coords.append(1.00000)  # Set to 1.00000\n",
        "                print(f\"Adjusted coordinate in {txt_file}: {coord} -> 1.00000\")\n",
        "            elif coord <0.0:\n",
        "                adjusted_coords.append(0.00000)  # Set to 0.00000\n",
        "                print(f\"Adjusted coordinate in {txt_file}: {coord} -> 0.00000\")\n",
        "            else:\n",
        "                adjusted_coords.append(coord)  # Keep original value\n",
        "\n",
        "        # Convert coordinates back to strings, preserving original precision for unaffected coords\n",
        "        coord_strings = []\n",
        "        for orig, adj in zip(values[1:], adjusted_coords):\n",
        "            if adj == 1.00000:  # If adjusted, use 1.00000 format\n",
        "                coord_strings.append(\"1.000000\")\n",
        "            elif adj==0.00000:  # If adjusted, use 0.00000 format\n",
        "                coord_strings.append(\"0.000000\")\n",
        "            else:  # Keep original string to preserve precision\n",
        "                coord_strings.append(orig)\n",
        "\n",
        "        # Create new line\n",
        "        new_line = f\"{class_id} {' '.join(coord_strings)}\\n\"\n",
        "        new_lines.append(new_line)\n",
        "\n",
        "    # Write back to the file\n",
        "    with open(txt_file, 'w') as f:\n",
        "        f.writelines(new_lines)\n",
        "    print(f\"Processed {txt_file}.\")\n",
        "\n",
        "# Verify one file (e.g., 006656.txt) to confirm changes\n",
        "with open(labels_dir / '006656.txt', 'r') as f:\n",
        "    print(f\"Updated content of 006656.txt:\\n{f.read()}\")"
      ],
      "metadata": {
        "id": "f9eXFTcTTXfG"
      },
      "execution_count": null,
      "outputs": []
    },
    {
      "cell_type": "code",
      "source": [
        "!ls"
      ],
      "metadata": {
        "colab": {
          "base_uri": "https://localhost:8080/"
        },
        "id": "o4e-f2XUDIXG",
        "outputId": "2b24e05b-7dd2-418b-abdb-447393f9be94"
      },
      "execution_count": 16,
      "outputs": [
        {
          "output_type": "stream",
          "name": "stdout",
          "text": [
            "data.yaml\t\t\t\tREADME.roboflow.txt  test   yolov8m.pt\n",
            "football-soccer-ball-detection-dfl.zip\truns\t\t     train\n",
            "README.dataset.txt\t\t\tsample_data\t     valid\n"
          ]
        }
      ]
    },
    {
      "cell_type": "code",
      "source": [
        "!unzip football-soccer-ball-detection-dfl.zip"
      ],
      "metadata": {
        "colab": {
          "base_uri": "https://localhost:8080/"
        },
        "id": "zDapDtjED6Va",
        "outputId": "508f0a24-f875-4a96-df34-1a4f29233af4"
      },
      "execution_count": 15,
      "outputs": [
        {
          "output_type": "stream",
          "name": "stdout",
          "text": [
            "Archive:  football-soccer-ball-detection-dfl.zip\n",
            "replace README.dataset.txt? [y]es, [n]o, [A]ll, [N]one, [r]ename: y\n",
            "  inflating: README.dataset.txt      \n",
            "replace README.roboflow.txt? [y]es, [n]o, [A]ll, [N]one, [r]ename: a\n",
            "error:  invalid response [a]\n",
            "replace README.roboflow.txt? [y]es, [n]o, [A]ll, [N]one, [r]ename: A\n",
            "  inflating: README.roboflow.txt     \n",
            "  inflating: data.yaml               \n",
            "  inflating: test/images/img_0_jpeg.rf.3d4f269223261badb460e628622ffb38.jpg  \n",
            "  inflating: test/images/img_102_jpeg.rf.0a61462ec2602059f8e5288bc836fa0b.jpg  \n",
            "  inflating: test/images/img_10_jpeg.rf.cb4293de4824f85fc9961d0473fd6f44.jpg  \n",
            "  inflating: test/images/img_131_jpeg.rf.b137a55d31b9c74123c01902853a5eb5.jpg  \n",
            "  inflating: test/images/img_150_jpeg.rf.0ab6e82212da70151806071fa7942f31.jpg  \n",
            "  inflating: test/images/img_160_jpeg.rf.75956dc22a38cff3baadffd457974071.jpg  \n",
            "  inflating: test/images/img_171_jpeg.rf.21a672f8a70dc933b793da2500234a36.jpg  \n",
            "  inflating: test/images/img_180_jpeg.rf.929a07c01f69bd9b189f03e9cd0b8c09.jpg  \n",
            "  inflating: test/images/img_187_jpeg.rf.4a1e03279fb491ed0181269bf89d1ac2.jpg  \n",
            "  inflating: test/images/img_198_jpeg.rf.f69eb47fb6ba272a7af61e3371370d03.jpg  \n",
            "  inflating: test/images/img_206_jpeg.rf.f16b083aa4ad9b616c5fe323e9f6f02c.jpg  \n",
            "  inflating: test/images/img_210_jpeg.rf.1a0c4d2658d2e6efc5b8acd06cb58292.jpg  \n",
            "  inflating: test/images/img_21_jpeg.rf.99aa8a3fdb35dd8401faf36c79bc32c5.jpg  \n",
            "  inflating: test/images/img_238_jpeg.rf.74d2d280793354cfe1317f0abfd9fa34.jpg  \n",
            "  inflating: test/images/img_242_jpeg.rf.056529730622027a66f2eb031bdb4f90.jpg  \n",
            "  inflating: test/images/img_260_jpeg.rf.28d6f74058bc8f2a9e0e70f291089e06.jpg  \n",
            "  inflating: test/images/img_267_jpeg.rf.367c89b93642de08f63c864a55989150.jpg  \n",
            "  inflating: test/images/img_286_jpeg.rf.15b92da687c7350ce773bc7801be392a.jpg  \n",
            "  inflating: test/images/img_289_jpeg.rf.14eae640e86115688afe937fa01cbd1f.jpg  \n",
            "  inflating: test/images/img_296_jpeg.rf.0d73b2d8ac7463d622a55f9c8f3883d6.jpg  \n",
            "  inflating: test/images/img_297_jpeg.rf.f218df3517c2388e243a983f7f823741.jpg  \n",
            "  inflating: test/images/img_301_jpeg.rf.918194792e77da3295e4c3ab8b044c76.jpg  \n",
            "  inflating: test/images/img_305_jpeg.rf.632b8237e71ac58c5998877fe384b8dc.jpg  \n",
            "  inflating: test/images/img_311_jpeg.rf.bdac761b7eb3ebae0461c913c8352bce.jpg  \n",
            "  inflating: test/images/img_324_jpeg.rf.f81341573f223fa02cab44dd0815b417.jpg  \n",
            "  inflating: test/images/img_335_jpeg.rf.b3dac5ccb7fb8cd9d621866360986fca.jpg  \n",
            "  inflating: test/images/img_337_jpeg.rf.0f6694ec45cb19dbaf0e5cb99bd63e1c.jpg  \n",
            "  inflating: test/images/img_354_jpeg.rf.2cb64234d468ea2dcdaf482ae7726a19.jpg  \n",
            "  inflating: test/images/img_357_jpeg.rf.f7472f026be47e04ca8cfe158319f9e4.jpg  \n",
            "  inflating: test/images/img_359_jpeg.rf.c29cd2df7c279afed68a041b1be856fa.jpg  \n",
            "  inflating: test/images/img_394_jpeg.rf.84700b8b759355c9f62c0318760c6101.jpg  \n",
            "  inflating: test/images/img_4_jpeg.rf.175cbf5dbe9ff283186816d7065d877d.jpg  \n",
            "  inflating: test/images/img_52_jpeg.rf.3ec5b32545ad3ff5f9f8582370874418.jpg  \n",
            "  inflating: test/images/img_73_jpeg.rf.2104fa762e9a0121f6008c2013f69f0b.jpg  \n",
            "  inflating: test/images/img_83_jpeg.rf.1d571acb5c5e049542d1e29cd4e16758.jpg  \n",
            "  inflating: test/labels/img_0_jpeg.rf.3d4f269223261badb460e628622ffb38.txt  \n",
            "  inflating: test/labels/img_102_jpeg.rf.0a61462ec2602059f8e5288bc836fa0b.txt  \n",
            "  inflating: test/labels/img_10_jpeg.rf.cb4293de4824f85fc9961d0473fd6f44.txt  \n",
            "  inflating: test/labels/img_131_jpeg.rf.b137a55d31b9c74123c01902853a5eb5.txt  \n",
            "  inflating: test/labels/img_150_jpeg.rf.0ab6e82212da70151806071fa7942f31.txt  \n",
            "  inflating: test/labels/img_160_jpeg.rf.75956dc22a38cff3baadffd457974071.txt  \n",
            "  inflating: test/labels/img_171_jpeg.rf.21a672f8a70dc933b793da2500234a36.txt  \n",
            "  inflating: test/labels/img_180_jpeg.rf.929a07c01f69bd9b189f03e9cd0b8c09.txt  \n",
            "  inflating: test/labels/img_187_jpeg.rf.4a1e03279fb491ed0181269bf89d1ac2.txt  \n",
            "  inflating: test/labels/img_198_jpeg.rf.f69eb47fb6ba272a7af61e3371370d03.txt  \n",
            "  inflating: test/labels/img_206_jpeg.rf.f16b083aa4ad9b616c5fe323e9f6f02c.txt  \n",
            "  inflating: test/labels/img_210_jpeg.rf.1a0c4d2658d2e6efc5b8acd06cb58292.txt  \n",
            "  inflating: test/labels/img_21_jpeg.rf.99aa8a3fdb35dd8401faf36c79bc32c5.txt  \n",
            "  inflating: test/labels/img_238_jpeg.rf.74d2d280793354cfe1317f0abfd9fa34.txt  \n",
            "  inflating: test/labels/img_242_jpeg.rf.056529730622027a66f2eb031bdb4f90.txt  \n",
            "  inflating: test/labels/img_260_jpeg.rf.28d6f74058bc8f2a9e0e70f291089e06.txt  \n",
            "  inflating: test/labels/img_267_jpeg.rf.367c89b93642de08f63c864a55989150.txt  \n",
            "  inflating: test/labels/img_286_jpeg.rf.15b92da687c7350ce773bc7801be392a.txt  \n",
            "  inflating: test/labels/img_289_jpeg.rf.14eae640e86115688afe937fa01cbd1f.txt  \n",
            "  inflating: test/labels/img_296_jpeg.rf.0d73b2d8ac7463d622a55f9c8f3883d6.txt  \n",
            "  inflating: test/labels/img_297_jpeg.rf.f218df3517c2388e243a983f7f823741.txt  \n",
            "  inflating: test/labels/img_301_jpeg.rf.918194792e77da3295e4c3ab8b044c76.txt  \n",
            "  inflating: test/labels/img_305_jpeg.rf.632b8237e71ac58c5998877fe384b8dc.txt  \n",
            "  inflating: test/labels/img_311_jpeg.rf.bdac761b7eb3ebae0461c913c8352bce.txt  \n",
            "  inflating: test/labels/img_324_jpeg.rf.f81341573f223fa02cab44dd0815b417.txt  \n",
            "  inflating: test/labels/img_335_jpeg.rf.b3dac5ccb7fb8cd9d621866360986fca.txt  \n",
            "  inflating: test/labels/img_337_jpeg.rf.0f6694ec45cb19dbaf0e5cb99bd63e1c.txt  \n",
            "  inflating: test/labels/img_354_jpeg.rf.2cb64234d468ea2dcdaf482ae7726a19.txt  \n",
            "  inflating: test/labels/img_357_jpeg.rf.f7472f026be47e04ca8cfe158319f9e4.txt  \n",
            "  inflating: test/labels/img_359_jpeg.rf.c29cd2df7c279afed68a041b1be856fa.txt  \n",
            "  inflating: test/labels/img_394_jpeg.rf.84700b8b759355c9f62c0318760c6101.txt  \n",
            "  inflating: test/labels/img_4_jpeg.rf.175cbf5dbe9ff283186816d7065d877d.txt  \n",
            "  inflating: test/labels/img_52_jpeg.rf.3ec5b32545ad3ff5f9f8582370874418.txt  \n",
            "  inflating: test/labels/img_73_jpeg.rf.2104fa762e9a0121f6008c2013f69f0b.txt  \n",
            "  inflating: test/labels/img_83_jpeg.rf.1d571acb5c5e049542d1e29cd4e16758.txt  \n",
            "  inflating: train/images/img_100_jpeg.rf.1d860390eb47d565a42b126f8ec2e6fd.jpg  \n",
            "  inflating: train/images/img_106_jpeg.rf.583cbce9c28a54c71a2f2de0070b9290.jpg  \n",
            "  inflating: train/images/img_107_jpeg.rf.f27d9451fdf20699dc920d3daf2e92fd.jpg  \n",
            "  inflating: train/images/img_108_jpeg.rf.284dd43cdc630c84a024e8800194ef17.jpg  \n",
            "  inflating: train/images/img_111_jpeg.rf.c3c19d4a7154230977036d883ee07524.jpg  \n",
            "  inflating: train/images/img_113_jpeg.rf.532d650033f9ca2993ea40e026c3275b.jpg  \n",
            "  inflating: train/images/img_114_jpeg.rf.5717390ee73daef2537ad22384d7f55a.jpg  \n",
            "  inflating: train/images/img_115_jpeg.rf.dc7a465022c8056d133cfcff577eb1a3.jpg  \n",
            "  inflating: train/images/img_116_jpeg.rf.44d660ca9ee10a2bf22b17e8f738696c.jpg  \n",
            "  inflating: train/images/img_117_jpeg.rf.167011e48afa1566c09a40b541d2f1db.jpg  \n",
            "  inflating: train/images/img_118_jpeg.rf.4a880852a465d1cd332f35bf70762c75.jpg  \n",
            "  inflating: train/images/img_11_jpeg.rf.d623ebdc145f9ccdf63cd284d8fcfa4a.jpg  \n",
            "  inflating: train/images/img_121_jpeg.rf.4f9baf0ae45d383c2041991bf0b0963f.jpg  \n",
            "  inflating: train/images/img_122_jpeg.rf.4c6ac2857f92b1a9063a964191dd44a4.jpg  \n",
            "  inflating: train/images/img_124_jpeg.rf.cb0cd2d304a9592a23fb4de2a67acd00.jpg  \n",
            "  inflating: train/images/img_125_jpeg.rf.836b5cba43d7ae927dcbd387200b65cd.jpg  \n",
            "  inflating: train/images/img_127_jpeg.rf.bc29304c38262b6ad732463e20e4f54d.jpg  \n",
            "  inflating: train/images/img_128_jpeg.rf.4c0399dcba57a85ae56bad9a86eeb8e9.jpg  \n",
            "  inflating: train/images/img_129_jpeg.rf.e2d42d2618b6339ca88d7439a0298ec8.jpg  \n",
            "  inflating: train/images/img_12_jpeg.rf.42fdb5eed04360287c8923cea4132bd4.jpg  \n",
            "  inflating: train/images/img_130_jpeg.rf.068a2e4d061e7ef782165b7fb8999c17.jpg  \n",
            "  inflating: train/images/img_132_jpeg.rf.5dba1a28762c967c70dd8acac86f3511.jpg  \n",
            "  inflating: train/images/img_133_jpeg.rf.536a3e3de9c734e32f1bb06baeb0ccb1.jpg  \n",
            "  inflating: train/images/img_134_jpeg.rf.686bdbbdf308ae223f3dafe03a6de887.jpg  \n",
            "  inflating: train/images/img_138_jpeg.rf.2b0be871ee1f021a907976d7ee2e04d2.jpg  \n",
            "  inflating: train/images/img_139_jpeg.rf.91ac3c45019b5d279180eadfab42a57f.jpg  \n",
            "  inflating: train/images/img_13_jpeg.rf.a378126138207b5e6e9ee8b3c4d0ffc8.jpg  \n",
            "  inflating: train/images/img_141_jpeg.rf.e92a16141a22ce38c3476b4832c93abb.jpg  \n",
            "  inflating: train/images/img_142_jpeg.rf.1f580fe5ffe4ef2eb27da41267b96464.jpg  \n",
            "  inflating: train/images/img_143_jpeg.rf.caad09357a14139c98ed8070ace64f71.jpg  \n",
            "  inflating: train/images/img_144_jpeg.rf.96039dcd904bdecbc144580b0b8b9424.jpg  \n",
            "  inflating: train/images/img_147_jpeg.rf.e692f730c07ce2015dc9976711b818c7.jpg  \n",
            "  inflating: train/images/img_148_jpeg.rf.19a99a892085fca442012c07ebca5852.jpg  \n",
            "  inflating: train/images/img_149_jpeg.rf.582bde6452c815f7bd374f3f0c0aa97d.jpg  \n",
            "  inflating: train/images/img_14_jpeg.rf.82b4e8122410d7580f7d55b21bed083b.jpg  \n",
            "  inflating: train/images/img_154_jpeg.rf.1494b0cef7b1add3d568001428b65529.jpg  \n",
            "  inflating: train/images/img_15_jpeg.rf.31afe846f66f835f8fc14456765d29d6.jpg  \n",
            "  inflating: train/images/img_161_jpeg.rf.7520bd16e945481ba658e79922b2853e.jpg  \n",
            "  inflating: train/images/img_162_jpeg.rf.9f69b33d2ad88e55178780a2601cd06f.jpg  \n",
            "  inflating: train/images/img_163_jpeg.rf.fd814dc8481c54401104d28c9442db43.jpg  \n",
            "  inflating: train/images/img_164_jpeg.rf.66884764a49b717b7909e5f70674cc80.jpg  \n",
            "  inflating: train/images/img_165_jpeg.rf.6cb68073225aa988a195a437028253d2.jpg  \n",
            "  inflating: train/images/img_166_jpeg.rf.51761bd1d040cef349d80503788f7ecb.jpg  \n",
            "  inflating: train/images/img_168_jpeg.rf.7f2ccb577f69900147fc65523fcd295a.jpg  \n",
            "  inflating: train/images/img_169_jpeg.rf.e1db45ee11f948cf765d7aade746b3ff.jpg  \n",
            "  inflating: train/images/img_16_jpeg.rf.c80b24553658cdcc8b8a8568b9275dca.jpg  \n",
            "  inflating: train/images/img_170_jpeg.rf.930cbd176c894d6877325584bedeced6.jpg  \n",
            "  inflating: train/images/img_172_jpeg.rf.d952519fd3710f4b7df101ac703966da.jpg  \n",
            "  inflating: train/images/img_173_jpeg.rf.637b8b4c06259178810830ad3acae243.jpg  \n",
            "  inflating: train/images/img_175_jpeg.rf.97c1849746be8a5a385e552767529892.jpg  \n",
            "  inflating: train/images/img_176_jpeg.rf.62dde3834ef9fc422117ccb282f44dab.jpg  \n",
            "  inflating: train/images/img_177_jpeg.rf.e21509305476c8d96cddeb8012edaf35.jpg  \n",
            "  inflating: train/images/img_178_jpeg.rf.557b18676bf45d39f361c791b9947a9c.jpg  \n",
            "  inflating: train/images/img_179_jpeg.rf.73431b28084ca7c7af1b7ba716d7c1b0.jpg  \n",
            "  inflating: train/images/img_17_jpeg.rf.4be883ea33fce669c2431e872e0f4be5.jpg  \n",
            "  inflating: train/images/img_183_jpeg.rf.853f86196546a55390689c965a31005e.jpg  \n",
            "  inflating: train/images/img_184_jpeg.rf.232f5d98faa9025131c68b8dc6cac36e.jpg  \n",
            "  inflating: train/images/img_186_jpeg.rf.a2021ab86e93f0d8caccc94b9691240e.jpg  \n",
            "  inflating: train/images/img_188_jpeg.rf.48710e35d45b8d863f8d9580f980073c.jpg  \n",
            "  inflating: train/images/img_189_jpeg.rf.d3e979bb5a955665edf17d1b58ab9050.jpg  \n",
            "  inflating: train/images/img_190_jpeg.rf.b16c61cb5f5db2839086521eee1af073.jpg  \n",
            "  inflating: train/images/img_191_jpeg.rf.e5d86afaa35304c1037d2e22208973d9.jpg  \n",
            "  inflating: train/images/img_194_jpeg.rf.3963a065ceacec3af18c428702aeeb3e.jpg  \n",
            "  inflating: train/images/img_195_jpeg.rf.f9dd7362deee792951e4e5bd5ee452fc.jpg  \n",
            "  inflating: train/images/img_196_jpeg.rf.e6a7196b752a7191c65533631a5d5cf1.jpg  \n",
            "  inflating: train/images/img_197_jpeg.rf.7963c98953c7340e7fc92aac181a611d.jpg  \n",
            "  inflating: train/images/img_199_jpeg.rf.31b329e66552aba19229efbd1a820089.jpg  \n",
            "  inflating: train/images/img_19_jpeg.rf.064b9369a52ed2dc9955083781e86af2.jpg  \n",
            "  inflating: train/images/img_1_jpeg.rf.88c8c2b59a4bcc5bc346c1eca6ae1b8b.jpg  \n",
            "  inflating: train/images/img_200_jpeg.rf.c52be0c20138fae16e97c84d1e752ebe.jpg  \n",
            "  inflating: train/images/img_201_jpeg.rf.ef04f564ffd2ef30f4684be9644be750.jpg  \n",
            "  inflating: train/images/img_202_jpeg.rf.5a11a1acc398fcb31dd87084cab2af03.jpg  \n",
            "  inflating: train/images/img_203_jpeg.rf.7af5ed018e97ab9e12c4c2b0f6ebf216.jpg  \n",
            "  inflating: train/images/img_205_jpeg.rf.037318aceaa34bf5b460039c17aa47a3.jpg  \n",
            "  inflating: train/images/img_208_jpeg.rf.c3c5a8e2ee168c7658311dca895490eb.jpg  \n",
            "  inflating: train/images/img_209_jpeg.rf.8787be41300e7fc97e3a774b2a21e58c.jpg  \n",
            "  inflating: train/images/img_20_jpeg.rf.56c16c30532b8d5eb4d54bfd9d6e2aba.jpg  \n",
            "  inflating: train/images/img_211_jpeg.rf.c92e4977a5130a4d6cf72033017fa38d.jpg  \n",
            "  inflating: train/images/img_212_jpeg.rf.dc07a30486127b8b14bb7509fef2cf22.jpg  \n",
            "  inflating: train/images/img_214_jpeg.rf.09dcca1de8e3fa38e956c5e6416b659c.jpg  \n",
            "  inflating: train/images/img_215_jpeg.rf.0dee4426b7a584ff91e0c3653c64ff59.jpg  \n",
            "  inflating: train/images/img_217_jpeg.rf.1e11be7cc0347fbbedda1e2fdee8663d.jpg  \n",
            "  inflating: train/images/img_220_jpeg.rf.f217afec2417775f280c99354ad229be.jpg  \n",
            "  inflating: train/images/img_221_jpeg.rf.413f6c7f1874a1f416339e98e70c4f1d.jpg  \n",
            "  inflating: train/images/img_223_jpeg.rf.3315ed79643628140b32d89148cfeb3f.jpg  \n",
            "  inflating: train/images/img_226_jpeg.rf.d14a8fb1fa7ecec1db6a06eaf408a8cb.jpg  \n",
            "  inflating: train/images/img_227_jpeg.rf.c09428b591c025a6ecbe530af193fbaa.jpg  \n",
            "  inflating: train/images/img_228_jpeg.rf.1562d890cf7d1cf8a064289aadead675.jpg  \n",
            "  inflating: train/images/img_229_jpeg.rf.7388b6d0443b2f2093c7ce0a9d3a9623.jpg  \n",
            "  inflating: train/images/img_230_jpeg.rf.60395c73f7ccf85449295a430d016e45.jpg  \n",
            "  inflating: train/images/img_231_jpeg.rf.a6a3edae0798a63812a1829e03c51ca8.jpg  \n",
            "  inflating: train/images/img_233_jpeg.rf.64dbfbf64e1da639c8335384a54c7bd5.jpg  \n",
            "  inflating: train/images/img_234_jpeg.rf.5395a69b3d8f586474daa288cd240f92.jpg  \n",
            "  inflating: train/images/img_235_jpeg.rf.1d39c5ff6fb7a38fe4b774b6556c9915.jpg  \n",
            "  inflating: train/images/img_239_jpeg.rf.bd36e756613e0b1607a9830666a95903.jpg  \n",
            "  inflating: train/images/img_23_jpeg.rf.9980fcb30726dee4f57e3c420bd0ed43.jpg  \n",
            "  inflating: train/images/img_240_jpeg.rf.7eea8dbeb51739ff5635ac1101e7f66d.jpg  \n",
            "  inflating: train/images/img_241_jpeg.rf.b9bf63a19e8413f19f11acd9c79111ed.jpg  \n",
            "  inflating: train/images/img_244_jpeg.rf.3d997eea0f5296c356848cbd3af897b0.jpg  \n",
            "  inflating: train/images/img_245_jpeg.rf.e243fddfbda713376b3b9da046846c76.jpg  \n",
            "  inflating: train/images/img_247_jpeg.rf.5fa568d60850b048994c55e7fc439246.jpg  \n",
            "  inflating: train/images/img_248_jpeg.rf.07d471f56a2f4970d800bf98f5cec075.jpg  \n",
            "  inflating: train/images/img_249_jpeg.rf.46203729117c04d4939370b747e20f9b.jpg  \n",
            "  inflating: train/images/img_24_jpeg.rf.7aed2f6790ef81c126d8a74a3327a17c.jpg  \n",
            "  inflating: train/images/img_250_jpeg.rf.6e15da7e682b060cfe8baca4520ea08d.jpg  \n",
            "  inflating: train/images/img_251_jpeg.rf.2af9f9a53f9ba6faf8f27716dc105727.jpg  \n",
            "  inflating: train/images/img_253_jpeg.rf.ba9881f04e04e2d633e2a41bef431a29.jpg  \n",
            "  inflating: train/images/img_254_jpeg.rf.1d05ffb87b17d57b3c4cedbdf16de964.jpg  \n",
            "  inflating: train/images/img_255_jpeg.rf.140c1a2e52c1e07bce68fefcef0a6715.jpg  \n",
            "  inflating: train/images/img_256_jpeg.rf.224a12b716b834b228e6e60047f14d77.jpg  \n",
            "  inflating: train/images/img_257_jpeg.rf.e808582d53fae4f92c52d9a69a22742a.jpg  \n",
            "  inflating: train/images/img_258_jpeg.rf.164cbe41aa64bd70d5c611e3dd1c571d.jpg  \n",
            "  inflating: train/images/img_261_jpeg.rf.3b2ec880524d4dffdc2ead332d494aa7.jpg  \n",
            "  inflating: train/images/img_262_jpeg.rf.c53813135e9739ed06204aafb90391d2.jpg  \n",
            "  inflating: train/images/img_263_jpeg.rf.9757b2b8f4ee8f83088acbde57b08f1b.jpg  \n",
            "  inflating: train/images/img_264_jpeg.rf.ba836197e4d47015f403e3024476dd28.jpg  \n",
            "  inflating: train/images/img_265_jpeg.rf.f0b3d4ede5f1e53f3160fcbb534bda58.jpg  \n",
            "  inflating: train/images/img_268_jpeg.rf.78b2ead09a2f7b551c3208f1d5a73016.jpg  \n",
            "  inflating: train/images/img_269_jpeg.rf.a989454033b1517c0c1c668aba5baaf9.jpg  \n",
            "  inflating: train/images/img_270_jpeg.rf.890d6d2f07ddc62b43ed7015aba24664.jpg  \n",
            "  inflating: train/images/img_271_jpeg.rf.6faef8f21d90df7cbe156fb0c1ce5853.jpg  \n",
            "  inflating: train/images/img_273_jpeg.rf.9d576ddd66e389e2993996c9d1c32d37.jpg  \n",
            "  inflating: train/images/img_274_jpeg.rf.70f55d392bfc26d6e7636a8b4f8be5a5.jpg  \n",
            "  inflating: train/images/img_275_jpeg.rf.9081460c6717174727b39f9710c268be.jpg  \n",
            "  inflating: train/images/img_278_jpeg.rf.0342562457c7a3491468bc5cd5dad12c.jpg  \n",
            "  inflating: train/images/img_279_jpeg.rf.f08dd909cf182301f584fde070965a90.jpg  \n",
            "  inflating: train/images/img_281_jpeg.rf.7848162c2ca9a1d5fc53b189d850087a.jpg  \n",
            "  inflating: train/images/img_282_jpeg.rf.5fa8d53b54f6e932f2f4f4cb3280b9cf.jpg  \n",
            "  inflating: train/images/img_285_jpeg.rf.a1b693c737f1b26ec84feb37fa7d6fd7.jpg  \n",
            "  inflating: train/images/img_287_jpeg.rf.c9c97b7d294cb70ad1d14f0346dbfe42.jpg  \n",
            "  inflating: train/images/img_291_jpeg.rf.0bb2f70e3cd4d14d65f72a604fc9b25e.jpg  \n",
            "  inflating: train/images/img_295_jpeg.rf.6228fd6b37e245dc3b3faa1600a810bc.jpg  \n",
            "  inflating: train/images/img_299_jpeg.rf.bc05c81a902b7d29118c3c67561961da.jpg  \n",
            "  inflating: train/images/img_29_jpeg.rf.ef9f90a5b19326302d630b4df932c0f2.jpg  \n",
            "  inflating: train/images/img_300_jpeg.rf.948a2f2178add9866c3a67861ff3f84a.jpg  \n",
            "  inflating: train/images/img_302_jpeg.rf.7b0ef90af9958303a4b8dbfa50052239.jpg  \n",
            "  inflating: train/images/img_304_jpeg.rf.b92d4136df04ae3e3dd7b0dc46961de7.jpg  \n",
            "  inflating: train/images/img_306_jpeg.rf.98f1a88292c4bee1e60d2848ad1a6d9e.jpg  \n",
            "  inflating: train/images/img_308_jpeg.rf.1087710992785001e16ed3a7a062d0be.jpg  \n",
            "  inflating: train/images/img_309_jpeg.rf.22dec5fb89c98fe5c6cd2e1668e9471e.jpg  \n",
            "  inflating: train/images/img_30_jpeg.rf.a4a9ad70710d8336ad29eed1ff364739.jpg  \n",
            "  inflating: train/images/img_313_jpeg.rf.8ad26dbf84fe265291ca05bbf59eae37.jpg  \n",
            "  inflating: train/images/img_317_jpeg.rf.4ad7b495cedbc369799bd58ab3bfac39.jpg  \n",
            "  inflating: train/images/img_319_jpeg.rf.3baf3257a97d7333d360a7e63e501ed8.jpg  \n",
            "  inflating: train/images/img_31_jpeg.rf.66cde5ff17e315fed007c77cd6b57ee8.jpg  \n",
            "  inflating: train/images/img_320_jpeg.rf.834e067a123f210175460dfb699d5470.jpg  \n",
            "  inflating: train/images/img_323_jpeg.rf.f827db1c36ada57af0bf8da11125ee8d.jpg  \n",
            "  inflating: train/images/img_325_jpeg.rf.d0c92e5bfa4302928520a905ea1deae0.jpg  \n",
            "  inflating: train/images/img_326_jpeg.rf.7abd67cecf1847878ae9cf4a4ee5f198.jpg  \n",
            "  inflating: train/images/img_328_jpeg.rf.347ba7b3ca366e9cc3b7f0f001fb3a74.jpg  \n",
            "  inflating: train/images/img_329_jpeg.rf.a293026daf291167253566dee7fbdfcf.jpg  \n",
            "  inflating: train/images/img_333_jpeg.rf.90b3c8fd3ea12ba04fa2621e629cb10c.jpg  \n",
            "  inflating: train/images/img_334_jpeg.rf.723839834836d5c2ab9bc1ed6a5ff1bf.jpg  \n",
            "  inflating: train/images/img_336_jpeg.rf.482fff9ae24be917dff1b716bd817425.jpg  \n",
            "  inflating: train/images/img_338_jpeg.rf.053610fba2e5973c377b16e90225bac5.jpg  \n",
            "  inflating: train/images/img_339_jpeg.rf.d6e8842ed38ca3e3cefd41ab365b0f29.jpg  \n",
            "  inflating: train/images/img_33_jpeg.rf.23f1c909f901f5d40b245db84fc7aed4.jpg  \n",
            "  inflating: train/images/img_341_jpeg.rf.b0a72cb2b370fb66cbaea7a68bbbe249.jpg  \n",
            "  inflating: train/images/img_342_jpeg.rf.196bdbd115aefcbf239681a40e947f78.jpg  \n",
            "  inflating: train/images/img_347_jpeg.rf.79024bb0991c38e7f232c6474878dbd2.jpg  \n",
            "  inflating: train/images/img_348_jpeg.rf.b7819e0da56272af5e3cd1da98e79795.jpg  \n",
            "  inflating: train/images/img_34_jpeg.rf.119c74d49692f400ca5cb663691d1782.jpg  \n",
            "  inflating: train/images/img_350_jpeg.rf.254c49292a194987a6e002f4bc33cf22.jpg  \n",
            "  inflating: train/images/img_351_jpeg.rf.6918568e0cccd74b8b3a25da2ff0ae6f.jpg  \n",
            "  inflating: train/images/img_353_jpeg.rf.fd6c3ed75b27d6cd2844665a431e8467.jpg  \n",
            "  inflating: train/images/img_358_jpeg.rf.4852b1da1041c9c27416d430ac5b6113.jpg  \n",
            "  inflating: train/images/img_35_jpeg.rf.4f6cf80e45523276b3b664301a330c67.jpg  \n",
            "  inflating: train/images/img_361_jpeg.rf.8664a5a9b476e6b1604f9042058bc581.jpg  \n",
            "  inflating: train/images/img_363_jpeg.rf.db3d93cc72bd4af9ca8e3fa51c1104d6.jpg  \n",
            "  inflating: train/images/img_364_jpeg.rf.0f9b0959131862e4ec0a8808fd877dfe.jpg  \n",
            "  inflating: train/images/img_365_jpeg.rf.c9331b3098b99d0c917965d57f014da3.jpg  \n",
            "  inflating: train/images/img_366_jpeg.rf.06032deb6e390280cf6029b3fc07aa34.jpg  \n",
            "  inflating: train/images/img_368_jpeg.rf.ec9e0c29d07acac538c07b569b9f8504.jpg  \n",
            "  inflating: train/images/img_36_jpeg.rf.e0bc660b379239129ac2cb099ff87b79.jpg  \n",
            "  inflating: train/images/img_370_jpeg.rf.160044c783719a692742185d4007d009.jpg  \n",
            "  inflating: train/images/img_371_jpeg.rf.6e014ffce32dd5e01e2fd00eb9388703.jpg  \n",
            "  inflating: train/images/img_372_jpeg.rf.3afe4ec85d46094e73dd707df60f4241.jpg  \n",
            "  inflating: train/images/img_373_jpeg.rf.d267e853c6c02ef310e9505cb8b447ff.jpg  \n",
            "  inflating: train/images/img_376_jpeg.rf.92e6c5329426b419d338c9794d8e196c.jpg  \n",
            "  inflating: train/images/img_377_jpeg.rf.a3ece118beb9b94453509fe853ba382c.jpg  \n",
            "  inflating: train/images/img_378_jpeg.rf.a45a102fef0793aec7d20e9dea2c5892.jpg  \n",
            "  inflating: train/images/img_380_jpeg.rf.59f7423afbe835c1018d22905c57af54.jpg  \n",
            "  inflating: train/images/img_381_jpeg.rf.fbf1522b2aabcb3ebb347929574cbfff.jpg  \n",
            "  inflating: train/images/img_382_jpeg.rf.a001d4ab888fc4b11ac37a245ce42123.jpg  \n",
            "  inflating: train/images/img_383_jpeg.rf.2ea1fd8a787e029aa2a03d6334a90db6.jpg  \n",
            "  inflating: train/images/img_384_jpeg.rf.ac90fb87bda2cf68cd9769aa1f1c49ca.jpg  \n",
            "  inflating: train/images/img_386_jpeg.rf.68e759affda5b3ed3ddf900b8dc1adbd.jpg  \n",
            "  inflating: train/images/img_387_jpeg.rf.1403d9ddca2de1ac28678c925bd3f4f8.jpg  \n",
            "  inflating: train/images/img_391_jpeg.rf.aa2a6548ec14efbbbf128ed7e0d1a0ff.jpg  \n",
            "  inflating: train/images/img_392_jpeg.rf.77b6bad87220b020c913de73fa655e78.jpg  \n",
            "  inflating: train/images/img_395_jpeg.rf.7afd8cfad11d2bc787bdd255bae663bb.jpg  \n",
            "  inflating: train/images/img_396_jpeg.rf.540298c7a982fa37cb21456302a29ac5.jpg  \n",
            "  inflating: train/images/img_397_jpeg.rf.c3faf971f034ec6919c7a126e01c7576.jpg  \n",
            "  inflating: train/images/img_398_jpeg.rf.929d322814a94f9ae9a3e77fa8bd0c0e.jpg  \n",
            "  inflating: train/images/img_399_jpeg.rf.69bbc44ad0eeb40bfefbfd0d6f7bdbbe.jpg  \n",
            "  inflating: train/images/img_3_jpeg.rf.6f5d8324342caabdbbf2498af70b1b4e.jpg  \n",
            "  inflating: train/images/img_40_jpeg.rf.34f5096ba3039ede31ecd1d5b052f9c0.jpg  \n",
            "  inflating: train/images/img_42_jpeg.rf.c2a05c74ea68b61255bea5d9169b217d.jpg  \n",
            "  inflating: train/images/img_43_jpeg.rf.a1cbc421bcc047a74b0bb5867649d999.jpg  \n",
            "  inflating: train/images/img_45_jpeg.rf.38c390f378fd934aff5b1417b456411b.jpg  \n",
            "  inflating: train/images/img_48_jpeg.rf.93066a3b054442d251d3f9bf19b340d2.jpg  \n",
            "  inflating: train/images/img_49_jpeg.rf.ccb4e531a6a0622289195f283178993a.jpg  \n",
            "  inflating: train/images/img_51_jpeg.rf.b0bef00a09150c427b5fbefd27816851.jpg  \n",
            "  inflating: train/images/img_54_jpeg.rf.64b63117a3e7c3912fb700c0a13c3714.jpg  \n",
            "  inflating: train/images/img_55_jpeg.rf.1713fbe055e2d800926ac67fb7e5898a.jpg  \n",
            "  inflating: train/images/img_56_jpeg.rf.f381eaec82bd43844a98d2c3576f4949.jpg  \n",
            "  inflating: train/images/img_58_jpeg.rf.a16ee42f09b8fcb693c4a93b4f6cc463.jpg  \n",
            "  inflating: train/images/img_59_jpeg.rf.27cdfcaed3b515d51a961767636cab9e.jpg  \n",
            "  inflating: train/images/img_5_jpeg.rf.86dfbec7467df596990b6216105fb479.jpg  \n",
            "  inflating: train/images/img_61_jpeg.rf.7cc961124c2683bc0ba19e908a612bb8.jpg  \n",
            "  inflating: train/images/img_62_jpeg.rf.96e6544b66987249a1c92f1f5a8f06f2.jpg  \n",
            "  inflating: train/images/img_65_jpeg.rf.74dcb7636f028bcbfb12a20f63ffd7e4.jpg  \n",
            "  inflating: train/images/img_66_jpeg.rf.e6a6f0c20b389873e409e0f0a25b2f7e.jpg  \n",
            "  inflating: train/images/img_67_jpeg.rf.8910e9285fc09bb78d11a28c983883d0.jpg  \n",
            "  inflating: train/images/img_68_jpeg.rf.2b841a41bc946749fb5139c383e5b699.jpg  \n",
            "  inflating: train/images/img_69_jpeg.rf.c318695cf729528c682d24461f67276b.jpg  \n",
            "  inflating: train/images/img_70_jpeg.rf.961d868ec8ddc4871a7cbe9fed019137.jpg  \n",
            "  inflating: train/images/img_71_jpeg.rf.b9aa799037007094aef9c40e5c5e4ece.jpg  \n",
            "  inflating: train/images/img_77_jpeg.rf.d29a2c8018e4cbb9dcbff709df7bc971.jpg  \n",
            "  inflating: train/images/img_78_jpeg.rf.f5b221b02a4f4a96e5df651f8f7fa86a.jpg  \n",
            "  inflating: train/images/img_79_jpeg.rf.06b16f303a1cccf7c766e3d03e64f4f7.jpg  \n",
            "  inflating: train/images/img_7_jpeg.rf.d30ac51b921360b2f4573a7cbab15711.jpg  \n",
            "  inflating: train/images/img_80_jpeg.rf.5e35ec3e38ac6ebb4969bf7fef1593fa.jpg  \n",
            "  inflating: train/images/img_86_jpeg.rf.b09a937ee2f2c9fc6a0abb08ead2a7e4.jpg  \n",
            "  inflating: train/images/img_90_jpeg.rf.3dad31b845c5c35d92c9366f51008599.jpg  \n",
            "  inflating: train/images/img_91_jpeg.rf.ac4356ddfdcaa617b33fda521c6c023e.jpg  \n",
            "  inflating: train/images/img_92_jpeg.rf.ede7d6167f975e617be2924e9ae5b495.jpg  \n",
            "  inflating: train/images/img_98_jpeg.rf.19240dfe90cec38429cac015767cc618.jpg  \n",
            "  inflating: train/images/img_99_jpeg.rf.a7837216504607ba89c43d4a4fcdfb67.jpg  \n",
            "  inflating: train/images/img_9_jpeg.rf.b61465d16e7ad5097048547f32ca2c5d.jpg  \n",
            "  inflating: train/labels/img_100_jpeg.rf.1d860390eb47d565a42b126f8ec2e6fd.txt  \n",
            "  inflating: train/labels/img_106_jpeg.rf.583cbce9c28a54c71a2f2de0070b9290.txt  \n",
            "  inflating: train/labels/img_107_jpeg.rf.f27d9451fdf20699dc920d3daf2e92fd.txt  \n",
            "  inflating: train/labels/img_108_jpeg.rf.284dd43cdc630c84a024e8800194ef17.txt  \n",
            "  inflating: train/labels/img_111_jpeg.rf.c3c19d4a7154230977036d883ee07524.txt  \n",
            "  inflating: train/labels/img_113_jpeg.rf.532d650033f9ca2993ea40e026c3275b.txt  \n",
            "  inflating: train/labels/img_114_jpeg.rf.5717390ee73daef2537ad22384d7f55a.txt  \n",
            "  inflating: train/labels/img_115_jpeg.rf.dc7a465022c8056d133cfcff577eb1a3.txt  \n",
            "  inflating: train/labels/img_116_jpeg.rf.44d660ca9ee10a2bf22b17e8f738696c.txt  \n",
            "  inflating: train/labels/img_117_jpeg.rf.167011e48afa1566c09a40b541d2f1db.txt  \n",
            "  inflating: train/labels/img_118_jpeg.rf.4a880852a465d1cd332f35bf70762c75.txt  \n",
            "  inflating: train/labels/img_11_jpeg.rf.d623ebdc145f9ccdf63cd284d8fcfa4a.txt  \n",
            "  inflating: train/labels/img_121_jpeg.rf.4f9baf0ae45d383c2041991bf0b0963f.txt  \n",
            "  inflating: train/labels/img_122_jpeg.rf.4c6ac2857f92b1a9063a964191dd44a4.txt  \n",
            "  inflating: train/labels/img_124_jpeg.rf.cb0cd2d304a9592a23fb4de2a67acd00.txt  \n",
            "  inflating: train/labels/img_125_jpeg.rf.836b5cba43d7ae927dcbd387200b65cd.txt  \n",
            "  inflating: train/labels/img_127_jpeg.rf.bc29304c38262b6ad732463e20e4f54d.txt  \n",
            "  inflating: train/labels/img_128_jpeg.rf.4c0399dcba57a85ae56bad9a86eeb8e9.txt  \n",
            "  inflating: train/labels/img_129_jpeg.rf.e2d42d2618b6339ca88d7439a0298ec8.txt  \n",
            "  inflating: train/labels/img_12_jpeg.rf.42fdb5eed04360287c8923cea4132bd4.txt  \n",
            "  inflating: train/labels/img_130_jpeg.rf.068a2e4d061e7ef782165b7fb8999c17.txt  \n",
            "  inflating: train/labels/img_132_jpeg.rf.5dba1a28762c967c70dd8acac86f3511.txt  \n",
            "  inflating: train/labels/img_133_jpeg.rf.536a3e3de9c734e32f1bb06baeb0ccb1.txt  \n",
            "  inflating: train/labels/img_134_jpeg.rf.686bdbbdf308ae223f3dafe03a6de887.txt  \n",
            "  inflating: train/labels/img_138_jpeg.rf.2b0be871ee1f021a907976d7ee2e04d2.txt  \n",
            "  inflating: train/labels/img_139_jpeg.rf.91ac3c45019b5d279180eadfab42a57f.txt  \n",
            "  inflating: train/labels/img_13_jpeg.rf.a378126138207b5e6e9ee8b3c4d0ffc8.txt  \n",
            "  inflating: train/labels/img_141_jpeg.rf.e92a16141a22ce38c3476b4832c93abb.txt  \n",
            "  inflating: train/labels/img_142_jpeg.rf.1f580fe5ffe4ef2eb27da41267b96464.txt  \n",
            "  inflating: train/labels/img_143_jpeg.rf.caad09357a14139c98ed8070ace64f71.txt  \n",
            "  inflating: train/labels/img_144_jpeg.rf.96039dcd904bdecbc144580b0b8b9424.txt  \n",
            "  inflating: train/labels/img_147_jpeg.rf.e692f730c07ce2015dc9976711b818c7.txt  \n",
            "  inflating: train/labels/img_148_jpeg.rf.19a99a892085fca442012c07ebca5852.txt  \n",
            "  inflating: train/labels/img_149_jpeg.rf.582bde6452c815f7bd374f3f0c0aa97d.txt  \n",
            "  inflating: train/labels/img_14_jpeg.rf.82b4e8122410d7580f7d55b21bed083b.txt  \n",
            "  inflating: train/labels/img_154_jpeg.rf.1494b0cef7b1add3d568001428b65529.txt  \n",
            "  inflating: train/labels/img_15_jpeg.rf.31afe846f66f835f8fc14456765d29d6.txt  \n",
            "  inflating: train/labels/img_161_jpeg.rf.7520bd16e945481ba658e79922b2853e.txt  \n",
            "  inflating: train/labels/img_162_jpeg.rf.9f69b33d2ad88e55178780a2601cd06f.txt  \n",
            "  inflating: train/labels/img_163_jpeg.rf.fd814dc8481c54401104d28c9442db43.txt  \n",
            "  inflating: train/labels/img_164_jpeg.rf.66884764a49b717b7909e5f70674cc80.txt  \n",
            "  inflating: train/labels/img_165_jpeg.rf.6cb68073225aa988a195a437028253d2.txt  \n",
            "  inflating: train/labels/img_166_jpeg.rf.51761bd1d040cef349d80503788f7ecb.txt  \n",
            "  inflating: train/labels/img_168_jpeg.rf.7f2ccb577f69900147fc65523fcd295a.txt  \n",
            "  inflating: train/labels/img_169_jpeg.rf.e1db45ee11f948cf765d7aade746b3ff.txt  \n",
            "  inflating: train/labels/img_16_jpeg.rf.c80b24553658cdcc8b8a8568b9275dca.txt  \n",
            "  inflating: train/labels/img_170_jpeg.rf.930cbd176c894d6877325584bedeced6.txt  \n",
            "  inflating: train/labels/img_172_jpeg.rf.d952519fd3710f4b7df101ac703966da.txt  \n",
            "  inflating: train/labels/img_173_jpeg.rf.637b8b4c06259178810830ad3acae243.txt  \n",
            "  inflating: train/labels/img_175_jpeg.rf.97c1849746be8a5a385e552767529892.txt  \n",
            "  inflating: train/labels/img_176_jpeg.rf.62dde3834ef9fc422117ccb282f44dab.txt  \n",
            "  inflating: train/labels/img_177_jpeg.rf.e21509305476c8d96cddeb8012edaf35.txt  \n",
            "  inflating: train/labels/img_178_jpeg.rf.557b18676bf45d39f361c791b9947a9c.txt  \n",
            "  inflating: train/labels/img_179_jpeg.rf.73431b28084ca7c7af1b7ba716d7c1b0.txt  \n",
            "  inflating: train/labels/img_17_jpeg.rf.4be883ea33fce669c2431e872e0f4be5.txt  \n",
            "  inflating: train/labels/img_183_jpeg.rf.853f86196546a55390689c965a31005e.txt  \n",
            "  inflating: train/labels/img_184_jpeg.rf.232f5d98faa9025131c68b8dc6cac36e.txt  \n",
            "  inflating: train/labels/img_186_jpeg.rf.a2021ab86e93f0d8caccc94b9691240e.txt  \n",
            "  inflating: train/labels/img_188_jpeg.rf.48710e35d45b8d863f8d9580f980073c.txt  \n",
            "  inflating: train/labels/img_189_jpeg.rf.d3e979bb5a955665edf17d1b58ab9050.txt  \n",
            "  inflating: train/labels/img_190_jpeg.rf.b16c61cb5f5db2839086521eee1af073.txt  \n",
            "  inflating: train/labels/img_191_jpeg.rf.e5d86afaa35304c1037d2e22208973d9.txt  \n",
            "  inflating: train/labels/img_194_jpeg.rf.3963a065ceacec3af18c428702aeeb3e.txt  \n",
            "  inflating: train/labels/img_195_jpeg.rf.f9dd7362deee792951e4e5bd5ee452fc.txt  \n",
            "  inflating: train/labels/img_196_jpeg.rf.e6a7196b752a7191c65533631a5d5cf1.txt  \n",
            "  inflating: train/labels/img_197_jpeg.rf.7963c98953c7340e7fc92aac181a611d.txt  \n",
            "  inflating: train/labels/img_199_jpeg.rf.31b329e66552aba19229efbd1a820089.txt  \n",
            "  inflating: train/labels/img_19_jpeg.rf.064b9369a52ed2dc9955083781e86af2.txt  \n",
            "  inflating: train/labels/img_1_jpeg.rf.88c8c2b59a4bcc5bc346c1eca6ae1b8b.txt  \n",
            "  inflating: train/labels/img_200_jpeg.rf.c52be0c20138fae16e97c84d1e752ebe.txt  \n",
            "  inflating: train/labels/img_201_jpeg.rf.ef04f564ffd2ef30f4684be9644be750.txt  \n",
            "  inflating: train/labels/img_202_jpeg.rf.5a11a1acc398fcb31dd87084cab2af03.txt  \n",
            "  inflating: train/labels/img_203_jpeg.rf.7af5ed018e97ab9e12c4c2b0f6ebf216.txt  \n",
            "  inflating: train/labels/img_205_jpeg.rf.037318aceaa34bf5b460039c17aa47a3.txt  \n",
            "  inflating: train/labels/img_208_jpeg.rf.c3c5a8e2ee168c7658311dca895490eb.txt  \n",
            "  inflating: train/labels/img_209_jpeg.rf.8787be41300e7fc97e3a774b2a21e58c.txt  \n",
            "  inflating: train/labels/img_20_jpeg.rf.56c16c30532b8d5eb4d54bfd9d6e2aba.txt  \n",
            "  inflating: train/labels/img_211_jpeg.rf.c92e4977a5130a4d6cf72033017fa38d.txt  \n",
            "  inflating: train/labels/img_212_jpeg.rf.dc07a30486127b8b14bb7509fef2cf22.txt  \n",
            "  inflating: train/labels/img_214_jpeg.rf.09dcca1de8e3fa38e956c5e6416b659c.txt  \n",
            "  inflating: train/labels/img_215_jpeg.rf.0dee4426b7a584ff91e0c3653c64ff59.txt  \n",
            "  inflating: train/labels/img_217_jpeg.rf.1e11be7cc0347fbbedda1e2fdee8663d.txt  \n",
            "  inflating: train/labels/img_220_jpeg.rf.f217afec2417775f280c99354ad229be.txt  \n",
            "  inflating: train/labels/img_221_jpeg.rf.413f6c7f1874a1f416339e98e70c4f1d.txt  \n",
            "  inflating: train/labels/img_223_jpeg.rf.3315ed79643628140b32d89148cfeb3f.txt  \n",
            "  inflating: train/labels/img_226_jpeg.rf.d14a8fb1fa7ecec1db6a06eaf408a8cb.txt  \n",
            "  inflating: train/labels/img_227_jpeg.rf.c09428b591c025a6ecbe530af193fbaa.txt  \n",
            "  inflating: train/labels/img_228_jpeg.rf.1562d890cf7d1cf8a064289aadead675.txt  \n",
            "  inflating: train/labels/img_229_jpeg.rf.7388b6d0443b2f2093c7ce0a9d3a9623.txt  \n",
            "  inflating: train/labels/img_230_jpeg.rf.60395c73f7ccf85449295a430d016e45.txt  \n",
            "  inflating: train/labels/img_231_jpeg.rf.a6a3edae0798a63812a1829e03c51ca8.txt  \n",
            "  inflating: train/labels/img_233_jpeg.rf.64dbfbf64e1da639c8335384a54c7bd5.txt  \n",
            "  inflating: train/labels/img_234_jpeg.rf.5395a69b3d8f586474daa288cd240f92.txt  \n",
            "  inflating: train/labels/img_235_jpeg.rf.1d39c5ff6fb7a38fe4b774b6556c9915.txt  \n",
            "  inflating: train/labels/img_239_jpeg.rf.bd36e756613e0b1607a9830666a95903.txt  \n",
            "  inflating: train/labels/img_23_jpeg.rf.9980fcb30726dee4f57e3c420bd0ed43.txt  \n",
            "  inflating: train/labels/img_240_jpeg.rf.7eea8dbeb51739ff5635ac1101e7f66d.txt  \n",
            "  inflating: train/labels/img_241_jpeg.rf.b9bf63a19e8413f19f11acd9c79111ed.txt  \n",
            "  inflating: train/labels/img_244_jpeg.rf.3d997eea0f5296c356848cbd3af897b0.txt  \n",
            "  inflating: train/labels/img_245_jpeg.rf.e243fddfbda713376b3b9da046846c76.txt  \n",
            "  inflating: train/labels/img_247_jpeg.rf.5fa568d60850b048994c55e7fc439246.txt  \n",
            "  inflating: train/labels/img_248_jpeg.rf.07d471f56a2f4970d800bf98f5cec075.txt  \n",
            "  inflating: train/labels/img_249_jpeg.rf.46203729117c04d4939370b747e20f9b.txt  \n",
            "  inflating: train/labels/img_24_jpeg.rf.7aed2f6790ef81c126d8a74a3327a17c.txt  \n",
            "  inflating: train/labels/img_250_jpeg.rf.6e15da7e682b060cfe8baca4520ea08d.txt  \n",
            "  inflating: train/labels/img_251_jpeg.rf.2af9f9a53f9ba6faf8f27716dc105727.txt  \n",
            "  inflating: train/labels/img_253_jpeg.rf.ba9881f04e04e2d633e2a41bef431a29.txt  \n",
            "  inflating: train/labels/img_254_jpeg.rf.1d05ffb87b17d57b3c4cedbdf16de964.txt  \n",
            "  inflating: train/labels/img_255_jpeg.rf.140c1a2e52c1e07bce68fefcef0a6715.txt  \n",
            "  inflating: train/labels/img_256_jpeg.rf.224a12b716b834b228e6e60047f14d77.txt  \n",
            "  inflating: train/labels/img_257_jpeg.rf.e808582d53fae4f92c52d9a69a22742a.txt  \n",
            "  inflating: train/labels/img_258_jpeg.rf.164cbe41aa64bd70d5c611e3dd1c571d.txt  \n",
            "  inflating: train/labels/img_261_jpeg.rf.3b2ec880524d4dffdc2ead332d494aa7.txt  \n",
            "  inflating: train/labels/img_262_jpeg.rf.c53813135e9739ed06204aafb90391d2.txt  \n",
            "  inflating: train/labels/img_263_jpeg.rf.9757b2b8f4ee8f83088acbde57b08f1b.txt  \n",
            "  inflating: train/labels/img_264_jpeg.rf.ba836197e4d47015f403e3024476dd28.txt  \n",
            "  inflating: train/labels/img_265_jpeg.rf.f0b3d4ede5f1e53f3160fcbb534bda58.txt  \n",
            "  inflating: train/labels/img_268_jpeg.rf.78b2ead09a2f7b551c3208f1d5a73016.txt  \n",
            "  inflating: train/labels/img_269_jpeg.rf.a989454033b1517c0c1c668aba5baaf9.txt  \n",
            "  inflating: train/labels/img_270_jpeg.rf.890d6d2f07ddc62b43ed7015aba24664.txt  \n",
            "  inflating: train/labels/img_271_jpeg.rf.6faef8f21d90df7cbe156fb0c1ce5853.txt  \n",
            "  inflating: train/labels/img_273_jpeg.rf.9d576ddd66e389e2993996c9d1c32d37.txt  \n",
            "  inflating: train/labels/img_274_jpeg.rf.70f55d392bfc26d6e7636a8b4f8be5a5.txt  \n",
            "  inflating: train/labels/img_275_jpeg.rf.9081460c6717174727b39f9710c268be.txt  \n",
            "  inflating: train/labels/img_278_jpeg.rf.0342562457c7a3491468bc5cd5dad12c.txt  \n",
            "  inflating: train/labels/img_279_jpeg.rf.f08dd909cf182301f584fde070965a90.txt  \n",
            "  inflating: train/labels/img_281_jpeg.rf.7848162c2ca9a1d5fc53b189d850087a.txt  \n",
            "  inflating: train/labels/img_282_jpeg.rf.5fa8d53b54f6e932f2f4f4cb3280b9cf.txt  \n",
            "  inflating: train/labels/img_285_jpeg.rf.a1b693c737f1b26ec84feb37fa7d6fd7.txt  \n",
            "  inflating: train/labels/img_287_jpeg.rf.c9c97b7d294cb70ad1d14f0346dbfe42.txt  \n",
            "  inflating: train/labels/img_291_jpeg.rf.0bb2f70e3cd4d14d65f72a604fc9b25e.txt  \n",
            "  inflating: train/labels/img_295_jpeg.rf.6228fd6b37e245dc3b3faa1600a810bc.txt  \n",
            "  inflating: train/labels/img_299_jpeg.rf.bc05c81a902b7d29118c3c67561961da.txt  \n",
            "  inflating: train/labels/img_29_jpeg.rf.ef9f90a5b19326302d630b4df932c0f2.txt  \n",
            "  inflating: train/labels/img_300_jpeg.rf.948a2f2178add9866c3a67861ff3f84a.txt  \n",
            "  inflating: train/labels/img_302_jpeg.rf.7b0ef90af9958303a4b8dbfa50052239.txt  \n",
            "  inflating: train/labels/img_304_jpeg.rf.b92d4136df04ae3e3dd7b0dc46961de7.txt  \n",
            "  inflating: train/labels/img_306_jpeg.rf.98f1a88292c4bee1e60d2848ad1a6d9e.txt  \n",
            "  inflating: train/labels/img_308_jpeg.rf.1087710992785001e16ed3a7a062d0be.txt  \n",
            "  inflating: train/labels/img_309_jpeg.rf.22dec5fb89c98fe5c6cd2e1668e9471e.txt  \n",
            "  inflating: train/labels/img_30_jpeg.rf.a4a9ad70710d8336ad29eed1ff364739.txt  \n",
            "  inflating: train/labels/img_313_jpeg.rf.8ad26dbf84fe265291ca05bbf59eae37.txt  \n",
            "  inflating: train/labels/img_317_jpeg.rf.4ad7b495cedbc369799bd58ab3bfac39.txt  \n",
            "  inflating: train/labels/img_319_jpeg.rf.3baf3257a97d7333d360a7e63e501ed8.txt  \n",
            "  inflating: train/labels/img_31_jpeg.rf.66cde5ff17e315fed007c77cd6b57ee8.txt  \n",
            "  inflating: train/labels/img_320_jpeg.rf.834e067a123f210175460dfb699d5470.txt  \n",
            "  inflating: train/labels/img_323_jpeg.rf.f827db1c36ada57af0bf8da11125ee8d.txt  \n",
            "  inflating: train/labels/img_325_jpeg.rf.d0c92e5bfa4302928520a905ea1deae0.txt  \n",
            "  inflating: train/labels/img_326_jpeg.rf.7abd67cecf1847878ae9cf4a4ee5f198.txt  \n",
            "  inflating: train/labels/img_328_jpeg.rf.347ba7b3ca366e9cc3b7f0f001fb3a74.txt  \n",
            "  inflating: train/labels/img_329_jpeg.rf.a293026daf291167253566dee7fbdfcf.txt  \n",
            "  inflating: train/labels/img_333_jpeg.rf.90b3c8fd3ea12ba04fa2621e629cb10c.txt  \n",
            "  inflating: train/labels/img_334_jpeg.rf.723839834836d5c2ab9bc1ed6a5ff1bf.txt  \n",
            "  inflating: train/labels/img_336_jpeg.rf.482fff9ae24be917dff1b716bd817425.txt  \n",
            "  inflating: train/labels/img_338_jpeg.rf.053610fba2e5973c377b16e90225bac5.txt  \n",
            "  inflating: train/labels/img_339_jpeg.rf.d6e8842ed38ca3e3cefd41ab365b0f29.txt  \n",
            "  inflating: train/labels/img_33_jpeg.rf.23f1c909f901f5d40b245db84fc7aed4.txt  \n",
            "  inflating: train/labels/img_341_jpeg.rf.b0a72cb2b370fb66cbaea7a68bbbe249.txt  \n",
            "  inflating: train/labels/img_342_jpeg.rf.196bdbd115aefcbf239681a40e947f78.txt  \n",
            "  inflating: train/labels/img_347_jpeg.rf.79024bb0991c38e7f232c6474878dbd2.txt  \n",
            "  inflating: train/labels/img_348_jpeg.rf.b7819e0da56272af5e3cd1da98e79795.txt  \n",
            "  inflating: train/labels/img_34_jpeg.rf.119c74d49692f400ca5cb663691d1782.txt  \n",
            "  inflating: train/labels/img_350_jpeg.rf.254c49292a194987a6e002f4bc33cf22.txt  \n",
            "  inflating: train/labels/img_351_jpeg.rf.6918568e0cccd74b8b3a25da2ff0ae6f.txt  \n",
            "  inflating: train/labels/img_353_jpeg.rf.fd6c3ed75b27d6cd2844665a431e8467.txt  \n",
            "  inflating: train/labels/img_358_jpeg.rf.4852b1da1041c9c27416d430ac5b6113.txt  \n",
            "  inflating: train/labels/img_35_jpeg.rf.4f6cf80e45523276b3b664301a330c67.txt  \n",
            "  inflating: train/labels/img_361_jpeg.rf.8664a5a9b476e6b1604f9042058bc581.txt  \n",
            "  inflating: train/labels/img_363_jpeg.rf.db3d93cc72bd4af9ca8e3fa51c1104d6.txt  \n",
            "  inflating: train/labels/img_364_jpeg.rf.0f9b0959131862e4ec0a8808fd877dfe.txt  \n",
            "  inflating: train/labels/img_365_jpeg.rf.c9331b3098b99d0c917965d57f014da3.txt  \n",
            "  inflating: train/labels/img_366_jpeg.rf.06032deb6e390280cf6029b3fc07aa34.txt  \n",
            "  inflating: train/labels/img_368_jpeg.rf.ec9e0c29d07acac538c07b569b9f8504.txt  \n",
            "  inflating: train/labels/img_36_jpeg.rf.e0bc660b379239129ac2cb099ff87b79.txt  \n",
            "  inflating: train/labels/img_370_jpeg.rf.160044c783719a692742185d4007d009.txt  \n",
            "  inflating: train/labels/img_371_jpeg.rf.6e014ffce32dd5e01e2fd00eb9388703.txt  \n",
            "  inflating: train/labels/img_372_jpeg.rf.3afe4ec85d46094e73dd707df60f4241.txt  \n",
            "  inflating: train/labels/img_373_jpeg.rf.d267e853c6c02ef310e9505cb8b447ff.txt  \n",
            "  inflating: train/labels/img_376_jpeg.rf.92e6c5329426b419d338c9794d8e196c.txt  \n",
            "  inflating: train/labels/img_377_jpeg.rf.a3ece118beb9b94453509fe853ba382c.txt  \n",
            "  inflating: train/labels/img_378_jpeg.rf.a45a102fef0793aec7d20e9dea2c5892.txt  \n",
            "  inflating: train/labels/img_380_jpeg.rf.59f7423afbe835c1018d22905c57af54.txt  \n",
            "  inflating: train/labels/img_381_jpeg.rf.fbf1522b2aabcb3ebb347929574cbfff.txt  \n",
            "  inflating: train/labels/img_382_jpeg.rf.a001d4ab888fc4b11ac37a245ce42123.txt  \n",
            "  inflating: train/labels/img_383_jpeg.rf.2ea1fd8a787e029aa2a03d6334a90db6.txt  \n",
            "  inflating: train/labels/img_384_jpeg.rf.ac90fb87bda2cf68cd9769aa1f1c49ca.txt  \n",
            "  inflating: train/labels/img_386_jpeg.rf.68e759affda5b3ed3ddf900b8dc1adbd.txt  \n",
            "  inflating: train/labels/img_387_jpeg.rf.1403d9ddca2de1ac28678c925bd3f4f8.txt  \n",
            "  inflating: train/labels/img_391_jpeg.rf.aa2a6548ec14efbbbf128ed7e0d1a0ff.txt  \n",
            "  inflating: train/labels/img_392_jpeg.rf.77b6bad87220b020c913de73fa655e78.txt  \n",
            "  inflating: train/labels/img_395_jpeg.rf.7afd8cfad11d2bc787bdd255bae663bb.txt  \n",
            "  inflating: train/labels/img_396_jpeg.rf.540298c7a982fa37cb21456302a29ac5.txt  \n",
            "  inflating: train/labels/img_397_jpeg.rf.c3faf971f034ec6919c7a126e01c7576.txt  \n",
            "  inflating: train/labels/img_398_jpeg.rf.929d322814a94f9ae9a3e77fa8bd0c0e.txt  \n",
            "  inflating: train/labels/img_399_jpeg.rf.69bbc44ad0eeb40bfefbfd0d6f7bdbbe.txt  \n",
            "  inflating: train/labels/img_3_jpeg.rf.6f5d8324342caabdbbf2498af70b1b4e.txt  \n",
            "  inflating: train/labels/img_40_jpeg.rf.34f5096ba3039ede31ecd1d5b052f9c0.txt  \n",
            "  inflating: train/labels/img_42_jpeg.rf.c2a05c74ea68b61255bea5d9169b217d.txt  \n",
            "  inflating: train/labels/img_43_jpeg.rf.a1cbc421bcc047a74b0bb5867649d999.txt  \n",
            "  inflating: train/labels/img_45_jpeg.rf.38c390f378fd934aff5b1417b456411b.txt  \n",
            "  inflating: train/labels/img_48_jpeg.rf.93066a3b054442d251d3f9bf19b340d2.txt  \n",
            "  inflating: train/labels/img_49_jpeg.rf.ccb4e531a6a0622289195f283178993a.txt  \n",
            "  inflating: train/labels/img_51_jpeg.rf.b0bef00a09150c427b5fbefd27816851.txt  \n",
            "  inflating: train/labels/img_54_jpeg.rf.64b63117a3e7c3912fb700c0a13c3714.txt  \n",
            "  inflating: train/labels/img_55_jpeg.rf.1713fbe055e2d800926ac67fb7e5898a.txt  \n",
            "  inflating: train/labels/img_56_jpeg.rf.f381eaec82bd43844a98d2c3576f4949.txt  \n",
            "  inflating: train/labels/img_58_jpeg.rf.a16ee42f09b8fcb693c4a93b4f6cc463.txt  \n",
            "  inflating: train/labels/img_59_jpeg.rf.27cdfcaed3b515d51a961767636cab9e.txt  \n",
            "  inflating: train/labels/img_5_jpeg.rf.86dfbec7467df596990b6216105fb479.txt  \n",
            "  inflating: train/labels/img_61_jpeg.rf.7cc961124c2683bc0ba19e908a612bb8.txt  \n",
            "  inflating: train/labels/img_62_jpeg.rf.96e6544b66987249a1c92f1f5a8f06f2.txt  \n",
            "  inflating: train/labels/img_65_jpeg.rf.74dcb7636f028bcbfb12a20f63ffd7e4.txt  \n",
            "  inflating: train/labels/img_66_jpeg.rf.e6a6f0c20b389873e409e0f0a25b2f7e.txt  \n",
            "  inflating: train/labels/img_67_jpeg.rf.8910e9285fc09bb78d11a28c983883d0.txt  \n",
            "  inflating: train/labels/img_68_jpeg.rf.2b841a41bc946749fb5139c383e5b699.txt  \n",
            "  inflating: train/labels/img_69_jpeg.rf.c318695cf729528c682d24461f67276b.txt  \n",
            "  inflating: train/labels/img_70_jpeg.rf.961d868ec8ddc4871a7cbe9fed019137.txt  \n",
            "  inflating: train/labels/img_71_jpeg.rf.b9aa799037007094aef9c40e5c5e4ece.txt  \n",
            "  inflating: train/labels/img_77_jpeg.rf.d29a2c8018e4cbb9dcbff709df7bc971.txt  \n",
            "  inflating: train/labels/img_78_jpeg.rf.f5b221b02a4f4a96e5df651f8f7fa86a.txt  \n",
            "  inflating: train/labels/img_79_jpeg.rf.06b16f303a1cccf7c766e3d03e64f4f7.txt  \n",
            "  inflating: train/labels/img_7_jpeg.rf.d30ac51b921360b2f4573a7cbab15711.txt  \n",
            "  inflating: train/labels/img_80_jpeg.rf.5e35ec3e38ac6ebb4969bf7fef1593fa.txt  \n",
            "  inflating: train/labels/img_86_jpeg.rf.b09a937ee2f2c9fc6a0abb08ead2a7e4.txt  \n",
            "  inflating: train/labels/img_90_jpeg.rf.3dad31b845c5c35d92c9366f51008599.txt  \n",
            "  inflating: train/labels/img_91_jpeg.rf.ac4356ddfdcaa617b33fda521c6c023e.txt  \n",
            "  inflating: train/labels/img_92_jpeg.rf.ede7d6167f975e617be2924e9ae5b495.txt  \n",
            "  inflating: train/labels/img_98_jpeg.rf.19240dfe90cec38429cac015767cc618.txt  \n",
            "  inflating: train/labels/img_99_jpeg.rf.a7837216504607ba89c43d4a4fcdfb67.txt  \n",
            "  inflating: train/labels/img_9_jpeg.rf.b61465d16e7ad5097048547f32ca2c5d.txt  \n",
            "  inflating: valid/images/img_103_jpeg.rf.43842bdd00c5557e0b134dc76144a2bc.jpg  \n",
            "  inflating: valid/images/img_105_jpeg.rf.d6c3eec796c7f95c9f77b5d30a262671.jpg  \n",
            "  inflating: valid/images/img_110_jpeg.rf.9253c9149f377f516f8b709cb71b02c3.jpg  \n",
            "  inflating: valid/images/img_119_jpeg.rf.1fa6be16787bcc86a428d417bfb46b84.jpg  \n",
            "  inflating: valid/images/img_123_jpeg.rf.38bf22b4e3a7dcaddf20c80f63b26e41.jpg  \n",
            "  inflating: valid/images/img_126_jpeg.rf.f8df165d7c06ccc2a836f171682b9ded.jpg  \n",
            "  inflating: valid/images/img_135_jpeg.rf.8beda47e93def602ffc24c4f9ca33a14.jpg  \n",
            "  inflating: valid/images/img_140_jpeg.rf.12c51ed0d667d3d45b13be71154e0224.jpg  \n",
            "  inflating: valid/images/img_145_jpeg.rf.f239e1a562c32228a022222ef0512786.jpg  \n",
            "  inflating: valid/images/img_146_jpeg.rf.852109b1aaf7b497c7fc1cd3badbe7c9.jpg  \n",
            "  inflating: valid/images/img_151_jpeg.rf.908eaf6bdb5a1290979d6c8a57cc015f.jpg  \n",
            "  inflating: valid/images/img_155_jpeg.rf.cba671830e10f5b4bf4f6f391419ed85.jpg  \n",
            "  inflating: valid/images/img_156_jpeg.rf.b04928f62c43d4f21a9e777eb64bcec4.jpg  \n",
            "  inflating: valid/images/img_157_jpeg.rf.1628e151f6894ec8abc3b7820b18893d.jpg  \n",
            "  inflating: valid/images/img_158_jpeg.rf.e456a56f54386b228f2343bf6e60e66f.jpg  \n",
            "  inflating: valid/images/img_159_jpeg.rf.7b22ea359c3657ffb73491bf9d1998bf.jpg  \n",
            "  inflating: valid/images/img_174_jpeg.rf.c59319f24938d4cc3507080170fec514.jpg  \n",
            "  inflating: valid/images/img_182_jpeg.rf.49257e854594792f4c88c8c40df53f90.jpg  \n",
            "  inflating: valid/images/img_185_jpeg.rf.970c3fb1c34ff14d10fac8a9d5d0836d.jpg  \n",
            "  inflating: valid/images/img_18_jpeg.rf.652a3ba318965693dd5a31cf4a1338ac.jpg  \n",
            "  inflating: valid/images/img_192_jpeg.rf.430be9e805c30345ad42de2528bf8729.jpg  \n",
            "  inflating: valid/images/img_204_jpeg.rf.c54685652061ebfd0cbdbc7e27bdef9e.jpg  \n",
            "  inflating: valid/images/img_213_jpeg.rf.dec7ae2cd8297831ed75e5e0d59c52b5.jpg  \n",
            "  inflating: valid/images/img_216_jpeg.rf.1cf8e3c8cc73a34a181df87b403e9f73.jpg  \n",
            "  inflating: valid/images/img_219_jpeg.rf.75d3c857654c404f6026c0173df33ba7.jpg  \n",
            "  inflating: valid/images/img_222_jpeg.rf.5db42a02994db23a7b8aae8c041b8d94.jpg  \n",
            "  inflating: valid/images/img_225_jpeg.rf.bdb5ddacd4adbc69b18f96c0699cc63c.jpg  \n",
            "  inflating: valid/images/img_22_jpeg.rf.219e5340da2c0e50431cbae270c172f8.jpg  \n",
            "  inflating: valid/images/img_232_jpeg.rf.a106be9fe9c54017669cb09e5199891e.jpg  \n",
            "  inflating: valid/images/img_237_jpeg.rf.00a6d1dd6a9bbc93f68ee77bcc52b4d3.jpg  \n",
            "  inflating: valid/images/img_246_jpeg.rf.c9c30904d6a5fcae903d07c120dc7f83.jpg  \n",
            "  inflating: valid/images/img_252_jpeg.rf.41206df2d85f5ef8ed2882d88b5a9ba6.jpg  \n",
            "  inflating: valid/images/img_25_jpeg.rf.f2e3f33d1e58ccc344dcf0086db77b89.jpg  \n",
            "  inflating: valid/images/img_26_jpeg.rf.28de576c5f13edf65bc6b6fd12af3535.jpg  \n",
            "  inflating: valid/images/img_276_jpeg.rf.c93a6119797fcea2c688ab425afe43af.jpg  \n",
            "  inflating: valid/images/img_2_jpeg.rf.8a1409a7c8dede8c2105b608dcc07721.jpg  \n",
            "  inflating: valid/images/img_303_jpeg.rf.6cd58f29291f0c211342eeab15bae8df.jpg  \n",
            "  inflating: valid/images/img_307_jpeg.rf.8ee20e9d3ea38fa3a62c2495e7e824e3.jpg  \n",
            "  inflating: valid/images/img_310_jpeg.rf.150b6d47ad21486ba3e29b61aac8d6a5.jpg  \n",
            "  inflating: valid/images/img_312_jpeg.rf.d4b6489463838e0043352f4a0e6feaf0.jpg  \n",
            "  inflating: valid/images/img_316_jpeg.rf.6557c99c8067a77cc2fd5586e1da1c4c.jpg  \n",
            "  inflating: valid/images/img_32_jpeg.rf.75ac0f71b548aa706ba84290dca33f43.jpg  \n",
            "  inflating: valid/images/img_343_jpeg.rf.c48a132ec2e10c7a9b09ff63f877a927.jpg  \n",
            "  inflating: valid/images/img_346_jpeg.rf.e8c19b8076f6fe6580d42ad573642f9a.jpg  \n",
            "  inflating: valid/images/img_349_jpeg.rf.4eaf5f3f144fa8791cca1683504caa28.jpg  \n",
            "  inflating: valid/images/img_360_jpeg.rf.86a8b8ac5726137a34bc6bff63ec3947.jpg  \n",
            "  inflating: valid/images/img_362_jpeg.rf.762449a065dd8f9f462ce4e227f0ff80.jpg  \n",
            "  inflating: valid/images/img_367_jpeg.rf.1b56d2fba2a27801db0542acaa381655.jpg  \n",
            "  inflating: valid/images/img_379_jpeg.rf.0a711f4cec977d4262a5870a4ebc3afb.jpg  \n",
            "  inflating: valid/images/img_390_jpeg.rf.b63388fc8b44b7542f2e2478565a0e4b.jpg  \n",
            "  inflating: valid/images/img_41_jpeg.rf.1e2d038f6618b7d0b4d5c2e9bdae531b.jpg  \n",
            "  inflating: valid/images/img_46_jpeg.rf.4adfcdf9909247ba0453cbb3bb606a5d.jpg  \n",
            "  inflating: valid/images/img_53_jpeg.rf.2ddcb0a92922d7dcd7f22805308fa90a.jpg  \n",
            "  inflating: valid/images/img_57_jpeg.rf.c3c66a133ae01cb664639d2d6a104c68.jpg  \n",
            "  inflating: valid/images/img_60_jpeg.rf.c14195df4b8f05fcba6ced15c7b09b08.jpg  \n",
            "  inflating: valid/images/img_63_jpeg.rf.6c5e6ebd569a5c823272a90dc17ec9da.jpg  \n",
            "  inflating: valid/images/img_6_jpeg.rf.c0947c276973ecc3fca675c3f337c0ce.jpg  \n",
            "  inflating: valid/images/img_75_jpeg.rf.34d44ef679749b8936249bd8e37d5ef3.jpg  \n",
            "  inflating: valid/images/img_81_jpeg.rf.ef3a57e3a5fb6f6c95f4fac01a39d371.jpg  \n",
            "  inflating: valid/images/img_87_jpeg.rf.e79ea71d0553af004ed83cf8116c5223.jpg  \n",
            "  inflating: valid/images/img_89_jpeg.rf.2980c98255456e2be8b810f36bed70bb.jpg  \n",
            "  inflating: valid/images/img_8_jpeg.rf.a4192a02bafe04e65e4b5cd5de161b24.jpg  \n",
            "  inflating: valid/images/img_93_jpeg.rf.8fd3f9d91731abc49b1d3cac42ddbf81.jpg  \n",
            "  inflating: valid/images/img_95_jpeg.rf.b4d9791cbc3c1382a27ab41decad1413.jpg  \n",
            "  inflating: valid/images/img_96_jpeg.rf.f3be62a57101b6eac5e90bd1fc3e172a.jpg  \n",
            "  inflating: valid/labels/img_103_jpeg.rf.43842bdd00c5557e0b134dc76144a2bc.txt  \n",
            "  inflating: valid/labels/img_105_jpeg.rf.d6c3eec796c7f95c9f77b5d30a262671.txt  \n",
            "  inflating: valid/labels/img_110_jpeg.rf.9253c9149f377f516f8b709cb71b02c3.txt  \n",
            "  inflating: valid/labels/img_119_jpeg.rf.1fa6be16787bcc86a428d417bfb46b84.txt  \n",
            "  inflating: valid/labels/img_123_jpeg.rf.38bf22b4e3a7dcaddf20c80f63b26e41.txt  \n",
            "  inflating: valid/labels/img_126_jpeg.rf.f8df165d7c06ccc2a836f171682b9ded.txt  \n",
            "  inflating: valid/labels/img_135_jpeg.rf.8beda47e93def602ffc24c4f9ca33a14.txt  \n",
            "  inflating: valid/labels/img_140_jpeg.rf.12c51ed0d667d3d45b13be71154e0224.txt  \n",
            "  inflating: valid/labels/img_145_jpeg.rf.f239e1a562c32228a022222ef0512786.txt  \n",
            "  inflating: valid/labels/img_146_jpeg.rf.852109b1aaf7b497c7fc1cd3badbe7c9.txt  \n",
            "  inflating: valid/labels/img_151_jpeg.rf.908eaf6bdb5a1290979d6c8a57cc015f.txt  \n",
            "  inflating: valid/labels/img_155_jpeg.rf.cba671830e10f5b4bf4f6f391419ed85.txt  \n",
            "  inflating: valid/labels/img_156_jpeg.rf.b04928f62c43d4f21a9e777eb64bcec4.txt  \n",
            "  inflating: valid/labels/img_157_jpeg.rf.1628e151f6894ec8abc3b7820b18893d.txt  \n",
            "  inflating: valid/labels/img_158_jpeg.rf.e456a56f54386b228f2343bf6e60e66f.txt  \n",
            "  inflating: valid/labels/img_159_jpeg.rf.7b22ea359c3657ffb73491bf9d1998bf.txt  \n",
            "  inflating: valid/labels/img_174_jpeg.rf.c59319f24938d4cc3507080170fec514.txt  \n",
            "  inflating: valid/labels/img_182_jpeg.rf.49257e854594792f4c88c8c40df53f90.txt  \n",
            "  inflating: valid/labels/img_185_jpeg.rf.970c3fb1c34ff14d10fac8a9d5d0836d.txt  \n",
            "  inflating: valid/labels/img_18_jpeg.rf.652a3ba318965693dd5a31cf4a1338ac.txt  \n",
            "  inflating: valid/labels/img_192_jpeg.rf.430be9e805c30345ad42de2528bf8729.txt  \n",
            "  inflating: valid/labels/img_204_jpeg.rf.c54685652061ebfd0cbdbc7e27bdef9e.txt  \n",
            "  inflating: valid/labels/img_213_jpeg.rf.dec7ae2cd8297831ed75e5e0d59c52b5.txt  \n",
            "  inflating: valid/labels/img_216_jpeg.rf.1cf8e3c8cc73a34a181df87b403e9f73.txt  \n",
            "  inflating: valid/labels/img_219_jpeg.rf.75d3c857654c404f6026c0173df33ba7.txt  \n",
            "  inflating: valid/labels/img_222_jpeg.rf.5db42a02994db23a7b8aae8c041b8d94.txt  \n",
            "  inflating: valid/labels/img_225_jpeg.rf.bdb5ddacd4adbc69b18f96c0699cc63c.txt  \n",
            "  inflating: valid/labels/img_22_jpeg.rf.219e5340da2c0e50431cbae270c172f8.txt  \n",
            "  inflating: valid/labels/img_232_jpeg.rf.a106be9fe9c54017669cb09e5199891e.txt  \n",
            "  inflating: valid/labels/img_237_jpeg.rf.00a6d1dd6a9bbc93f68ee77bcc52b4d3.txt  \n",
            "  inflating: valid/labels/img_246_jpeg.rf.c9c30904d6a5fcae903d07c120dc7f83.txt  \n",
            "  inflating: valid/labels/img_252_jpeg.rf.41206df2d85f5ef8ed2882d88b5a9ba6.txt  \n",
            "  inflating: valid/labels/img_25_jpeg.rf.f2e3f33d1e58ccc344dcf0086db77b89.txt  \n",
            "  inflating: valid/labels/img_26_jpeg.rf.28de576c5f13edf65bc6b6fd12af3535.txt  \n",
            "  inflating: valid/labels/img_276_jpeg.rf.c93a6119797fcea2c688ab425afe43af.txt  \n",
            "  inflating: valid/labels/img_2_jpeg.rf.8a1409a7c8dede8c2105b608dcc07721.txt  \n",
            "  inflating: valid/labels/img_303_jpeg.rf.6cd58f29291f0c211342eeab15bae8df.txt  \n",
            "  inflating: valid/labels/img_307_jpeg.rf.8ee20e9d3ea38fa3a62c2495e7e824e3.txt  \n",
            "  inflating: valid/labels/img_310_jpeg.rf.150b6d47ad21486ba3e29b61aac8d6a5.txt  \n",
            "  inflating: valid/labels/img_312_jpeg.rf.d4b6489463838e0043352f4a0e6feaf0.txt  \n",
            "  inflating: valid/labels/img_316_jpeg.rf.6557c99c8067a77cc2fd5586e1da1c4c.txt  \n",
            "  inflating: valid/labels/img_32_jpeg.rf.75ac0f71b548aa706ba84290dca33f43.txt  \n",
            "  inflating: valid/labels/img_343_jpeg.rf.c48a132ec2e10c7a9b09ff63f877a927.txt  \n",
            "  inflating: valid/labels/img_346_jpeg.rf.e8c19b8076f6fe6580d42ad573642f9a.txt  \n",
            "  inflating: valid/labels/img_349_jpeg.rf.4eaf5f3f144fa8791cca1683504caa28.txt  \n",
            "  inflating: valid/labels/img_360_jpeg.rf.86a8b8ac5726137a34bc6bff63ec3947.txt  \n",
            "  inflating: valid/labels/img_362_jpeg.rf.762449a065dd8f9f462ce4e227f0ff80.txt  \n",
            "  inflating: valid/labels/img_367_jpeg.rf.1b56d2fba2a27801db0542acaa381655.txt  \n",
            "  inflating: valid/labels/img_379_jpeg.rf.0a711f4cec977d4262a5870a4ebc3afb.txt  \n",
            "  inflating: valid/labels/img_390_jpeg.rf.b63388fc8b44b7542f2e2478565a0e4b.txt  \n",
            "  inflating: valid/labels/img_41_jpeg.rf.1e2d038f6618b7d0b4d5c2e9bdae531b.txt  \n",
            "  inflating: valid/labels/img_46_jpeg.rf.4adfcdf9909247ba0453cbb3bb606a5d.txt  \n",
            "  inflating: valid/labels/img_53_jpeg.rf.2ddcb0a92922d7dcd7f22805308fa90a.txt  \n",
            "  inflating: valid/labels/img_57_jpeg.rf.c3c66a133ae01cb664639d2d6a104c68.txt  \n",
            "  inflating: valid/labels/img_60_jpeg.rf.c14195df4b8f05fcba6ced15c7b09b08.txt  \n",
            "  inflating: valid/labels/img_63_jpeg.rf.6c5e6ebd569a5c823272a90dc17ec9da.txt  \n",
            "  inflating: valid/labels/img_6_jpeg.rf.c0947c276973ecc3fca675c3f337c0ce.txt  \n",
            "  inflating: valid/labels/img_75_jpeg.rf.34d44ef679749b8936249bd8e37d5ef3.txt  \n",
            "  inflating: valid/labels/img_81_jpeg.rf.ef3a57e3a5fb6f6c95f4fac01a39d371.txt  \n",
            "  inflating: valid/labels/img_87_jpeg.rf.e79ea71d0553af004ed83cf8116c5223.txt  \n",
            "  inflating: valid/labels/img_89_jpeg.rf.2980c98255456e2be8b810f36bed70bb.txt  \n",
            "  inflating: valid/labels/img_8_jpeg.rf.a4192a02bafe04e65e4b5cd5de161b24.txt  \n",
            "  inflating: valid/labels/img_93_jpeg.rf.8fd3f9d91731abc49b1d3cac42ddbf81.txt  \n",
            "  inflating: valid/labels/img_95_jpeg.rf.b4d9791cbc3c1382a27ab41decad1413.txt  \n",
            "  inflating: valid/labels/img_96_jpeg.rf.f3be62a57101b6eac5e90bd1fc3e172a.txt  \n"
          ]
        }
      ]
    },
    {
      "cell_type": "code",
      "source": [
        "cat data.yaml"
      ],
      "metadata": {
        "colab": {
          "base_uri": "https://localhost:8080/"
        },
        "id": "7Y74f1BfFdsK",
        "outputId": "77d4e366-cefb-43b6-d807-54940f568f05"
      },
      "execution_count": 18,
      "outputs": [
        {
          "output_type": "stream",
          "name": "stdout",
          "text": [
            "train: ../train/images\n",
            "val: ../valid/images\n",
            "\n",
            "nc: 1\n",
            "names: ['Location-of-ball']"
          ]
        }
      ]
    },
    {
      "cell_type": "code",
      "source": [
        "# STEP 7: Train YOLOv8m\n",
        "from ultralytics import YOLO\n",
        "\n",
        "model = YOLO(\"yolov8l.pt\")  # Use pretrained medium model\n",
        "model.train(data='data.yaml', epochs=50, imgsz=640, batch=16)\n",
        "\n",
        "# STEP 8: Evaluate the model\n",
        "metrics = model.val()\n",
        "print(metrics)\n",
        "\n",
        "# STEP 8: Mount Google Drive\n",
        "from google.colab import drive\n",
        "drive.mount('/content/drive')\n",
        "\n",
        "# STEP 9: Save the best model (.pt) to Google Drive\n",
        "import shutil\n",
        "\n",
        "# Path to the best model (after training)\n",
        "best_model_path = 'runs/detect/train7/weights/best.pt'\n",
        "\n",
        "# Your destination folder in Drive\n",
        "drive_path = '/content/drive/MyDrive/ball_best2.pt'\n",
        "\n",
        "# Make sure the destination directory exists\n",
        "os.makedirs(os.path.dirname(drive_path), exist_ok=True)\n",
        "\n",
        "# Copy the model to Drive\n",
        "shutil.copy(best_model_path, drive_path)\n",
        "\n",
        "print(f\"Model saved to {drive_path}\")"
      ],
      "metadata": {
        "id": "mL8pXx8-EGPG",
        "colab": {
          "base_uri": "https://localhost:8080/"
        },
        "outputId": "c6dcbf16-b94d-4066-e45e-bd5fa98764e6"
      },
      "execution_count": 29,
      "outputs": [
        {
          "output_type": "stream",
          "name": "stdout",
          "text": [
            "Downloading https://github.com/ultralytics/assets/releases/download/v8.3.0/yolov8l.pt to 'yolov8l.pt'...\n"
          ]
        },
        {
          "output_type": "stream",
          "name": "stderr",
          "text": [
            "100%|██████████| 83.7M/83.7M [00:00<00:00, 317MB/s]\n"
          ]
        },
        {
          "output_type": "stream",
          "name": "stdout",
          "text": [
            "Ultralytics 8.3.134 🚀 Python-3.11.12 torch-2.6.0+cu124 CUDA:0 (Tesla T4, 15095MiB)\n",
            "\u001b[34m\u001b[1mengine/trainer: \u001b[0magnostic_nms=False, amp=True, augment=False, auto_augment=randaugment, batch=16, bgr=0.0, box=7.5, cache=False, cfg=None, classes=None, close_mosaic=10, cls=0.5, conf=None, copy_paste=0.0, copy_paste_mode=flip, cos_lr=False, cutmix=0.0, data=data.yaml, degrees=0.0, deterministic=True, device=None, dfl=1.5, dnn=False, dropout=0.0, dynamic=False, embed=None, epochs=50, erasing=0.4, exist_ok=False, fliplr=0.5, flipud=0.0, format=torchscript, fraction=1.0, freeze=None, half=False, hsv_h=0.015, hsv_s=0.7, hsv_v=0.4, imgsz=640, int8=False, iou=0.7, keras=False, kobj=1.0, line_width=None, lr0=0.01, lrf=0.01, mask_ratio=4, max_det=300, mixup=0.0, mode=train, model=yolov8l.pt, momentum=0.937, mosaic=1.0, multi_scale=False, name=train7, nbs=64, nms=False, opset=None, optimize=False, optimizer=auto, overlap_mask=True, patience=100, perspective=0.0, plots=True, pose=12.0, pretrained=True, profile=False, project=None, rect=False, resume=False, retina_masks=False, save=True, save_conf=False, save_crop=False, save_dir=runs/detect/train7, save_frames=False, save_json=False, save_period=-1, save_txt=False, scale=0.5, seed=0, shear=0.0, show=False, show_boxes=True, show_conf=True, show_labels=True, simplify=True, single_cls=False, source=None, split=val, stream_buffer=False, task=detect, time=None, tracker=botsort.yaml, translate=0.1, val=True, verbose=True, vid_stride=1, visualize=False, warmup_bias_lr=0.1, warmup_epochs=3.0, warmup_momentum=0.8, weight_decay=0.0005, workers=8, workspace=None\n",
            "Overriding model.yaml nc=80 with nc=1\n",
            "\n",
            "                   from  n    params  module                                       arguments                     \n",
            "  0                  -1  1      1856  ultralytics.nn.modules.conv.Conv             [3, 64, 3, 2]                 \n",
            "  1                  -1  1     73984  ultralytics.nn.modules.conv.Conv             [64, 128, 3, 2]               \n",
            "  2                  -1  3    279808  ultralytics.nn.modules.block.C2f             [128, 128, 3, True]           \n",
            "  3                  -1  1    295424  ultralytics.nn.modules.conv.Conv             [128, 256, 3, 2]              \n",
            "  4                  -1  6   2101248  ultralytics.nn.modules.block.C2f             [256, 256, 6, True]           \n",
            "  5                  -1  1   1180672  ultralytics.nn.modules.conv.Conv             [256, 512, 3, 2]              \n",
            "  6                  -1  6   8396800  ultralytics.nn.modules.block.C2f             [512, 512, 6, True]           \n",
            "  7                  -1  1   2360320  ultralytics.nn.modules.conv.Conv             [512, 512, 3, 2]              \n",
            "  8                  -1  3   4461568  ultralytics.nn.modules.block.C2f             [512, 512, 3, True]           \n",
            "  9                  -1  1    656896  ultralytics.nn.modules.block.SPPF            [512, 512, 5]                 \n",
            " 10                  -1  1         0  torch.nn.modules.upsampling.Upsample         [None, 2, 'nearest']          \n",
            " 11             [-1, 6]  1         0  ultralytics.nn.modules.conv.Concat           [1]                           \n",
            " 12                  -1  3   4723712  ultralytics.nn.modules.block.C2f             [1024, 512, 3]                \n",
            " 13                  -1  1         0  torch.nn.modules.upsampling.Upsample         [None, 2, 'nearest']          \n",
            " 14             [-1, 4]  1         0  ultralytics.nn.modules.conv.Concat           [1]                           \n",
            " 15                  -1  3   1247744  ultralytics.nn.modules.block.C2f             [768, 256, 3]                 \n",
            " 16                  -1  1    590336  ultralytics.nn.modules.conv.Conv             [256, 256, 3, 2]              \n",
            " 17            [-1, 12]  1         0  ultralytics.nn.modules.conv.Concat           [1]                           \n",
            " 18                  -1  3   4592640  ultralytics.nn.modules.block.C2f             [768, 512, 3]                 \n",
            " 19                  -1  1   2360320  ultralytics.nn.modules.conv.Conv             [512, 512, 3, 2]              \n",
            " 20             [-1, 9]  1         0  ultralytics.nn.modules.conv.Concat           [1]                           \n",
            " 21                  -1  3   4723712  ultralytics.nn.modules.block.C2f             [1024, 512, 3]                \n",
            " 22        [15, 18, 21]  1   5583571  ultralytics.nn.modules.head.Detect           [1, [256, 512, 512]]          \n",
            "Model summary: 209 layers, 43,630,611 parameters, 43,630,595 gradients, 165.4 GFLOPs\n",
            "\n",
            "Transferred 589/595 items from pretrained weights\n",
            "Freezing layer 'model.22.dfl.conv.weight'\n",
            "\u001b[34m\u001b[1mAMP: \u001b[0mrunning Automatic Mixed Precision (AMP) checks...\n",
            "\u001b[34m\u001b[1mAMP: \u001b[0mchecks passed ✅\n",
            "\u001b[34m\u001b[1mtrain: \u001b[0mFast image access ✅ (ping: 0.0±0.0 ms, read: 2306.5±276.6 MB/s, size: 220.1 KB)\n"
          ]
        },
        {
          "output_type": "stream",
          "name": "stderr",
          "text": [
            "\u001b[34m\u001b[1mtrain: \u001b[0mScanning /content/train/labels.cache... 230 images, 0 backgrounds, 0 corrupt: 100%|██████████| 230/230 [00:00<?, ?it/s]"
          ]
        },
        {
          "output_type": "stream",
          "name": "stdout",
          "text": [
            "\u001b[34m\u001b[1malbumentations: \u001b[0mBlur(p=0.01, blur_limit=(3, 7)), MedianBlur(p=0.01, blur_limit=(3, 7)), ToGray(p=0.01, method='weighted_average', num_output_channels=3), CLAHE(p=0.01, clip_limit=(1.0, 4.0), tile_grid_size=(8, 8))\n"
          ]
        },
        {
          "output_type": "stream",
          "name": "stderr",
          "text": [
            "\n"
          ]
        },
        {
          "output_type": "stream",
          "name": "stdout",
          "text": [
            "\u001b[34m\u001b[1mval: \u001b[0mFast image access ✅ (ping: 0.0±0.0 ms, read: 1193.6±864.4 MB/s, size: 249.7 KB)\n"
          ]
        },
        {
          "output_type": "stream",
          "name": "stderr",
          "text": [
            "\u001b[34m\u001b[1mval: \u001b[0mScanning /content/valid/labels.cache... 65 images, 0 backgrounds, 0 corrupt: 100%|██████████| 65/65 [00:00<?, ?it/s]\n"
          ]
        },
        {
          "output_type": "stream",
          "name": "stdout",
          "text": [
            "Plotting labels to runs/detect/train7/labels.jpg... \n",
            "\u001b[34m\u001b[1moptimizer:\u001b[0m 'optimizer=auto' found, ignoring 'lr0=0.01' and 'momentum=0.937' and determining best 'optimizer', 'lr0' and 'momentum' automatically... \n",
            "\u001b[34m\u001b[1moptimizer:\u001b[0m AdamW(lr=0.002, momentum=0.9) with parameter groups 97 weight(decay=0.0), 104 weight(decay=0.0005), 103 bias(decay=0.0)\n",
            "Image sizes 640 train, 640 val\n",
            "Using 2 dataloader workers\n",
            "Logging results to \u001b[1mruns/detect/train7\u001b[0m\n",
            "Starting training for 50 epochs...\n",
            "\n",
            "      Epoch    GPU_mem   box_loss   cls_loss   dfl_loss  Instances       Size\n"
          ]
        },
        {
          "output_type": "stream",
          "name": "stderr",
          "text": [
            "       1/50      13.6G      5.079      96.78      1.571         11        640: 100%|██████████| 15/15 [00:11<00:00,  1.29it/s]\n",
            "                 Class     Images  Instances      Box(P          R      mAP50  mAP50-95): 100%|██████████| 3/3 [00:01<00:00,  2.87it/s]"
          ]
        },
        {
          "output_type": "stream",
          "name": "stdout",
          "text": [
            "                   all         65         65          0          0          0          0\n"
          ]
        },
        {
          "output_type": "stream",
          "name": "stderr",
          "text": [
            "\n"
          ]
        },
        {
          "output_type": "stream",
          "name": "stdout",
          "text": [
            "\n",
            "      Epoch    GPU_mem   box_loss   cls_loss   dfl_loss  Instances       Size\n"
          ]
        },
        {
          "output_type": "stream",
          "name": "stderr",
          "text": [
            "       2/50      10.7G      3.807      126.2      1.201         11        640: 100%|██████████| 15/15 [00:11<00:00,  1.28it/s]\n",
            "                 Class     Images  Instances      Box(P          R      mAP50  mAP50-95): 100%|██████████| 3/3 [00:00<00:00,  3.21it/s]"
          ]
        },
        {
          "output_type": "stream",
          "name": "stdout",
          "text": [
            "                   all         65         65   0.000235     0.0615   0.000111   4.32e-05\n"
          ]
        },
        {
          "output_type": "stream",
          "name": "stderr",
          "text": [
            "\n"
          ]
        },
        {
          "output_type": "stream",
          "name": "stdout",
          "text": [
            "\n",
            "      Epoch    GPU_mem   box_loss   cls_loss   dfl_loss  Instances       Size\n"
          ]
        },
        {
          "output_type": "stream",
          "name": "stderr",
          "text": [
            "       3/50      10.5G      3.813      11.57      1.131          9        640: 100%|██████████| 15/15 [00:11<00:00,  1.25it/s]\n",
            "                 Class     Images  Instances      Box(P          R      mAP50  mAP50-95): 100%|██████████| 3/3 [00:00<00:00,  3.76it/s]"
          ]
        },
        {
          "output_type": "stream",
          "name": "stdout",
          "text": [
            "                   all         65         65          0          0          0          0\n"
          ]
        },
        {
          "output_type": "stream",
          "name": "stderr",
          "text": [
            "\n"
          ]
        },
        {
          "output_type": "stream",
          "name": "stdout",
          "text": [
            "\n",
            "      Epoch    GPU_mem   box_loss   cls_loss   dfl_loss  Instances       Size\n"
          ]
        },
        {
          "output_type": "stream",
          "name": "stderr",
          "text": [
            "       4/50      10.7G      3.523      3.898      1.096          8        640: 100%|██████████| 15/15 [00:11<00:00,  1.32it/s]\n",
            "                 Class     Images  Instances      Box(P          R      mAP50  mAP50-95): 100%|██████████| 3/3 [00:00<00:00,  3.95it/s]"
          ]
        },
        {
          "output_type": "stream",
          "name": "stdout",
          "text": [
            "                   all         65         65          0          0          0          0\n"
          ]
        },
        {
          "output_type": "stream",
          "name": "stderr",
          "text": [
            "\n"
          ]
        },
        {
          "output_type": "stream",
          "name": "stdout",
          "text": [
            "\n",
            "      Epoch    GPU_mem   box_loss   cls_loss   dfl_loss  Instances       Size\n"
          ]
        },
        {
          "output_type": "stream",
          "name": "stderr",
          "text": [
            "       5/50      10.7G      3.391      2.885      1.036          8        640: 100%|██████████| 15/15 [00:11<00:00,  1.35it/s]\n",
            "                 Class     Images  Instances      Box(P          R      mAP50  mAP50-95): 100%|██████████| 3/3 [00:00<00:00,  4.04it/s]"
          ]
        },
        {
          "output_type": "stream",
          "name": "stdout",
          "text": [
            "                   all         65         65          0          0          0          0\n"
          ]
        },
        {
          "output_type": "stream",
          "name": "stderr",
          "text": [
            "\n"
          ]
        },
        {
          "output_type": "stream",
          "name": "stdout",
          "text": [
            "\n",
            "      Epoch    GPU_mem   box_loss   cls_loss   dfl_loss  Instances       Size\n"
          ]
        },
        {
          "output_type": "stream",
          "name": "stderr",
          "text": [
            "       6/50      10.7G      3.503      2.908      1.049         12        640: 100%|██████████| 15/15 [00:11<00:00,  1.34it/s]\n",
            "                 Class     Images  Instances      Box(P          R      mAP50  mAP50-95): 100%|██████████| 3/3 [00:00<00:00,  3.79it/s]"
          ]
        },
        {
          "output_type": "stream",
          "name": "stdout",
          "text": [
            "                   all         65         65          0          0          0          0\n"
          ]
        },
        {
          "output_type": "stream",
          "name": "stderr",
          "text": [
            "\n"
          ]
        },
        {
          "output_type": "stream",
          "name": "stdout",
          "text": [
            "\n",
            "      Epoch    GPU_mem   box_loss   cls_loss   dfl_loss  Instances       Size\n"
          ]
        },
        {
          "output_type": "stream",
          "name": "stderr",
          "text": [
            "       7/50      10.6G      3.607      2.687      1.118         12        640: 100%|██████████| 15/15 [00:11<00:00,  1.35it/s]\n",
            "                 Class     Images  Instances      Box(P          R      mAP50  mAP50-95): 100%|██████████| 3/3 [00:00<00:00,  3.22it/s]"
          ]
        },
        {
          "output_type": "stream",
          "name": "stdout",
          "text": [
            "                   all         65         65          0          0          0          0\n"
          ]
        },
        {
          "output_type": "stream",
          "name": "stderr",
          "text": [
            "\n"
          ]
        },
        {
          "output_type": "stream",
          "name": "stdout",
          "text": [
            "\n",
            "      Epoch    GPU_mem   box_loss   cls_loss   dfl_loss  Instances       Size\n"
          ]
        },
        {
          "output_type": "stream",
          "name": "stderr",
          "text": [
            "       8/50      10.6G      3.332      2.489      1.036         15        640: 100%|██████████| 15/15 [00:11<00:00,  1.31it/s]\n",
            "                 Class     Images  Instances      Box(P          R      mAP50  mAP50-95): 100%|██████████| 3/3 [00:00<00:00,  3.98it/s]"
          ]
        },
        {
          "output_type": "stream",
          "name": "stdout",
          "text": [
            "                   all         65         65          0          0          0          0\n"
          ]
        },
        {
          "output_type": "stream",
          "name": "stderr",
          "text": [
            "\n"
          ]
        },
        {
          "output_type": "stream",
          "name": "stdout",
          "text": [
            "\n",
            "      Epoch    GPU_mem   box_loss   cls_loss   dfl_loss  Instances       Size\n"
          ]
        },
        {
          "output_type": "stream",
          "name": "stderr",
          "text": [
            "       9/50      10.7G      3.253       2.73     0.9781         11        640: 100%|██████████| 15/15 [00:11<00:00,  1.35it/s]\n",
            "                 Class     Images  Instances      Box(P          R      mAP50  mAP50-95): 100%|██████████| 3/3 [00:00<00:00,  3.90it/s]"
          ]
        },
        {
          "output_type": "stream",
          "name": "stdout",
          "text": [
            "                   all         65         65          0          0          0          0\n"
          ]
        },
        {
          "output_type": "stream",
          "name": "stderr",
          "text": [
            "\n"
          ]
        },
        {
          "output_type": "stream",
          "name": "stdout",
          "text": [
            "\n",
            "      Epoch    GPU_mem   box_loss   cls_loss   dfl_loss  Instances       Size\n"
          ]
        },
        {
          "output_type": "stream",
          "name": "stderr",
          "text": [
            "      10/50      10.6G      3.127      2.511     0.9936          7        640: 100%|██████████| 15/15 [00:11<00:00,  1.36it/s]\n",
            "                 Class     Images  Instances      Box(P          R      mAP50  mAP50-95): 100%|██████████| 3/3 [00:00<00:00,  3.89it/s]"
          ]
        },
        {
          "output_type": "stream",
          "name": "stdout",
          "text": [
            "                   all         65         65          0          0          0          0\n"
          ]
        },
        {
          "output_type": "stream",
          "name": "stderr",
          "text": [
            "\n"
          ]
        },
        {
          "output_type": "stream",
          "name": "stdout",
          "text": [
            "\n",
            "      Epoch    GPU_mem   box_loss   cls_loss   dfl_loss  Instances       Size\n"
          ]
        },
        {
          "output_type": "stream",
          "name": "stderr",
          "text": [
            "      11/50      10.6G      3.319      2.469      1.013         12        640: 100%|██████████| 15/15 [00:11<00:00,  1.36it/s]\n",
            "                 Class     Images  Instances      Box(P          R      mAP50  mAP50-95): 100%|██████████| 3/3 [00:00<00:00,  3.46it/s]"
          ]
        },
        {
          "output_type": "stream",
          "name": "stdout",
          "text": [
            "                   all         65         65          0          0          0          0\n"
          ]
        },
        {
          "output_type": "stream",
          "name": "stderr",
          "text": [
            "\n"
          ]
        },
        {
          "output_type": "stream",
          "name": "stdout",
          "text": [
            "\n",
            "      Epoch    GPU_mem   box_loss   cls_loss   dfl_loss  Instances       Size\n"
          ]
        },
        {
          "output_type": "stream",
          "name": "stderr",
          "text": [
            "      12/50      10.7G      3.311      2.451     0.9978          7        640: 100%|██████████| 15/15 [00:11<00:00,  1.36it/s]\n",
            "                 Class     Images  Instances      Box(P          R      mAP50  mAP50-95): 100%|██████████| 3/3 [00:00<00:00,  3.31it/s]"
          ]
        },
        {
          "output_type": "stream",
          "name": "stdout",
          "text": [
            "                   all         65         65     0.0617        0.2     0.0212    0.00544\n"
          ]
        },
        {
          "output_type": "stream",
          "name": "stderr",
          "text": [
            "\n"
          ]
        },
        {
          "output_type": "stream",
          "name": "stdout",
          "text": [
            "\n",
            "      Epoch    GPU_mem   box_loss   cls_loss   dfl_loss  Instances       Size\n"
          ]
        },
        {
          "output_type": "stream",
          "name": "stderr",
          "text": [
            "      13/50      10.7G       2.97      2.252     0.9449         12        640: 100%|██████████| 15/15 [00:10<00:00,  1.38it/s]\n",
            "                 Class     Images  Instances      Box(P          R      mAP50  mAP50-95): 100%|██████████| 3/3 [00:00<00:00,  3.36it/s]"
          ]
        },
        {
          "output_type": "stream",
          "name": "stdout",
          "text": [
            "                   all         65         65      0.431      0.277      0.189      0.054\n"
          ]
        },
        {
          "output_type": "stream",
          "name": "stderr",
          "text": [
            "\n"
          ]
        },
        {
          "output_type": "stream",
          "name": "stdout",
          "text": [
            "\n",
            "      Epoch    GPU_mem   box_loss   cls_loss   dfl_loss  Instances       Size\n"
          ]
        },
        {
          "output_type": "stream",
          "name": "stderr",
          "text": [
            "      14/50      10.6G      2.956      2.222     0.9719          9        640: 100%|██████████| 15/15 [00:11<00:00,  1.35it/s]\n",
            "                 Class     Images  Instances      Box(P          R      mAP50  mAP50-95): 100%|██████████| 3/3 [00:00<00:00,  3.40it/s]"
          ]
        },
        {
          "output_type": "stream",
          "name": "stdout",
          "text": [
            "                   all         65         65      0.784     0.0308     0.0441      0.017\n"
          ]
        },
        {
          "output_type": "stream",
          "name": "stderr",
          "text": [
            "\n"
          ]
        },
        {
          "output_type": "stream",
          "name": "stdout",
          "text": [
            "\n",
            "      Epoch    GPU_mem   box_loss   cls_loss   dfl_loss  Instances       Size\n"
          ]
        },
        {
          "output_type": "stream",
          "name": "stderr",
          "text": [
            "      15/50      10.6G      3.211      2.348      1.005          7        640: 100%|██████████| 15/15 [00:11<00:00,  1.35it/s]\n",
            "                 Class     Images  Instances      Box(P          R      mAP50  mAP50-95): 100%|██████████| 3/3 [00:00<00:00,  3.22it/s]"
          ]
        },
        {
          "output_type": "stream",
          "name": "stdout",
          "text": [
            "                   all         65         65      0.417      0.154      0.156     0.0372\n"
          ]
        },
        {
          "output_type": "stream",
          "name": "stderr",
          "text": [
            "\n"
          ]
        },
        {
          "output_type": "stream",
          "name": "stdout",
          "text": [
            "\n",
            "      Epoch    GPU_mem   box_loss   cls_loss   dfl_loss  Instances       Size\n"
          ]
        },
        {
          "output_type": "stream",
          "name": "stderr",
          "text": [
            "      16/50      10.6G      3.002      2.115     0.9404         13        640: 100%|██████████| 15/15 [00:11<00:00,  1.35it/s]\n",
            "                 Class     Images  Instances      Box(P          R      mAP50  mAP50-95): 100%|██████████| 3/3 [00:00<00:00,  3.31it/s]"
          ]
        },
        {
          "output_type": "stream",
          "name": "stdout",
          "text": [
            "                   all         65         65      0.686      0.308      0.355      0.087\n"
          ]
        },
        {
          "output_type": "stream",
          "name": "stderr",
          "text": [
            "\n"
          ]
        },
        {
          "output_type": "stream",
          "name": "stdout",
          "text": [
            "\n",
            "      Epoch    GPU_mem   box_loss   cls_loss   dfl_loss  Instances       Size\n"
          ]
        },
        {
          "output_type": "stream",
          "name": "stderr",
          "text": [
            "      17/50      10.7G      3.062      2.218      0.978          9        640: 100%|██████████| 15/15 [00:10<00:00,  1.38it/s]\n",
            "                 Class     Images  Instances      Box(P          R      mAP50  mAP50-95): 100%|██████████| 3/3 [00:00<00:00,  3.30it/s]"
          ]
        },
        {
          "output_type": "stream",
          "name": "stdout",
          "text": [
            "                   all         65         65      0.523      0.477      0.384     0.0985\n"
          ]
        },
        {
          "output_type": "stream",
          "name": "stderr",
          "text": [
            "\n"
          ]
        },
        {
          "output_type": "stream",
          "name": "stdout",
          "text": [
            "\n",
            "      Epoch    GPU_mem   box_loss   cls_loss   dfl_loss  Instances       Size\n"
          ]
        },
        {
          "output_type": "stream",
          "name": "stderr",
          "text": [
            "      18/50      10.6G      2.951      2.149     0.9451          8        640: 100%|██████████| 15/15 [00:11<00:00,  1.32it/s]\n",
            "                 Class     Images  Instances      Box(P          R      mAP50  mAP50-95): 100%|██████████| 3/3 [00:00<00:00,  3.36it/s]"
          ]
        },
        {
          "output_type": "stream",
          "name": "stdout",
          "text": [
            "                   all         65         65      0.511       0.37      0.348      0.103\n"
          ]
        },
        {
          "output_type": "stream",
          "name": "stderr",
          "text": [
            "\n"
          ]
        },
        {
          "output_type": "stream",
          "name": "stdout",
          "text": [
            "\n",
            "      Epoch    GPU_mem   box_loss   cls_loss   dfl_loss  Instances       Size\n"
          ]
        },
        {
          "output_type": "stream",
          "name": "stderr",
          "text": [
            "      19/50      10.6G      3.072      2.237      0.987         10        640: 100%|██████████| 15/15 [00:11<00:00,  1.36it/s]\n",
            "                 Class     Images  Instances      Box(P          R      mAP50  mAP50-95): 100%|██████████| 3/3 [00:00<00:00,  3.27it/s]"
          ]
        },
        {
          "output_type": "stream",
          "name": "stdout",
          "text": [
            "                   all         65         65      0.446      0.431      0.326      0.101\n"
          ]
        },
        {
          "output_type": "stream",
          "name": "stderr",
          "text": [
            "\n"
          ]
        },
        {
          "output_type": "stream",
          "name": "stdout",
          "text": [
            "\n",
            "      Epoch    GPU_mem   box_loss   cls_loss   dfl_loss  Instances       Size\n"
          ]
        },
        {
          "output_type": "stream",
          "name": "stderr",
          "text": [
            "      20/50      10.6G      3.003      2.173     0.9654          9        640: 100%|██████████| 15/15 [00:11<00:00,  1.35it/s]\n",
            "                 Class     Images  Instances      Box(P          R      mAP50  mAP50-95): 100%|██████████| 3/3 [00:00<00:00,  3.12it/s]"
          ]
        },
        {
          "output_type": "stream",
          "name": "stdout",
          "text": [
            "                   all         65         65       0.54        0.4      0.341     0.0898\n"
          ]
        },
        {
          "output_type": "stream",
          "name": "stderr",
          "text": [
            "\n"
          ]
        },
        {
          "output_type": "stream",
          "name": "stdout",
          "text": [
            "\n",
            "      Epoch    GPU_mem   box_loss   cls_loss   dfl_loss  Instances       Size\n"
          ]
        },
        {
          "output_type": "stream",
          "name": "stderr",
          "text": [
            "      21/50      10.7G       3.03      2.163     0.9326          9        640: 100%|██████████| 15/15 [00:10<00:00,  1.37it/s]\n",
            "                 Class     Images  Instances      Box(P          R      mAP50  mAP50-95): 100%|██████████| 3/3 [00:00<00:00,  3.31it/s]"
          ]
        },
        {
          "output_type": "stream",
          "name": "stdout",
          "text": [
            "                   all         65         65      0.462      0.211      0.177     0.0491\n"
          ]
        },
        {
          "output_type": "stream",
          "name": "stderr",
          "text": [
            "\n"
          ]
        },
        {
          "output_type": "stream",
          "name": "stdout",
          "text": [
            "\n",
            "      Epoch    GPU_mem   box_loss   cls_loss   dfl_loss  Instances       Size\n"
          ]
        },
        {
          "output_type": "stream",
          "name": "stderr",
          "text": [
            "      22/50      10.6G      2.971      2.216     0.9501         13        640: 100%|██████████| 15/15 [00:11<00:00,  1.33it/s]\n",
            "                 Class     Images  Instances      Box(P          R      mAP50  mAP50-95): 100%|██████████| 3/3 [00:00<00:00,  3.13it/s]"
          ]
        },
        {
          "output_type": "stream",
          "name": "stdout",
          "text": [
            "                   all         65         65        0.7       0.36      0.416      0.113\n"
          ]
        },
        {
          "output_type": "stream",
          "name": "stderr",
          "text": [
            "\n"
          ]
        },
        {
          "output_type": "stream",
          "name": "stdout",
          "text": [
            "\n",
            "      Epoch    GPU_mem   box_loss   cls_loss   dfl_loss  Instances       Size\n"
          ]
        },
        {
          "output_type": "stream",
          "name": "stderr",
          "text": [
            "      23/50      10.5G      3.046      2.125     0.9669         14        640: 100%|██████████| 15/15 [00:10<00:00,  1.37it/s]\n",
            "                 Class     Images  Instances      Box(P          R      mAP50  mAP50-95): 100%|██████████| 3/3 [00:00<00:00,  3.29it/s]"
          ]
        },
        {
          "output_type": "stream",
          "name": "stdout",
          "text": [
            "                   all         65         65      0.611      0.387      0.378     0.0898\n"
          ]
        },
        {
          "output_type": "stream",
          "name": "stderr",
          "text": [
            "\n"
          ]
        },
        {
          "output_type": "stream",
          "name": "stdout",
          "text": [
            "\n",
            "      Epoch    GPU_mem   box_loss   cls_loss   dfl_loss  Instances       Size\n"
          ]
        },
        {
          "output_type": "stream",
          "name": "stderr",
          "text": [
            "      24/50      10.6G      2.941      2.047      0.945          5        640: 100%|██████████| 15/15 [00:11<00:00,  1.34it/s]\n",
            "                 Class     Images  Instances      Box(P          R      mAP50  mAP50-95): 100%|██████████| 3/3 [00:00<00:00,  3.24it/s]"
          ]
        },
        {
          "output_type": "stream",
          "name": "stdout",
          "text": [
            "                   all         65         65      0.471      0.438      0.327      0.072\n"
          ]
        },
        {
          "output_type": "stream",
          "name": "stderr",
          "text": [
            "\n"
          ]
        },
        {
          "output_type": "stream",
          "name": "stdout",
          "text": [
            "\n",
            "      Epoch    GPU_mem   box_loss   cls_loss   dfl_loss  Instances       Size\n"
          ]
        },
        {
          "output_type": "stream",
          "name": "stderr",
          "text": [
            "      25/50      10.7G       3.07      2.102     0.9773         14        640: 100%|██████████| 15/15 [00:10<00:00,  1.39it/s]\n",
            "                 Class     Images  Instances      Box(P          R      mAP50  mAP50-95): 100%|██████████| 3/3 [00:01<00:00,  2.45it/s]"
          ]
        },
        {
          "output_type": "stream",
          "name": "stdout",
          "text": [
            "                   all         65         65      0.465      0.323      0.265     0.0681\n"
          ]
        },
        {
          "output_type": "stream",
          "name": "stderr",
          "text": [
            "\n"
          ]
        },
        {
          "output_type": "stream",
          "name": "stdout",
          "text": [
            "\n",
            "      Epoch    GPU_mem   box_loss   cls_loss   dfl_loss  Instances       Size\n"
          ]
        },
        {
          "output_type": "stream",
          "name": "stderr",
          "text": [
            "      26/50      10.5G      3.004      2.059     0.9706          7        640: 100%|██████████| 15/15 [00:11<00:00,  1.36it/s]\n",
            "                 Class     Images  Instances      Box(P          R      mAP50  mAP50-95): 100%|██████████| 3/3 [00:00<00:00,  3.35it/s]"
          ]
        },
        {
          "output_type": "stream",
          "name": "stdout",
          "text": [
            "                   all         65         65      0.656      0.352      0.367     0.0919\n"
          ]
        },
        {
          "output_type": "stream",
          "name": "stderr",
          "text": [
            "\n"
          ]
        },
        {
          "output_type": "stream",
          "name": "stdout",
          "text": [
            "\n",
            "      Epoch    GPU_mem   box_loss   cls_loss   dfl_loss  Instances       Size\n"
          ]
        },
        {
          "output_type": "stream",
          "name": "stderr",
          "text": [
            "      27/50      10.6G      2.806      1.922     0.9325          8        640: 100%|██████████| 15/15 [00:11<00:00,  1.36it/s]\n",
            "                 Class     Images  Instances      Box(P          R      mAP50  mAP50-95): 100%|██████████| 3/3 [00:00<00:00,  3.22it/s]"
          ]
        },
        {
          "output_type": "stream",
          "name": "stdout",
          "text": [
            "                   all         65         65      0.488      0.415      0.337     0.0756\n"
          ]
        },
        {
          "output_type": "stream",
          "name": "stderr",
          "text": [
            "\n"
          ]
        },
        {
          "output_type": "stream",
          "name": "stdout",
          "text": [
            "\n",
            "      Epoch    GPU_mem   box_loss   cls_loss   dfl_loss  Instances       Size\n"
          ]
        },
        {
          "output_type": "stream",
          "name": "stderr",
          "text": [
            "      28/50      10.6G      2.987      2.004     0.9702          8        640: 100%|██████████| 15/15 [00:11<00:00,  1.36it/s]\n",
            "                 Class     Images  Instances      Box(P          R      mAP50  mAP50-95): 100%|██████████| 3/3 [00:00<00:00,  3.26it/s]"
          ]
        },
        {
          "output_type": "stream",
          "name": "stdout",
          "text": [
            "                   all         65         65      0.699      0.492      0.471      0.123\n"
          ]
        },
        {
          "output_type": "stream",
          "name": "stderr",
          "text": [
            "\n"
          ]
        },
        {
          "output_type": "stream",
          "name": "stdout",
          "text": [
            "\n",
            "      Epoch    GPU_mem   box_loss   cls_loss   dfl_loss  Instances       Size\n"
          ]
        },
        {
          "output_type": "stream",
          "name": "stderr",
          "text": [
            "      29/50      10.7G      2.943      1.983     0.9548         10        640: 100%|██████████| 15/15 [00:10<00:00,  1.39it/s]\n",
            "                 Class     Images  Instances      Box(P          R      mAP50  mAP50-95): 100%|██████████| 3/3 [00:00<00:00,  3.25it/s]"
          ]
        },
        {
          "output_type": "stream",
          "name": "stdout",
          "text": [
            "                   all         65         65      0.618      0.492      0.446      0.114\n"
          ]
        },
        {
          "output_type": "stream",
          "name": "stderr",
          "text": [
            "\n"
          ]
        },
        {
          "output_type": "stream",
          "name": "stdout",
          "text": [
            "\n",
            "      Epoch    GPU_mem   box_loss   cls_loss   dfl_loss  Instances       Size\n"
          ]
        },
        {
          "output_type": "stream",
          "name": "stderr",
          "text": [
            "      30/50      10.6G      2.907      1.855     0.9671         11        640: 100%|██████████| 15/15 [00:10<00:00,  1.37it/s]\n",
            "                 Class     Images  Instances      Box(P          R      mAP50  mAP50-95): 100%|██████████| 3/3 [00:00<00:00,  3.32it/s]"
          ]
        },
        {
          "output_type": "stream",
          "name": "stdout",
          "text": [
            "                   all         65         65      0.662      0.483      0.465      0.118\n"
          ]
        },
        {
          "output_type": "stream",
          "name": "stderr",
          "text": [
            "\n"
          ]
        },
        {
          "output_type": "stream",
          "name": "stdout",
          "text": [
            "\n",
            "      Epoch    GPU_mem   box_loss   cls_loss   dfl_loss  Instances       Size\n"
          ]
        },
        {
          "output_type": "stream",
          "name": "stderr",
          "text": [
            "      31/50      10.6G      2.782      1.898     0.9213         13        640: 100%|██████████| 15/15 [00:11<00:00,  1.35it/s]\n",
            "                 Class     Images  Instances      Box(P          R      mAP50  mAP50-95): 100%|██████████| 3/3 [00:00<00:00,  3.30it/s]"
          ]
        },
        {
          "output_type": "stream",
          "name": "stdout",
          "text": [
            "                   all         65         65      0.491      0.446      0.321     0.0589\n"
          ]
        },
        {
          "output_type": "stream",
          "name": "stderr",
          "text": [
            "\n"
          ]
        },
        {
          "output_type": "stream",
          "name": "stdout",
          "text": [
            "\n",
            "      Epoch    GPU_mem   box_loss   cls_loss   dfl_loss  Instances       Size\n"
          ]
        },
        {
          "output_type": "stream",
          "name": "stderr",
          "text": [
            "      32/50      10.5G       2.82      1.916     0.9442         10        640: 100%|██████████| 15/15 [00:11<00:00,  1.35it/s]\n",
            "                 Class     Images  Instances      Box(P          R      mAP50  mAP50-95): 100%|██████████| 3/3 [00:00<00:00,  3.35it/s]"
          ]
        },
        {
          "output_type": "stream",
          "name": "stdout",
          "text": [
            "                   all         65         65      0.529      0.501      0.412      0.112\n"
          ]
        },
        {
          "output_type": "stream",
          "name": "stderr",
          "text": [
            "\n"
          ]
        },
        {
          "output_type": "stream",
          "name": "stdout",
          "text": [
            "\n",
            "      Epoch    GPU_mem   box_loss   cls_loss   dfl_loss  Instances       Size\n"
          ]
        },
        {
          "output_type": "stream",
          "name": "stderr",
          "text": [
            "      33/50      10.4G      2.883      1.915     0.9366         14        640: 100%|██████████| 15/15 [00:10<00:00,  1.37it/s]\n",
            "                 Class     Images  Instances      Box(P          R      mAP50  mAP50-95): 100%|██████████| 3/3 [00:00<00:00,  3.33it/s]"
          ]
        },
        {
          "output_type": "stream",
          "name": "stdout",
          "text": [
            "                   all         65         65      0.572      0.431      0.401      0.113\n"
          ]
        },
        {
          "output_type": "stream",
          "name": "stderr",
          "text": [
            "\n"
          ]
        },
        {
          "output_type": "stream",
          "name": "stdout",
          "text": [
            "\n",
            "      Epoch    GPU_mem   box_loss   cls_loss   dfl_loss  Instances       Size\n"
          ]
        },
        {
          "output_type": "stream",
          "name": "stderr",
          "text": [
            "      34/50      10.6G      2.744      1.799     0.9445         12        640: 100%|██████████| 15/15 [00:10<00:00,  1.37it/s]\n",
            "                 Class     Images  Instances      Box(P          R      mAP50  mAP50-95): 100%|██████████| 3/3 [00:00<00:00,  3.38it/s]"
          ]
        },
        {
          "output_type": "stream",
          "name": "stdout",
          "text": [
            "                   all         65         65      0.501      0.292      0.243     0.0515\n"
          ]
        },
        {
          "output_type": "stream",
          "name": "stderr",
          "text": [
            "\n"
          ]
        },
        {
          "output_type": "stream",
          "name": "stdout",
          "text": [
            "\n",
            "      Epoch    GPU_mem   box_loss   cls_loss   dfl_loss  Instances       Size\n"
          ]
        },
        {
          "output_type": "stream",
          "name": "stderr",
          "text": [
            "      35/50      10.6G       2.75      1.796     0.9446         12        640: 100%|██████████| 15/15 [00:10<00:00,  1.38it/s]\n",
            "                 Class     Images  Instances      Box(P          R      mAP50  mAP50-95): 100%|██████████| 3/3 [00:00<00:00,  3.32it/s]"
          ]
        },
        {
          "output_type": "stream",
          "name": "stdout",
          "text": [
            "                   all         65         65      0.468      0.262      0.245     0.0537\n"
          ]
        },
        {
          "output_type": "stream",
          "name": "stderr",
          "text": [
            "\n"
          ]
        },
        {
          "output_type": "stream",
          "name": "stdout",
          "text": [
            "\n",
            "      Epoch    GPU_mem   box_loss   cls_loss   dfl_loss  Instances       Size\n"
          ]
        },
        {
          "output_type": "stream",
          "name": "stderr",
          "text": [
            "      36/50      10.6G      2.776      1.812     0.9327          8        640: 100%|██████████| 15/15 [00:10<00:00,  1.38it/s]\n",
            "                 Class     Images  Instances      Box(P          R      mAP50  mAP50-95): 100%|██████████| 3/3 [00:01<00:00,  2.75it/s]"
          ]
        },
        {
          "output_type": "stream",
          "name": "stdout",
          "text": [
            "                   all         65         65      0.461      0.385      0.324     0.0612\n"
          ]
        },
        {
          "output_type": "stream",
          "name": "stderr",
          "text": [
            "\n"
          ]
        },
        {
          "output_type": "stream",
          "name": "stdout",
          "text": [
            "\n",
            "      Epoch    GPU_mem   box_loss   cls_loss   dfl_loss  Instances       Size\n"
          ]
        },
        {
          "output_type": "stream",
          "name": "stderr",
          "text": [
            "      37/50      10.7G      2.765      1.797     0.9256         12        640: 100%|██████████| 15/15 [00:10<00:00,  1.37it/s]\n",
            "                 Class     Images  Instances      Box(P          R      mAP50  mAP50-95): 100%|██████████| 3/3 [00:00<00:00,  3.41it/s]"
          ]
        },
        {
          "output_type": "stream",
          "name": "stdout",
          "text": [
            "                   all         65         65      0.533      0.438      0.406     0.0865\n"
          ]
        },
        {
          "output_type": "stream",
          "name": "stderr",
          "text": [
            "\n"
          ]
        },
        {
          "output_type": "stream",
          "name": "stdout",
          "text": [
            "\n",
            "      Epoch    GPU_mem   box_loss   cls_loss   dfl_loss  Instances       Size\n"
          ]
        },
        {
          "output_type": "stream",
          "name": "stderr",
          "text": [
            "      38/50      10.6G      2.791      1.776     0.9322         13        640: 100%|██████████| 15/15 [00:11<00:00,  1.36it/s]\n",
            "                 Class     Images  Instances      Box(P          R      mAP50  mAP50-95): 100%|██████████| 3/3 [00:00<00:00,  3.23it/s]"
          ]
        },
        {
          "output_type": "stream",
          "name": "stdout",
          "text": [
            "                   all         65         65      0.598      0.503      0.448      0.111\n"
          ]
        },
        {
          "output_type": "stream",
          "name": "stderr",
          "text": [
            "\n"
          ]
        },
        {
          "output_type": "stream",
          "name": "stdout",
          "text": [
            "\n",
            "      Epoch    GPU_mem   box_loss   cls_loss   dfl_loss  Instances       Size\n"
          ]
        },
        {
          "output_type": "stream",
          "name": "stderr",
          "text": [
            "      39/50      10.6G      2.791      1.667     0.9209         12        640: 100%|██████████| 15/15 [00:11<00:00,  1.33it/s]\n",
            "                 Class     Images  Instances      Box(P          R      mAP50  mAP50-95): 100%|██████████| 3/3 [00:00<00:00,  3.40it/s]"
          ]
        },
        {
          "output_type": "stream",
          "name": "stdout",
          "text": [
            "                   all         65         65      0.625      0.492      0.422       0.13\n"
          ]
        },
        {
          "output_type": "stream",
          "name": "stderr",
          "text": [
            "\n"
          ]
        },
        {
          "output_type": "stream",
          "name": "stdout",
          "text": [
            "\n",
            "      Epoch    GPU_mem   box_loss   cls_loss   dfl_loss  Instances       Size\n"
          ]
        },
        {
          "output_type": "stream",
          "name": "stderr",
          "text": [
            "      40/50      10.5G      2.836      1.888     0.9355          3        640: 100%|██████████| 15/15 [00:10<00:00,  1.37it/s]\n",
            "                 Class     Images  Instances      Box(P          R      mAP50  mAP50-95): 100%|██████████| 3/3 [00:00<00:00,  3.34it/s]"
          ]
        },
        {
          "output_type": "stream",
          "name": "stdout",
          "text": [
            "                   all         65         65      0.548      0.486      0.424      0.111\n"
          ]
        },
        {
          "output_type": "stream",
          "name": "stderr",
          "text": [
            "\n"
          ]
        },
        {
          "output_type": "stream",
          "name": "stdout",
          "text": [
            "Closing dataloader mosaic\n",
            "\u001b[34m\u001b[1malbumentations: \u001b[0mBlur(p=0.01, blur_limit=(3, 7)), MedianBlur(p=0.01, blur_limit=(3, 7)), ToGray(p=0.01, method='weighted_average', num_output_channels=3), CLAHE(p=0.01, clip_limit=(1.0, 4.0), tile_grid_size=(8, 8))\n",
            "\n",
            "      Epoch    GPU_mem   box_loss   cls_loss   dfl_loss  Instances       Size\n"
          ]
        },
        {
          "output_type": "stream",
          "name": "stderr",
          "text": [
            "      41/50      10.8G      2.718      1.584      0.922          6        640: 100%|██████████| 15/15 [00:12<00:00,  1.17it/s]\n",
            "                 Class     Images  Instances      Box(P          R      mAP50  mAP50-95): 100%|██████████| 3/3 [00:00<00:00,  3.29it/s]"
          ]
        },
        {
          "output_type": "stream",
          "name": "stdout",
          "text": [
            "                   all         65         65      0.504      0.477      0.346     0.0878\n"
          ]
        },
        {
          "output_type": "stream",
          "name": "stderr",
          "text": [
            "\n"
          ]
        },
        {
          "output_type": "stream",
          "name": "stdout",
          "text": [
            "\n",
            "      Epoch    GPU_mem   box_loss   cls_loss   dfl_loss  Instances       Size\n"
          ]
        },
        {
          "output_type": "stream",
          "name": "stderr",
          "text": [
            "      42/50      10.6G      2.647      1.609     0.9382          6        640: 100%|██████████| 15/15 [00:11<00:00,  1.36it/s]\n",
            "                 Class     Images  Instances      Box(P          R      mAP50  mAP50-95): 100%|██████████| 3/3 [00:00<00:00,  3.29it/s]"
          ]
        },
        {
          "output_type": "stream",
          "name": "stdout",
          "text": [
            "                   all         65         65      0.654      0.492      0.428      0.109\n"
          ]
        },
        {
          "output_type": "stream",
          "name": "stderr",
          "text": [
            "\n"
          ]
        },
        {
          "output_type": "stream",
          "name": "stdout",
          "text": [
            "\n",
            "      Epoch    GPU_mem   box_loss   cls_loss   dfl_loss  Instances       Size\n"
          ]
        },
        {
          "output_type": "stream",
          "name": "stderr",
          "text": [
            "      43/50      10.6G      2.656      1.642     0.9461          6        640: 100%|██████████| 15/15 [00:10<00:00,  1.40it/s]\n",
            "                 Class     Images  Instances      Box(P          R      mAP50  mAP50-95): 100%|██████████| 3/3 [00:01<00:00,  2.62it/s]"
          ]
        },
        {
          "output_type": "stream",
          "name": "stdout",
          "text": [
            "                   all         65         65      0.761      0.508      0.506      0.131\n"
          ]
        },
        {
          "output_type": "stream",
          "name": "stderr",
          "text": [
            "\n"
          ]
        },
        {
          "output_type": "stream",
          "name": "stdout",
          "text": [
            "\n",
            "      Epoch    GPU_mem   box_loss   cls_loss   dfl_loss  Instances       Size\n"
          ]
        },
        {
          "output_type": "stream",
          "name": "stderr",
          "text": [
            "      44/50      10.5G      2.594      1.681     0.9192          6        640: 100%|██████████| 15/15 [00:10<00:00,  1.37it/s]\n",
            "                 Class     Images  Instances      Box(P          R      mAP50  mAP50-95): 100%|██████████| 3/3 [00:01<00:00,  2.48it/s]"
          ]
        },
        {
          "output_type": "stream",
          "name": "stdout",
          "text": [
            "                   all         65         65      0.569      0.477       0.46      0.113\n"
          ]
        },
        {
          "output_type": "stream",
          "name": "stderr",
          "text": [
            "\n"
          ]
        },
        {
          "output_type": "stream",
          "name": "stdout",
          "text": [
            "\n",
            "      Epoch    GPU_mem   box_loss   cls_loss   dfl_loss  Instances       Size\n"
          ]
        },
        {
          "output_type": "stream",
          "name": "stderr",
          "text": [
            "      45/50      10.7G      2.572      1.598     0.9212          6        640: 100%|██████████| 15/15 [00:10<00:00,  1.37it/s]\n",
            "                 Class     Images  Instances      Box(P          R      mAP50  mAP50-95): 100%|██████████| 3/3 [00:01<00:00,  2.88it/s]"
          ]
        },
        {
          "output_type": "stream",
          "name": "stdout",
          "text": [
            "                   all         65         65      0.541      0.446       0.41     0.0926\n"
          ]
        },
        {
          "output_type": "stream",
          "name": "stderr",
          "text": [
            "\n"
          ]
        },
        {
          "output_type": "stream",
          "name": "stdout",
          "text": [
            "\n",
            "      Epoch    GPU_mem   box_loss   cls_loss   dfl_loss  Instances       Size\n"
          ]
        },
        {
          "output_type": "stream",
          "name": "stderr",
          "text": [
            "      46/50      10.5G      2.616      1.784     0.9359          5        640: 100%|██████████| 15/15 [00:11<00:00,  1.32it/s]\n",
            "                 Class     Images  Instances      Box(P          R      mAP50  mAP50-95): 100%|██████████| 3/3 [00:00<00:00,  3.04it/s]"
          ]
        },
        {
          "output_type": "stream",
          "name": "stdout",
          "text": [
            "                   all         65         65      0.595      0.462      0.415     0.0972\n"
          ]
        },
        {
          "output_type": "stream",
          "name": "stderr",
          "text": [
            "\n"
          ]
        },
        {
          "output_type": "stream",
          "name": "stdout",
          "text": [
            "\n",
            "      Epoch    GPU_mem   box_loss   cls_loss   dfl_loss  Instances       Size\n"
          ]
        },
        {
          "output_type": "stream",
          "name": "stderr",
          "text": [
            "      47/50      10.6G      2.567      1.696     0.9068          6        640: 100%|██████████| 15/15 [00:10<00:00,  1.37it/s]\n",
            "                 Class     Images  Instances      Box(P          R      mAP50  mAP50-95): 100%|██████████| 3/3 [00:01<00:00,  2.09it/s]"
          ]
        },
        {
          "output_type": "stream",
          "name": "stdout",
          "text": [
            "                   all         65         65      0.585      0.521      0.435      0.113\n"
          ]
        },
        {
          "output_type": "stream",
          "name": "stderr",
          "text": [
            "\n"
          ]
        },
        {
          "output_type": "stream",
          "name": "stdout",
          "text": [
            "\n",
            "      Epoch    GPU_mem   box_loss   cls_loss   dfl_loss  Instances       Size\n"
          ]
        },
        {
          "output_type": "stream",
          "name": "stderr",
          "text": [
            "      48/50      10.6G      2.571      1.533      0.938          6        640: 100%|██████████| 15/15 [00:11<00:00,  1.36it/s]\n",
            "                 Class     Images  Instances      Box(P          R      mAP50  mAP50-95): 100%|██████████| 3/3 [00:00<00:00,  3.33it/s]"
          ]
        },
        {
          "output_type": "stream",
          "name": "stdout",
          "text": [
            "                   all         65         65      0.634      0.477      0.421      0.107\n"
          ]
        },
        {
          "output_type": "stream",
          "name": "stderr",
          "text": [
            "\n"
          ]
        },
        {
          "output_type": "stream",
          "name": "stdout",
          "text": [
            "\n",
            "      Epoch    GPU_mem   box_loss   cls_loss   dfl_loss  Instances       Size\n"
          ]
        },
        {
          "output_type": "stream",
          "name": "stderr",
          "text": [
            "      49/50      10.7G        2.6      1.503      0.934          6        640: 100%|██████████| 15/15 [00:11<00:00,  1.36it/s]\n",
            "                 Class     Images  Instances      Box(P          R      mAP50  mAP50-95): 100%|██████████| 3/3 [00:00<00:00,  3.32it/s]"
          ]
        },
        {
          "output_type": "stream",
          "name": "stdout",
          "text": [
            "                   all         65         65      0.622      0.477      0.429      0.102\n"
          ]
        },
        {
          "output_type": "stream",
          "name": "stderr",
          "text": [
            "\n"
          ]
        },
        {
          "output_type": "stream",
          "name": "stdout",
          "text": [
            "\n",
            "      Epoch    GPU_mem   box_loss   cls_loss   dfl_loss  Instances       Size\n"
          ]
        },
        {
          "output_type": "stream",
          "name": "stderr",
          "text": [
            "      50/50      10.6G      2.542      1.523     0.9065          6        640: 100%|██████████| 15/15 [00:10<00:00,  1.38it/s]\n",
            "                 Class     Images  Instances      Box(P          R      mAP50  mAP50-95): 100%|██████████| 3/3 [00:00<00:00,  3.41it/s]"
          ]
        },
        {
          "output_type": "stream",
          "name": "stdout",
          "text": [
            "                   all         65         65      0.584      0.462       0.39     0.0951\n"
          ]
        },
        {
          "output_type": "stream",
          "name": "stderr",
          "text": [
            "\n"
          ]
        },
        {
          "output_type": "stream",
          "name": "stdout",
          "text": [
            "\n",
            "50 epochs completed in 0.244 hours.\n",
            "Optimizer stripped from runs/detect/train7/weights/last.pt, 87.6MB\n",
            "Optimizer stripped from runs/detect/train7/weights/best.pt, 87.6MB\n",
            "\n",
            "Validating runs/detect/train7/weights/best.pt...\n",
            "Ultralytics 8.3.134 🚀 Python-3.11.12 torch-2.6.0+cu124 CUDA:0 (Tesla T4, 15095MiB)\n",
            "Model summary (fused): 112 layers, 43,607,379 parameters, 0 gradients, 164.8 GFLOPs\n"
          ]
        },
        {
          "output_type": "stream",
          "name": "stderr",
          "text": [
            "                 Class     Images  Instances      Box(P          R      mAP50  mAP50-95): 100%|██████████| 3/3 [00:01<00:00,  1.61it/s]\n"
          ]
        },
        {
          "output_type": "stream",
          "name": "stdout",
          "text": [
            "                   all         65         65       0.76      0.508      0.506      0.131\n",
            "Speed: 0.2ms preprocess, 11.1ms inference, 0.0ms loss, 5.7ms postprocess per image\n",
            "Results saved to \u001b[1mruns/detect/train7\u001b[0m\n",
            "Ultralytics 8.3.134 🚀 Python-3.11.12 torch-2.6.0+cu124 CUDA:0 (Tesla T4, 15095MiB)\n",
            "Model summary (fused): 112 layers, 43,607,379 parameters, 0 gradients, 164.8 GFLOPs\n",
            "\u001b[34m\u001b[1mval: \u001b[0mFast image access ✅ (ping: 0.0±0.0 ms, read: 2929.6±1221.4 MB/s, size: 238.8 KB)\n"
          ]
        },
        {
          "output_type": "stream",
          "name": "stderr",
          "text": [
            "\u001b[34m\u001b[1mval: \u001b[0mScanning /content/valid/labels.cache... 65 images, 0 backgrounds, 0 corrupt: 100%|██████████| 65/65 [00:00<?, ?it/s]\n",
            "                 Class     Images  Instances      Box(P          R      mAP50  mAP50-95): 100%|██████████| 5/5 [00:02<00:00,  1.86it/s]\n"
          ]
        },
        {
          "output_type": "stream",
          "name": "stdout",
          "text": [
            "                   all         65         65      0.736      0.492      0.481      0.137\n",
            "Speed: 3.5ms preprocess, 23.4ms inference, 0.0ms loss, 3.8ms postprocess per image\n",
            "Results saved to \u001b[1mruns/detect/train72\u001b[0m\n",
            "ultralytics.utils.metrics.DetMetrics object with attributes:\n",
            "\n",
            "ap_class_index: array([0])\n",
            "box: ultralytics.utils.metrics.Metric object\n",
            "confusion_matrix: <ultralytics.utils.metrics.ConfusionMatrix object at 0x7b2132525090>\n",
            "curves: ['Precision-Recall(B)', 'F1-Confidence(B)', 'Precision-Confidence(B)', 'Recall-Confidence(B)']\n",
            "curves_results: [[array([          0,    0.001001,    0.002002,    0.003003,    0.004004,    0.005005,    0.006006,    0.007007,    0.008008,    0.009009,     0.01001,    0.011011,    0.012012,    0.013013,    0.014014,    0.015015,    0.016016,    0.017017,    0.018018,    0.019019,     0.02002,    0.021021,    0.022022,    0.023023,\n",
            "          0.024024,    0.025025,    0.026026,    0.027027,    0.028028,    0.029029,     0.03003,    0.031031,    0.032032,    0.033033,    0.034034,    0.035035,    0.036036,    0.037037,    0.038038,    0.039039,     0.04004,    0.041041,    0.042042,    0.043043,    0.044044,    0.045045,    0.046046,    0.047047,\n",
            "          0.048048,    0.049049,     0.05005,    0.051051,    0.052052,    0.053053,    0.054054,    0.055055,    0.056056,    0.057057,    0.058058,    0.059059,     0.06006,    0.061061,    0.062062,    0.063063,    0.064064,    0.065065,    0.066066,    0.067067,    0.068068,    0.069069,     0.07007,    0.071071,\n",
            "          0.072072,    0.073073,    0.074074,    0.075075,    0.076076,    0.077077,    0.078078,    0.079079,     0.08008,    0.081081,    0.082082,    0.083083,    0.084084,    0.085085,    0.086086,    0.087087,    0.088088,    0.089089,     0.09009,    0.091091,    0.092092,    0.093093,    0.094094,    0.095095,\n",
            "          0.096096,    0.097097,    0.098098,    0.099099,      0.1001,      0.1011,      0.1021,      0.1031,      0.1041,     0.10511,     0.10611,     0.10711,     0.10811,     0.10911,     0.11011,     0.11111,     0.11211,     0.11311,     0.11411,     0.11512,     0.11612,     0.11712,     0.11812,     0.11912,\n",
            "           0.12012,     0.12112,     0.12212,     0.12312,     0.12412,     0.12513,     0.12613,     0.12713,     0.12813,     0.12913,     0.13013,     0.13113,     0.13213,     0.13313,     0.13413,     0.13514,     0.13614,     0.13714,     0.13814,     0.13914,     0.14014,     0.14114,     0.14214,     0.14314,\n",
            "           0.14414,     0.14515,     0.14615,     0.14715,     0.14815,     0.14915,     0.15015,     0.15115,     0.15215,     0.15315,     0.15415,     0.15516,     0.15616,     0.15716,     0.15816,     0.15916,     0.16016,     0.16116,     0.16216,     0.16316,     0.16416,     0.16517,     0.16617,     0.16717,\n",
            "           0.16817,     0.16917,     0.17017,     0.17117,     0.17217,     0.17317,     0.17417,     0.17518,     0.17618,     0.17718,     0.17818,     0.17918,     0.18018,     0.18118,     0.18218,     0.18318,     0.18418,     0.18519,     0.18619,     0.18719,     0.18819,     0.18919,     0.19019,     0.19119,\n",
            "           0.19219,     0.19319,     0.19419,      0.1952,      0.1962,      0.1972,      0.1982,      0.1992,      0.2002,      0.2012,      0.2022,      0.2032,      0.2042,     0.20521,     0.20621,     0.20721,     0.20821,     0.20921,     0.21021,     0.21121,     0.21221,     0.21321,     0.21421,     0.21522,\n",
            "           0.21622,     0.21722,     0.21822,     0.21922,     0.22022,     0.22122,     0.22222,     0.22322,     0.22422,     0.22523,     0.22623,     0.22723,     0.22823,     0.22923,     0.23023,     0.23123,     0.23223,     0.23323,     0.23423,     0.23524,     0.23624,     0.23724,     0.23824,     0.23924,\n",
            "           0.24024,     0.24124,     0.24224,     0.24324,     0.24424,     0.24525,     0.24625,     0.24725,     0.24825,     0.24925,     0.25025,     0.25125,     0.25225,     0.25325,     0.25425,     0.25526,     0.25626,     0.25726,     0.25826,     0.25926,     0.26026,     0.26126,     0.26226,     0.26326,\n",
            "           0.26426,     0.26527,     0.26627,     0.26727,     0.26827,     0.26927,     0.27027,     0.27127,     0.27227,     0.27327,     0.27427,     0.27528,     0.27628,     0.27728,     0.27828,     0.27928,     0.28028,     0.28128,     0.28228,     0.28328,     0.28428,     0.28529,     0.28629,     0.28729,\n",
            "           0.28829,     0.28929,     0.29029,     0.29129,     0.29229,     0.29329,     0.29429,      0.2953,      0.2963,      0.2973,      0.2983,      0.2993,      0.3003,      0.3013,      0.3023,      0.3033,      0.3043,     0.30531,     0.30631,     0.30731,     0.30831,     0.30931,     0.31031,     0.31131,\n",
            "           0.31231,     0.31331,     0.31431,     0.31532,     0.31632,     0.31732,     0.31832,     0.31932,     0.32032,     0.32132,     0.32232,     0.32332,     0.32432,     0.32533,     0.32633,     0.32733,     0.32833,     0.32933,     0.33033,     0.33133,     0.33233,     0.33333,     0.33433,     0.33534,\n",
            "           0.33634,     0.33734,     0.33834,     0.33934,     0.34034,     0.34134,     0.34234,     0.34334,     0.34434,     0.34535,     0.34635,     0.34735,     0.34835,     0.34935,     0.35035,     0.35135,     0.35235,     0.35335,     0.35435,     0.35536,     0.35636,     0.35736,     0.35836,     0.35936,\n",
            "           0.36036,     0.36136,     0.36236,     0.36336,     0.36436,     0.36537,     0.36637,     0.36737,     0.36837,     0.36937,     0.37037,     0.37137,     0.37237,     0.37337,     0.37437,     0.37538,     0.37638,     0.37738,     0.37838,     0.37938,     0.38038,     0.38138,     0.38238,     0.38338,\n",
            "           0.38438,     0.38539,     0.38639,     0.38739,     0.38839,     0.38939,     0.39039,     0.39139,     0.39239,     0.39339,     0.39439,      0.3954,      0.3964,      0.3974,      0.3984,      0.3994,      0.4004,      0.4014,      0.4024,      0.4034,      0.4044,     0.40541,     0.40641,     0.40741,\n",
            "           0.40841,     0.40941,     0.41041,     0.41141,     0.41241,     0.41341,     0.41441,     0.41542,     0.41642,     0.41742,     0.41842,     0.41942,     0.42042,     0.42142,     0.42242,     0.42342,     0.42442,     0.42543,     0.42643,     0.42743,     0.42843,     0.42943,     0.43043,     0.43143,\n",
            "           0.43243,     0.43343,     0.43443,     0.43544,     0.43644,     0.43744,     0.43844,     0.43944,     0.44044,     0.44144,     0.44244,     0.44344,     0.44444,     0.44545,     0.44645,     0.44745,     0.44845,     0.44945,     0.45045,     0.45145,     0.45245,     0.45345,     0.45445,     0.45546,\n",
            "           0.45646,     0.45746,     0.45846,     0.45946,     0.46046,     0.46146,     0.46246,     0.46346,     0.46446,     0.46547,     0.46647,     0.46747,     0.46847,     0.46947,     0.47047,     0.47147,     0.47247,     0.47347,     0.47447,     0.47548,     0.47648,     0.47748,     0.47848,     0.47948,\n",
            "           0.48048,     0.48148,     0.48248,     0.48348,     0.48448,     0.48549,     0.48649,     0.48749,     0.48849,     0.48949,     0.49049,     0.49149,     0.49249,     0.49349,     0.49449,      0.4955,      0.4965,      0.4975,      0.4985,      0.4995,      0.5005,      0.5015,      0.5025,      0.5035,\n",
            "            0.5045,     0.50551,     0.50651,     0.50751,     0.50851,     0.50951,     0.51051,     0.51151,     0.51251,     0.51351,     0.51451,     0.51552,     0.51652,     0.51752,     0.51852,     0.51952,     0.52052,     0.52152,     0.52252,     0.52352,     0.52452,     0.52553,     0.52653,     0.52753,\n",
            "           0.52853,     0.52953,     0.53053,     0.53153,     0.53253,     0.53353,     0.53453,     0.53554,     0.53654,     0.53754,     0.53854,     0.53954,     0.54054,     0.54154,     0.54254,     0.54354,     0.54454,     0.54555,     0.54655,     0.54755,     0.54855,     0.54955,     0.55055,     0.55155,\n",
            "           0.55255,     0.55355,     0.55455,     0.55556,     0.55656,     0.55756,     0.55856,     0.55956,     0.56056,     0.56156,     0.56256,     0.56356,     0.56456,     0.56557,     0.56657,     0.56757,     0.56857,     0.56957,     0.57057,     0.57157,     0.57257,     0.57357,     0.57457,     0.57558,\n",
            "           0.57658,     0.57758,     0.57858,     0.57958,     0.58058,     0.58158,     0.58258,     0.58358,     0.58458,     0.58559,     0.58659,     0.58759,     0.58859,     0.58959,     0.59059,     0.59159,     0.59259,     0.59359,     0.59459,      0.5956,      0.5966,      0.5976,      0.5986,      0.5996,\n",
            "            0.6006,      0.6016,      0.6026,      0.6036,      0.6046,     0.60561,     0.60661,     0.60761,     0.60861,     0.60961,     0.61061,     0.61161,     0.61261,     0.61361,     0.61461,     0.61562,     0.61662,     0.61762,     0.61862,     0.61962,     0.62062,     0.62162,     0.62262,     0.62362,\n",
            "           0.62462,     0.62563,     0.62663,     0.62763,     0.62863,     0.62963,     0.63063,     0.63163,     0.63263,     0.63363,     0.63463,     0.63564,     0.63664,     0.63764,     0.63864,     0.63964,     0.64064,     0.64164,     0.64264,     0.64364,     0.64464,     0.64565,     0.64665,     0.64765,\n",
            "           0.64865,     0.64965,     0.65065,     0.65165,     0.65265,     0.65365,     0.65465,     0.65566,     0.65666,     0.65766,     0.65866,     0.65966,     0.66066,     0.66166,     0.66266,     0.66366,     0.66466,     0.66567,     0.66667,     0.66767,     0.66867,     0.66967,     0.67067,     0.67167,\n",
            "           0.67267,     0.67367,     0.67467,     0.67568,     0.67668,     0.67768,     0.67868,     0.67968,     0.68068,     0.68168,     0.68268,     0.68368,     0.68468,     0.68569,     0.68669,     0.68769,     0.68869,     0.68969,     0.69069,     0.69169,     0.69269,     0.69369,     0.69469,      0.6957,\n",
            "            0.6967,      0.6977,      0.6987,      0.6997,      0.7007,      0.7017,      0.7027,      0.7037,      0.7047,     0.70571,     0.70671,     0.70771,     0.70871,     0.70971,     0.71071,     0.71171,     0.71271,     0.71371,     0.71471,     0.71572,     0.71672,     0.71772,     0.71872,     0.71972,\n",
            "           0.72072,     0.72172,     0.72272,     0.72372,     0.72472,     0.72573,     0.72673,     0.72773,     0.72873,     0.72973,     0.73073,     0.73173,     0.73273,     0.73373,     0.73473,     0.73574,     0.73674,     0.73774,     0.73874,     0.73974,     0.74074,     0.74174,     0.74274,     0.74374,\n",
            "           0.74474,     0.74575,     0.74675,     0.74775,     0.74875,     0.74975,     0.75075,     0.75175,     0.75275,     0.75375,     0.75475,     0.75576,     0.75676,     0.75776,     0.75876,     0.75976,     0.76076,     0.76176,     0.76276,     0.76376,     0.76476,     0.76577,     0.76677,     0.76777,\n",
            "           0.76877,     0.76977,     0.77077,     0.77177,     0.77277,     0.77377,     0.77477,     0.77578,     0.77678,     0.77778,     0.77878,     0.77978,     0.78078,     0.78178,     0.78278,     0.78378,     0.78478,     0.78579,     0.78679,     0.78779,     0.78879,     0.78979,     0.79079,     0.79179,\n",
            "           0.79279,     0.79379,     0.79479,      0.7958,      0.7968,      0.7978,      0.7988,      0.7998,      0.8008,      0.8018,      0.8028,      0.8038,      0.8048,     0.80581,     0.80681,     0.80781,     0.80881,     0.80981,     0.81081,     0.81181,     0.81281,     0.81381,     0.81481,     0.81582,\n",
            "           0.81682,     0.81782,     0.81882,     0.81982,     0.82082,     0.82182,     0.82282,     0.82382,     0.82482,     0.82583,     0.82683,     0.82783,     0.82883,     0.82983,     0.83083,     0.83183,     0.83283,     0.83383,     0.83483,     0.83584,     0.83684,     0.83784,     0.83884,     0.83984,\n",
            "           0.84084,     0.84184,     0.84284,     0.84384,     0.84484,     0.84585,     0.84685,     0.84785,     0.84885,     0.84985,     0.85085,     0.85185,     0.85285,     0.85385,     0.85485,     0.85586,     0.85686,     0.85786,     0.85886,     0.85986,     0.86086,     0.86186,     0.86286,     0.86386,\n",
            "           0.86486,     0.86587,     0.86687,     0.86787,     0.86887,     0.86987,     0.87087,     0.87187,     0.87287,     0.87387,     0.87487,     0.87588,     0.87688,     0.87788,     0.87888,     0.87988,     0.88088,     0.88188,     0.88288,     0.88388,     0.88488,     0.88589,     0.88689,     0.88789,\n",
            "           0.88889,     0.88989,     0.89089,     0.89189,     0.89289,     0.89389,     0.89489,      0.8959,      0.8969,      0.8979,      0.8989,      0.8999,      0.9009,      0.9019,      0.9029,      0.9039,      0.9049,     0.90591,     0.90691,     0.90791,     0.90891,     0.90991,     0.91091,     0.91191,\n",
            "           0.91291,     0.91391,     0.91491,     0.91592,     0.91692,     0.91792,     0.91892,     0.91992,     0.92092,     0.92192,     0.92292,     0.92392,     0.92492,     0.92593,     0.92693,     0.92793,     0.92893,     0.92993,     0.93093,     0.93193,     0.93293,     0.93393,     0.93493,     0.93594,\n",
            "           0.93694,     0.93794,     0.93894,     0.93994,     0.94094,     0.94194,     0.94294,     0.94394,     0.94494,     0.94595,     0.94695,     0.94795,     0.94895,     0.94995,     0.95095,     0.95195,     0.95295,     0.95395,     0.95495,     0.95596,     0.95696,     0.95796,     0.95896,     0.95996,\n",
            "           0.96096,     0.96196,     0.96296,     0.96396,     0.96496,     0.96597,     0.96697,     0.96797,     0.96897,     0.96997,     0.97097,     0.97197,     0.97297,     0.97397,     0.97497,     0.97598,     0.97698,     0.97798,     0.97898,     0.97998,     0.98098,     0.98198,     0.98298,     0.98398,\n",
            "           0.98498,     0.98599,     0.98699,     0.98799,     0.98899,     0.98999,     0.99099,     0.99199,     0.99299,     0.99399,     0.99499,       0.996,       0.997,       0.998,       0.999,           1]), array([[          1,           1,           1,           1,           1,           1,           1,           1,           1,           1,           1,           1,           1,           1,           1,           1,     0.83333,     0.83333,     0.83333,     0.83333,     0.83333,     0.83333,     0.83333,\n",
            "            0.83333,     0.83333,     0.83333,     0.83333,     0.83333,     0.83333,     0.83333,     0.83333,     0.83333,     0.83333,     0.83333,     0.83333,     0.83333,     0.83333,     0.83333,     0.83333,     0.83333,     0.83333,     0.83333,     0.83333,     0.83333,     0.83333,     0.83333,\n",
            "            0.83333,     0.83333,     0.83333,     0.83333,     0.83333,     0.83333,     0.83333,     0.83333,     0.83333,     0.83333,     0.83333,     0.83333,     0.83333,     0.83333,     0.83333,     0.83333,     0.83333,     0.83333,     0.83333,     0.83333,     0.83333,     0.83333,     0.83333,\n",
            "            0.83333,     0.83333,     0.83333,     0.83333,     0.83333,     0.83333,     0.83333,     0.83333,     0.78947,     0.78947,     0.78947,     0.78947,     0.78947,     0.78947,     0.78947,     0.78947,     0.78947,     0.78947,     0.78947,     0.78947,     0.78947,     0.78947,     0.78947,\n",
            "            0.78947,     0.78947,     0.78947,     0.78947,     0.78947,     0.78947,     0.78947,     0.78947,     0.78947,     0.78947,     0.78947,     0.78947,     0.78947,     0.78947,     0.78947,     0.78947,     0.78947,     0.78947,     0.78947,     0.78947,     0.78947,     0.78947,     0.78947,\n",
            "            0.78947,     0.78947,     0.78947,     0.78947,     0.78947,     0.78947,     0.78947,     0.78947,     0.78947,     0.78947,     0.78947,     0.78947,     0.78947,     0.78947,     0.78947,     0.78947,     0.78947,     0.78947,     0.78947,     0.78947,     0.78947,     0.78947,     0.78947,\n",
            "            0.78947,     0.78947,     0.78947,     0.78947,     0.78947,     0.78947,     0.78947,     0.78947,     0.78947,     0.78947,     0.78947,     0.78947,     0.78947,     0.78947,     0.78947,     0.78947,     0.78947,     0.78947,     0.78947,     0.78947,     0.78947,     0.78947,     0.78947,\n",
            "            0.78947,     0.78947,     0.78947,     0.78947,     0.78947,     0.78947,     0.78947,     0.78947,     0.78947,     0.78947,     0.78947,     0.78947,     0.78947,     0.78947,     0.78947,     0.78947,     0.78947,     0.78947,     0.78947,     0.78947,     0.78947,     0.78947,     0.78947,\n",
            "            0.78947,     0.78947,     0.78947,     0.78947,     0.78947,     0.78947,     0.78947,     0.78947,     0.78947,     0.78947,     0.78947,     0.78947,     0.78947,     0.78947,     0.78947,     0.78947,     0.78947,     0.78947,     0.78947,     0.78947,     0.78947,     0.78947,     0.78947,\n",
            "            0.78947,     0.78947,     0.78947,     0.78947,     0.78947,     0.78947,     0.78947,     0.78947,     0.78947,     0.78947,     0.78947,     0.78947,     0.78947,     0.78947,     0.78947,     0.78947,     0.78947,     0.78947,     0.78947,     0.78947,     0.78947,     0.78947,     0.78947,\n",
            "            0.78947,     0.78947,     0.78947,     0.78947,     0.78947,     0.78947,     0.78947,     0.78947,     0.78947,     0.78947,     0.78947,     0.78947,     0.78947,     0.78947,     0.78947,     0.78947,     0.78947,     0.78947,     0.78947,     0.78947,     0.78947,     0.78947,     0.78947,\n",
            "            0.78947,     0.78947,     0.78947,     0.78947,     0.78947,     0.78947,     0.78947,     0.78947,     0.78947,     0.78947,     0.78947,     0.78947,     0.78947,     0.78947,     0.78947,     0.78947,     0.78947,     0.78947,     0.78947,     0.78947,     0.78947,     0.78947,     0.78947,\n",
            "            0.78947,     0.78947,     0.78947,     0.78947,     0.78947,     0.78947,     0.78947,     0.78947,     0.78947,     0.78947,     0.78947,     0.78947,     0.78947,     0.78947,     0.78947,     0.78947,     0.78947,     0.78947,     0.78947,     0.78947,     0.78947,     0.78947,     0.78947,\n",
            "            0.78947,     0.78947,     0.78947,     0.78947,     0.78947,     0.78947,     0.78947,     0.78947,     0.78947,     0.78947,     0.78947,     0.78947,     0.78947,     0.78947,     0.78947,     0.78947,     0.78947,     0.78947,     0.78947,     0.78947,     0.78947,     0.78947,     0.78947,\n",
            "            0.78947,     0.78947,     0.78947,     0.78947,     0.78947,     0.78947,     0.78947,     0.78947,     0.78947,     0.78947,     0.78947,     0.78947,     0.78947,     0.78947,     0.78947,     0.78947,     0.78947,     0.78947,     0.78947,     0.78947,     0.78947,     0.78947,     0.78947,\n",
            "            0.78947,     0.78947,     0.78947,     0.78947,     0.78947,     0.78947,     0.78947,     0.78947,     0.78947,     0.78947,     0.78947,     0.78947,     0.78947,     0.78947,     0.78947,     0.78947,     0.78947,     0.78947,     0.78947,     0.78947,     0.78947,     0.78947,     0.78947,\n",
            "            0.78947,     0.78947,     0.78947,     0.78947,     0.78947,     0.78947,     0.78947,     0.78947,     0.78947,     0.78947,     0.78947,     0.78947,     0.78947,     0.78947,     0.78947,     0.78947,     0.78947,     0.78947,     0.78947,     0.78947,     0.78947,     0.78947,     0.78947,\n",
            "            0.78947,     0.78947,     0.78947,     0.78947,     0.78947,     0.78947,     0.78947,     0.78947,     0.78947,     0.78947,     0.78947,     0.78947,     0.78947,     0.78947,     0.78947,     0.78947,     0.78947,     0.78947,     0.78947,     0.78947,     0.78947,     0.78947,     0.78947,\n",
            "            0.78947,     0.78947,     0.78947,     0.78947,     0.78947,     0.78947,     0.78947,     0.78947,     0.78947,     0.78947,     0.78947,     0.78947,     0.78947,     0.78947,     0.78947,     0.78947,     0.78947,     0.78947,     0.78947,     0.78947,     0.78947,     0.78947,     0.78947,\n",
            "            0.78947,     0.78947,     0.78947,     0.78947,     0.78947,     0.78947,     0.78947,     0.78947,     0.78947,     0.78947,     0.78947,     0.78947,     0.78947,     0.78947,     0.78947,     0.78947,     0.78947,     0.78947,     0.78947,     0.78947,     0.78947,     0.78947,     0.78947,\n",
            "            0.78947,     0.78947,      0.7561,      0.7561,      0.7561,      0.7561,      0.7561,      0.7561,      0.7561,      0.7561,      0.7561,      0.7561,      0.7561,      0.7561,      0.7561,      0.7561,      0.7561,     0.74419,     0.74419,     0.74419,     0.74419,     0.74419,     0.74419,\n",
            "            0.74419,     0.74419,     0.74419,     0.74419,     0.74419,     0.74419,     0.74419,     0.74419,     0.74419,     0.71739,     0.71739,     0.71739,     0.71739,     0.71739,     0.71739,     0.71739,     0.71739,     0.71739,     0.71739,     0.71739,     0.71739,     0.71739,     0.71739,\n",
            "            0.71739,     0.71739,     0.69388,     0.69388,     0.69388,     0.69388,     0.69388,     0.69388,     0.69388,     0.69388,     0.69388,     0.69388,     0.69388,     0.69388,     0.69388,     0.69388,     0.69388,     0.68627,     0.68627,     0.68627,     0.68627,     0.68627,     0.68627,\n",
            "            0.68627,     0.68627,     0.68627,     0.68627,     0.68627,     0.68627,     0.68627,     0.68627,     0.68627,     0.67925,     0.67925,     0.67925,     0.67925,     0.67925,     0.67925,     0.67925,     0.67925,     0.67925,     0.67925,     0.67925,     0.67925,     0.67925,     0.67925,\n",
            "            0.67925,     0.67925,     0.56061,     0.56061,     0.56061,     0.56061,     0.56061,     0.56061,     0.56061,     0.56061,     0.56061,     0.56061,     0.56061,     0.56061,     0.56061,     0.56061,     0.56061,     0.45238,     0.45238,     0.45238,     0.45238,     0.45238,     0.45238,\n",
            "            0.45238,     0.45238,     0.45238,     0.45238,     0.45238,     0.45238,     0.45238,     0.45238,     0.45238,     0.45238,      0.3578,      0.3578,      0.3578,      0.3578,      0.3578,      0.3578,      0.3578,      0.3578,      0.3578,      0.3578,      0.3578,      0.3578,      0.3578,\n",
            "             0.3578,      0.3578,     0.33898,     0.33898,     0.33898,     0.33898,     0.33898,     0.33898,     0.33898,     0.33898,     0.33898,     0.33898,     0.33898,     0.33898,     0.33898,     0.33898,     0.33898,     0.22404,     0.22404,     0.22404,     0.22404,     0.22404,     0.22404,\n",
            "            0.22404,     0.22404,     0.22404,     0.22404,     0.22404,     0.22404,     0.22404,     0.22404,     0.22404,     0.22404,       0.168,       0.168,       0.168,       0.168,       0.168,       0.168,       0.168,       0.168,       0.168,       0.168,       0.168,       0.168,       0.168,\n",
            "              0.168,       0.168,     0.15867,     0.15867,     0.15867,     0.15867,     0.15867,     0.15867,     0.15867,     0.15867,     0.15867,     0.15867,     0.15867,     0.15867,     0.15867,     0.15867,     0.15867,     0.11989,     0.11989,     0.11989,     0.11989,     0.11989,     0.11989,\n",
            "            0.11989,     0.11989,     0.11989,     0.11989,     0.11989,     0.11989,     0.11989,     0.11989,     0.11989,     0.11989,    0.053928,     0.05376,    0.053593,    0.053425,    0.053258,     0.05309,    0.052923,    0.052755,    0.052588,    0.052421,    0.052253,    0.052086,    0.051918,\n",
            "           0.051751,    0.051583,    0.051416,    0.051248,    0.051081,    0.050913,    0.050746,    0.050578,    0.050411,    0.050243,    0.050076,    0.049908,    0.049741,    0.049573,    0.049406,    0.049238,    0.049071,    0.048903,    0.048736,    0.048569,    0.048401,    0.048234,    0.048066,\n",
            "           0.047899,    0.047731,    0.047564,    0.047396,    0.047229,    0.047061,    0.046894,    0.046726,    0.046559,    0.046391,    0.046224,    0.046056,    0.045889,    0.045721,    0.045554,    0.045386,    0.045219,    0.045051,    0.044884,    0.044717,    0.044549,    0.044382,    0.044214,\n",
            "           0.044047,    0.043879,    0.043712,    0.043544,    0.043377,    0.043209,    0.043042,    0.042874,    0.042707,    0.042539,    0.042372,    0.042204,    0.042037,    0.041869,    0.041702,    0.041534,    0.041367,      0.0412,    0.041032,    0.040865,    0.040697,     0.04053,    0.040362,\n",
            "           0.040195,    0.040027,     0.03986,    0.039692,    0.039525,    0.039357,     0.03919,    0.039022,    0.038855,    0.038687,     0.03852,    0.038352,    0.038185,    0.038017,     0.03785,    0.037682,    0.037515,    0.037348,     0.03718,    0.037013,    0.036845,    0.036678,     0.03651,\n",
            "           0.036343,    0.036175,    0.036008,     0.03584,    0.035673,    0.035505,    0.035338,     0.03517,    0.035003,    0.034835,    0.034668,      0.0345,    0.034333,    0.034165,    0.033998,     0.03383,    0.033663,    0.033496,    0.033328,    0.033161,    0.032993,    0.032826,    0.032658,\n",
            "           0.032491,    0.032323,    0.032156,    0.031988,    0.031821,    0.031653,    0.031486,    0.031318,    0.031151,    0.030983,    0.030816,    0.030648,    0.030481,    0.030313,    0.030146,    0.029978,    0.029811,    0.029644,    0.029476,    0.029309,    0.029141,    0.028974,    0.028806,\n",
            "           0.028639,    0.028471,    0.028304,    0.028136,    0.027969,    0.027801,    0.027634,    0.027466,    0.027299,    0.027131,    0.026964,    0.026796,    0.026629,    0.026461,    0.026294,    0.026127,    0.025959,    0.025792,    0.025624,    0.025457,    0.025289,    0.025122,    0.024954,\n",
            "           0.024787,    0.024619,    0.024452,    0.024284,    0.024117,    0.023949,    0.023782,    0.023614,    0.023447,    0.023279,    0.023112,    0.022944,    0.022777,    0.022609,    0.022442,    0.022275,    0.022107,     0.02194,    0.021772,    0.021605,    0.021437,     0.02127,    0.021102,\n",
            "           0.020935,    0.020767,      0.0206,    0.020432,    0.020265,    0.020097,     0.01993,    0.019762,    0.019595,    0.019427,     0.01926,    0.019092,    0.018925,    0.018757,     0.01859,    0.018423,    0.018255,    0.018088,     0.01792,    0.017753,    0.017585,    0.017418,     0.01725,\n",
            "           0.017083,    0.016915,    0.016748,     0.01658,    0.016413,    0.016245,    0.016078,     0.01591,    0.015743,    0.015575,    0.015408,     0.01524,    0.015073,    0.014906,    0.014738,    0.014571,    0.014403,    0.014236,    0.014068,    0.013901,    0.013733,    0.013566,    0.013398,\n",
            "           0.013231,    0.013063,    0.012896,    0.012728,    0.012561,    0.012393,    0.012226,    0.012058,    0.011891,    0.011723,    0.011556,    0.011388,    0.011221,    0.011054,    0.010886,    0.010719,    0.010551,    0.010384,    0.010216,    0.010049,   0.0098812,   0.0097137,   0.0095462,\n",
            "          0.0093787,   0.0092113,   0.0090438,   0.0088763,   0.0087088,   0.0085414,   0.0083739,   0.0082064,   0.0080389,   0.0078714,    0.007704,   0.0075365,    0.007369,   0.0072015,   0.0070341,   0.0068666,   0.0066991,   0.0065316,   0.0063642,   0.0061967,   0.0060292,   0.0058617,   0.0056942,\n",
            "          0.0055268,   0.0053593,   0.0051918,   0.0050243,   0.0048569,   0.0046894,   0.0045219,   0.0043544,   0.0041869,   0.0040195,    0.003852,   0.0036845,    0.003517,   0.0033496,   0.0031821,   0.0030146,   0.0028471,   0.0026796,   0.0025122,   0.0023447,   0.0021772,   0.0020097,   0.0018423,\n",
            "          0.0016748,   0.0015073,   0.0013398,   0.0011723,   0.0010049,  0.00083739,  0.00066991,  0.00050243,  0.00033496,  0.00016748,           0]]), 'Recall', 'Precision'], [array([          0,    0.001001,    0.002002,    0.003003,    0.004004,    0.005005,    0.006006,    0.007007,    0.008008,    0.009009,     0.01001,    0.011011,    0.012012,    0.013013,    0.014014,    0.015015,    0.016016,    0.017017,    0.018018,    0.019019,     0.02002,    0.021021,    0.022022,    0.023023,\n",
            "          0.024024,    0.025025,    0.026026,    0.027027,    0.028028,    0.029029,     0.03003,    0.031031,    0.032032,    0.033033,    0.034034,    0.035035,    0.036036,    0.037037,    0.038038,    0.039039,     0.04004,    0.041041,    0.042042,    0.043043,    0.044044,    0.045045,    0.046046,    0.047047,\n",
            "          0.048048,    0.049049,     0.05005,    0.051051,    0.052052,    0.053053,    0.054054,    0.055055,    0.056056,    0.057057,    0.058058,    0.059059,     0.06006,    0.061061,    0.062062,    0.063063,    0.064064,    0.065065,    0.066066,    0.067067,    0.068068,    0.069069,     0.07007,    0.071071,\n",
            "          0.072072,    0.073073,    0.074074,    0.075075,    0.076076,    0.077077,    0.078078,    0.079079,     0.08008,    0.081081,    0.082082,    0.083083,    0.084084,    0.085085,    0.086086,    0.087087,    0.088088,    0.089089,     0.09009,    0.091091,    0.092092,    0.093093,    0.094094,    0.095095,\n",
            "          0.096096,    0.097097,    0.098098,    0.099099,      0.1001,      0.1011,      0.1021,      0.1031,      0.1041,     0.10511,     0.10611,     0.10711,     0.10811,     0.10911,     0.11011,     0.11111,     0.11211,     0.11311,     0.11411,     0.11512,     0.11612,     0.11712,     0.11812,     0.11912,\n",
            "           0.12012,     0.12112,     0.12212,     0.12312,     0.12412,     0.12513,     0.12613,     0.12713,     0.12813,     0.12913,     0.13013,     0.13113,     0.13213,     0.13313,     0.13413,     0.13514,     0.13614,     0.13714,     0.13814,     0.13914,     0.14014,     0.14114,     0.14214,     0.14314,\n",
            "           0.14414,     0.14515,     0.14615,     0.14715,     0.14815,     0.14915,     0.15015,     0.15115,     0.15215,     0.15315,     0.15415,     0.15516,     0.15616,     0.15716,     0.15816,     0.15916,     0.16016,     0.16116,     0.16216,     0.16316,     0.16416,     0.16517,     0.16617,     0.16717,\n",
            "           0.16817,     0.16917,     0.17017,     0.17117,     0.17217,     0.17317,     0.17417,     0.17518,     0.17618,     0.17718,     0.17818,     0.17918,     0.18018,     0.18118,     0.18218,     0.18318,     0.18418,     0.18519,     0.18619,     0.18719,     0.18819,     0.18919,     0.19019,     0.19119,\n",
            "           0.19219,     0.19319,     0.19419,      0.1952,      0.1962,      0.1972,      0.1982,      0.1992,      0.2002,      0.2012,      0.2022,      0.2032,      0.2042,     0.20521,     0.20621,     0.20721,     0.20821,     0.20921,     0.21021,     0.21121,     0.21221,     0.21321,     0.21421,     0.21522,\n",
            "           0.21622,     0.21722,     0.21822,     0.21922,     0.22022,     0.22122,     0.22222,     0.22322,     0.22422,     0.22523,     0.22623,     0.22723,     0.22823,     0.22923,     0.23023,     0.23123,     0.23223,     0.23323,     0.23423,     0.23524,     0.23624,     0.23724,     0.23824,     0.23924,\n",
            "           0.24024,     0.24124,     0.24224,     0.24324,     0.24424,     0.24525,     0.24625,     0.24725,     0.24825,     0.24925,     0.25025,     0.25125,     0.25225,     0.25325,     0.25425,     0.25526,     0.25626,     0.25726,     0.25826,     0.25926,     0.26026,     0.26126,     0.26226,     0.26326,\n",
            "           0.26426,     0.26527,     0.26627,     0.26727,     0.26827,     0.26927,     0.27027,     0.27127,     0.27227,     0.27327,     0.27427,     0.27528,     0.27628,     0.27728,     0.27828,     0.27928,     0.28028,     0.28128,     0.28228,     0.28328,     0.28428,     0.28529,     0.28629,     0.28729,\n",
            "           0.28829,     0.28929,     0.29029,     0.29129,     0.29229,     0.29329,     0.29429,      0.2953,      0.2963,      0.2973,      0.2983,      0.2993,      0.3003,      0.3013,      0.3023,      0.3033,      0.3043,     0.30531,     0.30631,     0.30731,     0.30831,     0.30931,     0.31031,     0.31131,\n",
            "           0.31231,     0.31331,     0.31431,     0.31532,     0.31632,     0.31732,     0.31832,     0.31932,     0.32032,     0.32132,     0.32232,     0.32332,     0.32432,     0.32533,     0.32633,     0.32733,     0.32833,     0.32933,     0.33033,     0.33133,     0.33233,     0.33333,     0.33433,     0.33534,\n",
            "           0.33634,     0.33734,     0.33834,     0.33934,     0.34034,     0.34134,     0.34234,     0.34334,     0.34434,     0.34535,     0.34635,     0.34735,     0.34835,     0.34935,     0.35035,     0.35135,     0.35235,     0.35335,     0.35435,     0.35536,     0.35636,     0.35736,     0.35836,     0.35936,\n",
            "           0.36036,     0.36136,     0.36236,     0.36336,     0.36436,     0.36537,     0.36637,     0.36737,     0.36837,     0.36937,     0.37037,     0.37137,     0.37237,     0.37337,     0.37437,     0.37538,     0.37638,     0.37738,     0.37838,     0.37938,     0.38038,     0.38138,     0.38238,     0.38338,\n",
            "           0.38438,     0.38539,     0.38639,     0.38739,     0.38839,     0.38939,     0.39039,     0.39139,     0.39239,     0.39339,     0.39439,      0.3954,      0.3964,      0.3974,      0.3984,      0.3994,      0.4004,      0.4014,      0.4024,      0.4034,      0.4044,     0.40541,     0.40641,     0.40741,\n",
            "           0.40841,     0.40941,     0.41041,     0.41141,     0.41241,     0.41341,     0.41441,     0.41542,     0.41642,     0.41742,     0.41842,     0.41942,     0.42042,     0.42142,     0.42242,     0.42342,     0.42442,     0.42543,     0.42643,     0.42743,     0.42843,     0.42943,     0.43043,     0.43143,\n",
            "           0.43243,     0.43343,     0.43443,     0.43544,     0.43644,     0.43744,     0.43844,     0.43944,     0.44044,     0.44144,     0.44244,     0.44344,     0.44444,     0.44545,     0.44645,     0.44745,     0.44845,     0.44945,     0.45045,     0.45145,     0.45245,     0.45345,     0.45445,     0.45546,\n",
            "           0.45646,     0.45746,     0.45846,     0.45946,     0.46046,     0.46146,     0.46246,     0.46346,     0.46446,     0.46547,     0.46647,     0.46747,     0.46847,     0.46947,     0.47047,     0.47147,     0.47247,     0.47347,     0.47447,     0.47548,     0.47648,     0.47748,     0.47848,     0.47948,\n",
            "           0.48048,     0.48148,     0.48248,     0.48348,     0.48448,     0.48549,     0.48649,     0.48749,     0.48849,     0.48949,     0.49049,     0.49149,     0.49249,     0.49349,     0.49449,      0.4955,      0.4965,      0.4975,      0.4985,      0.4995,      0.5005,      0.5015,      0.5025,      0.5035,\n",
            "            0.5045,     0.50551,     0.50651,     0.50751,     0.50851,     0.50951,     0.51051,     0.51151,     0.51251,     0.51351,     0.51451,     0.51552,     0.51652,     0.51752,     0.51852,     0.51952,     0.52052,     0.52152,     0.52252,     0.52352,     0.52452,     0.52553,     0.52653,     0.52753,\n",
            "           0.52853,     0.52953,     0.53053,     0.53153,     0.53253,     0.53353,     0.53453,     0.53554,     0.53654,     0.53754,     0.53854,     0.53954,     0.54054,     0.54154,     0.54254,     0.54354,     0.54454,     0.54555,     0.54655,     0.54755,     0.54855,     0.54955,     0.55055,     0.55155,\n",
            "           0.55255,     0.55355,     0.55455,     0.55556,     0.55656,     0.55756,     0.55856,     0.55956,     0.56056,     0.56156,     0.56256,     0.56356,     0.56456,     0.56557,     0.56657,     0.56757,     0.56857,     0.56957,     0.57057,     0.57157,     0.57257,     0.57357,     0.57457,     0.57558,\n",
            "           0.57658,     0.57758,     0.57858,     0.57958,     0.58058,     0.58158,     0.58258,     0.58358,     0.58458,     0.58559,     0.58659,     0.58759,     0.58859,     0.58959,     0.59059,     0.59159,     0.59259,     0.59359,     0.59459,      0.5956,      0.5966,      0.5976,      0.5986,      0.5996,\n",
            "            0.6006,      0.6016,      0.6026,      0.6036,      0.6046,     0.60561,     0.60661,     0.60761,     0.60861,     0.60961,     0.61061,     0.61161,     0.61261,     0.61361,     0.61461,     0.61562,     0.61662,     0.61762,     0.61862,     0.61962,     0.62062,     0.62162,     0.62262,     0.62362,\n",
            "           0.62462,     0.62563,     0.62663,     0.62763,     0.62863,     0.62963,     0.63063,     0.63163,     0.63263,     0.63363,     0.63463,     0.63564,     0.63664,     0.63764,     0.63864,     0.63964,     0.64064,     0.64164,     0.64264,     0.64364,     0.64464,     0.64565,     0.64665,     0.64765,\n",
            "           0.64865,     0.64965,     0.65065,     0.65165,     0.65265,     0.65365,     0.65465,     0.65566,     0.65666,     0.65766,     0.65866,     0.65966,     0.66066,     0.66166,     0.66266,     0.66366,     0.66466,     0.66567,     0.66667,     0.66767,     0.66867,     0.66967,     0.67067,     0.67167,\n",
            "           0.67267,     0.67367,     0.67467,     0.67568,     0.67668,     0.67768,     0.67868,     0.67968,     0.68068,     0.68168,     0.68268,     0.68368,     0.68468,     0.68569,     0.68669,     0.68769,     0.68869,     0.68969,     0.69069,     0.69169,     0.69269,     0.69369,     0.69469,      0.6957,\n",
            "            0.6967,      0.6977,      0.6987,      0.6997,      0.7007,      0.7017,      0.7027,      0.7037,      0.7047,     0.70571,     0.70671,     0.70771,     0.70871,     0.70971,     0.71071,     0.71171,     0.71271,     0.71371,     0.71471,     0.71572,     0.71672,     0.71772,     0.71872,     0.71972,\n",
            "           0.72072,     0.72172,     0.72272,     0.72372,     0.72472,     0.72573,     0.72673,     0.72773,     0.72873,     0.72973,     0.73073,     0.73173,     0.73273,     0.73373,     0.73473,     0.73574,     0.73674,     0.73774,     0.73874,     0.73974,     0.74074,     0.74174,     0.74274,     0.74374,\n",
            "           0.74474,     0.74575,     0.74675,     0.74775,     0.74875,     0.74975,     0.75075,     0.75175,     0.75275,     0.75375,     0.75475,     0.75576,     0.75676,     0.75776,     0.75876,     0.75976,     0.76076,     0.76176,     0.76276,     0.76376,     0.76476,     0.76577,     0.76677,     0.76777,\n",
            "           0.76877,     0.76977,     0.77077,     0.77177,     0.77277,     0.77377,     0.77477,     0.77578,     0.77678,     0.77778,     0.77878,     0.77978,     0.78078,     0.78178,     0.78278,     0.78378,     0.78478,     0.78579,     0.78679,     0.78779,     0.78879,     0.78979,     0.79079,     0.79179,\n",
            "           0.79279,     0.79379,     0.79479,      0.7958,      0.7968,      0.7978,      0.7988,      0.7998,      0.8008,      0.8018,      0.8028,      0.8038,      0.8048,     0.80581,     0.80681,     0.80781,     0.80881,     0.80981,     0.81081,     0.81181,     0.81281,     0.81381,     0.81481,     0.81582,\n",
            "           0.81682,     0.81782,     0.81882,     0.81982,     0.82082,     0.82182,     0.82282,     0.82382,     0.82482,     0.82583,     0.82683,     0.82783,     0.82883,     0.82983,     0.83083,     0.83183,     0.83283,     0.83383,     0.83483,     0.83584,     0.83684,     0.83784,     0.83884,     0.83984,\n",
            "           0.84084,     0.84184,     0.84284,     0.84384,     0.84484,     0.84585,     0.84685,     0.84785,     0.84885,     0.84985,     0.85085,     0.85185,     0.85285,     0.85385,     0.85485,     0.85586,     0.85686,     0.85786,     0.85886,     0.85986,     0.86086,     0.86186,     0.86286,     0.86386,\n",
            "           0.86486,     0.86587,     0.86687,     0.86787,     0.86887,     0.86987,     0.87087,     0.87187,     0.87287,     0.87387,     0.87487,     0.87588,     0.87688,     0.87788,     0.87888,     0.87988,     0.88088,     0.88188,     0.88288,     0.88388,     0.88488,     0.88589,     0.88689,     0.88789,\n",
            "           0.88889,     0.88989,     0.89089,     0.89189,     0.89289,     0.89389,     0.89489,      0.8959,      0.8969,      0.8979,      0.8989,      0.8999,      0.9009,      0.9019,      0.9029,      0.9039,      0.9049,     0.90591,     0.90691,     0.90791,     0.90891,     0.90991,     0.91091,     0.91191,\n",
            "           0.91291,     0.91391,     0.91491,     0.91592,     0.91692,     0.91792,     0.91892,     0.91992,     0.92092,     0.92192,     0.92292,     0.92392,     0.92492,     0.92593,     0.92693,     0.92793,     0.92893,     0.92993,     0.93093,     0.93193,     0.93293,     0.93393,     0.93493,     0.93594,\n",
            "           0.93694,     0.93794,     0.93894,     0.93994,     0.94094,     0.94194,     0.94294,     0.94394,     0.94494,     0.94595,     0.94695,     0.94795,     0.94895,     0.94995,     0.95095,     0.95195,     0.95295,     0.95395,     0.95495,     0.95596,     0.95696,     0.95796,     0.95896,     0.95996,\n",
            "           0.96096,     0.96196,     0.96296,     0.96396,     0.96496,     0.96597,     0.96697,     0.96797,     0.96897,     0.96997,     0.97097,     0.97197,     0.97297,     0.97397,     0.97497,     0.97598,     0.97698,     0.97798,     0.97898,     0.97998,     0.98098,     0.98198,     0.98298,     0.98398,\n",
            "           0.98498,     0.98599,     0.98699,     0.98799,     0.98899,     0.98999,     0.99099,     0.99199,     0.99299,     0.99399,     0.99499,       0.996,       0.997,       0.998,       0.999,           1]), array([[    0.10011,     0.10024,     0.14742,     0.18022,     0.20072,     0.21737,        0.24,     0.25541,     0.26234,     0.26788,     0.28262,     0.29413,     0.29987,     0.30982,     0.31379,       0.325,      0.3268,     0.33931,     0.35063,     0.36712,     0.37404,     0.37662,     0.38821,\n",
            "            0.39205,     0.40417,     0.40641,     0.41205,     0.41529,     0.41827,     0.43072,     0.43348,     0.43257,     0.43885,     0.44321,     0.44566,      0.4489,     0.45787,      0.4595,     0.46118,     0.46295,     0.46658,     0.46833,     0.47008,     0.47181,     0.47406,     0.48437,\n",
            "            0.48843,     0.49164,     0.49483,     0.50096,     0.50501,     0.50923,     0.50775,     0.50461,     0.50147,     0.50558,      0.5077,      0.5088,     0.50989,     0.51264,     0.51651,     0.51893,     0.52086,     0.52311,     0.52508,     0.52611,     0.52714,     0.52817,     0.53061,\n",
            "            0.53571,     0.53864,     0.54083,     0.54244,     0.54405,      0.5476,     0.55274,     0.55527,     0.56087,     0.56143,     0.56198,     0.56254,     0.56309,     0.56365,      0.5642,     0.56475,     0.56118,     0.55625,     0.55472,     0.55642,     0.55811,     0.56324,     0.56472,\n",
            "            0.56619,     0.57042,      0.5718,     0.57224,     0.57268,     0.57311,     0.57355,     0.57398,     0.57442,     0.57485,     0.57528,     0.57571,     0.57786,     0.58245,     0.59057,     0.59274,      0.5949,     0.59741,     0.59991,     0.60063,     0.60129,     0.60194,      0.6026,\n",
            "            0.60325,     0.60389,     0.60454,     0.60522,     0.60603,     0.60683,     0.60763,     0.60843,     0.60923,     0.61002,     0.59943,      0.6017,     0.59852,     0.59568,     0.59243,     0.58916,     0.58589,     0.58778,     0.59448,     0.59302,     0.59156,      0.5901,     0.58864,\n",
            "            0.58718,     0.58571,     0.58424,     0.58277,     0.58204,     0.58267,      0.5833,     0.58392,     0.58455,     0.58517,     0.58579,     0.58641,     0.58702,      0.5876,     0.58817,     0.58873,      0.5893,     0.58986,     0.59042,     0.59098,     0.59154,     0.59209,      0.5925,\n",
            "            0.59153,     0.59057,      0.5896,     0.58863,     0.58766,     0.58669,     0.58572,     0.58475,     0.58377,      0.5828,     0.58183,     0.58085,     0.57988,     0.57966,     0.58005,     0.58044,     0.58083,     0.58122,      0.5816,     0.58199,     0.58238,     0.58276,     0.58315,\n",
            "            0.58353,     0.58392,      0.5843,     0.58468,     0.58408,     0.58206,     0.58003,     0.57801,     0.57598,     0.57394,      0.5719,     0.57197,     0.57267,     0.57338,     0.57407,     0.57477,     0.57546,     0.57615,     0.57684,     0.57771,      0.5786,     0.57949,     0.58037,\n",
            "            0.58125,     0.58212,     0.58154,      0.5797,     0.57786,     0.57601,     0.57416,     0.57231,     0.57045,     0.56861,     0.56795,     0.56728,     0.56662,     0.56595,     0.56529,     0.56462,     0.56395,     0.56328,     0.56262,     0.56195,     0.56128,     0.56061,     0.55994,\n",
            "            0.55927,      0.5586,     0.55793,     0.55725,     0.55658,     0.55591,     0.55524,     0.55456,     0.54792,     0.54007,     0.53878,     0.53754,     0.53631,     0.53507,     0.53383,     0.53259,     0.53135,     0.53011,     0.52887,     0.52762,     0.52637,     0.52521,     0.52479,\n",
            "            0.52436,     0.52394,     0.52351,     0.52309,     0.52266,     0.52224,     0.52181,     0.52138,     0.52096,     0.52053,     0.52011,     0.51968,     0.51925,     0.51883,      0.5184,     0.51797,     0.51755,     0.51712,     0.51669,     0.51626,     0.51584,     0.51541,     0.51498,\n",
            "            0.51455,     0.51412,      0.5137,     0.51327,     0.51284,     0.51241,     0.51198,     0.51155,     0.51112,     0.51069,     0.51026,     0.50663,     0.50252,     0.49838,     0.49367,      0.4856,     0.47858,     0.47575,     0.47292,     0.47007,     0.46722,     0.46437,     0.46089,\n",
            "            0.45697,     0.45303,     0.44908,      0.4476,     0.44943,     0.45122,     0.42132,     0.39816,     0.39459,       0.391,      0.3874,      0.3838,     0.37901,     0.37306,     0.36709,     0.32416,     0.31482,     0.30583,     0.30473,     0.30363,     0.30253,     0.30143,     0.30032,\n",
            "            0.29922,     0.29812,     0.29701,     0.29591,      0.2948,     0.29369,     0.29258,     0.29148,     0.29037,     0.28926,     0.28814,     0.28703,     0.28592,     0.27706,      0.2664,     0.26519,     0.26534,     0.26549,     0.26563,     0.26578,     0.26593,     0.26607,     0.26622,\n",
            "            0.26636,      0.2665,     0.26665,     0.26679,     0.26693,     0.26707,     0.26721,     0.26735,     0.26749,     0.26763,     0.26777,     0.26791,     0.26805,     0.26818,     0.26178,     0.24754,     0.24867,     0.24976,     0.24844,     0.24642,      0.2444,     0.24237,     0.24035,\n",
            "            0.23832,     0.23628,     0.23425,     0.23221,     0.23017,     0.22813,     0.22588,      0.2236,     0.22132,     0.21903,     0.21674,     0.21444,     0.21215,     0.20985,     0.20754,     0.20523,     0.20786,     0.20898,     0.21003,     0.20607,     0.19732,     0.18851,     0.15953,\n",
            "            0.15586,     0.15218,     0.14849,     0.14479,     0.14109,     0.13737,     0.13711,     0.13724,     0.13737,      0.1375,     0.13763,     0.13776,     0.13788,       0.138,     0.13812,     0.13824,     0.13835,     0.13847,     0.13858,     0.13869,      0.1388,     0.13904,     0.13972,\n",
            "            0.14035,     0.14065,     0.13927,     0.13788,      0.1365,     0.13511,     0.13372,     0.13233,     0.13093,     0.12954,     0.12814,     0.12675,     0.12535,     0.12394,     0.12254,     0.12114,     0.11973,     0.11832,     0.11691,      0.1155,     0.11374,     0.10988,     0.10601,\n",
            "            0.10212,    0.098226,    0.094316,    0.090394,     0.08687,    0.086189,    0.085508,    0.084826,    0.084144,    0.083461,    0.082779,    0.082096,    0.081413,    0.080729,    0.080045,    0.079361,    0.078677,    0.077992,    0.077307,    0.076621,    0.075936,    0.075249,    0.074563,\n",
            "           0.073876,    0.073189,    0.072502,    0.071814,    0.071126,    0.070438,    0.069749,     0.06906,     0.06837,     0.06768,     0.06699,    0.066299,    0.065608,    0.064917,    0.064225,    0.063533,    0.062841,    0.062148,    0.061455,    0.060761,    0.060067,    0.059372,    0.058201,\n",
            "           0.055238,    0.052272,    0.049302,    0.046327,    0.043348,    0.040364,    0.037373,    0.034377,    0.031374,    0.029856,    0.029868,    0.029879,     0.02989,      0.0299,    0.029911,    0.029921,    0.029931,     0.02994,     0.02995,    0.029959,    0.029968,    0.029977,    0.029985,\n",
            "           0.029994,    0.030002,     0.03001,    0.030018,    0.030026,    0.030033,    0.030041,    0.030048,    0.030055,    0.030062,    0.030069,    0.030076,    0.030082,    0.030089,    0.030095,    0.030101,    0.030107,    0.030113,    0.030119,    0.030125,    0.030131,    0.030136,    0.030142,\n",
            "           0.030147,    0.030152,    0.030158,    0.030163,    0.030168,    0.030173,    0.030178,    0.030183,    0.030187,    0.030192,    0.030196,    0.030201,    0.030205,     0.03021,    0.030214,    0.030218,    0.030222,    0.030227,    0.030231,    0.030235,    0.030239,    0.030242,    0.030246,\n",
            "            0.03025,    0.030254,    0.030257,    0.030261,    0.030264,    0.030268,    0.030271,    0.030275,    0.030278,    0.030282,    0.030285,    0.030288,    0.030291,    0.030294,    0.030297,      0.0303,           0,           0,           0,           0,           0,           0,           0,\n",
            "                  0,           0,           0,           0,           0,           0,           0,           0,           0,           0,           0,           0,           0,           0,           0,           0,           0,           0,           0,           0,           0,           0,           0,\n",
            "                  0,           0,           0,           0,           0,           0,           0,           0,           0,           0,           0,           0,           0,           0,           0,           0,           0,           0,           0,           0,           0,           0,           0,\n",
            "                  0,           0,           0,           0,           0,           0,           0,           0,           0,           0,           0,           0,           0,           0,           0,           0,           0,           0,           0,           0,           0,           0,           0,\n",
            "                  0,           0,           0,           0,           0,           0,           0,           0,           0,           0,           0,           0,           0,           0,           0,           0,           0,           0,           0,           0,           0,           0,           0,\n",
            "                  0,           0,           0,           0,           0,           0,           0,           0,           0,           0,           0,           0,           0,           0,           0,           0,           0,           0,           0,           0,           0,           0,           0,\n",
            "                  0,           0,           0,           0,           0,           0,           0,           0,           0,           0,           0,           0,           0,           0,           0,           0,           0,           0,           0,           0,           0,           0,           0,\n",
            "                  0,           0,           0,           0,           0,           0,           0,           0,           0,           0,           0,           0,           0,           0,           0,           0,           0,           0,           0,           0,           0,           0,           0,\n",
            "                  0,           0,           0,           0,           0,           0,           0,           0,           0,           0,           0,           0,           0,           0,           0,           0,           0,           0,           0,           0,           0,           0,           0,\n",
            "                  0,           0,           0,           0,           0,           0,           0,           0,           0,           0,           0,           0,           0,           0,           0,           0,           0,           0,           0,           0,           0,           0,           0,\n",
            "                  0,           0,           0,           0,           0,           0,           0,           0,           0,           0,           0,           0,           0,           0,           0,           0,           0,           0,           0,           0,           0,           0,           0,\n",
            "                  0,           0,           0,           0,           0,           0,           0,           0,           0,           0,           0,           0,           0,           0,           0,           0,           0,           0,           0,           0,           0,           0,           0,\n",
            "                  0,           0,           0,           0,           0,           0,           0,           0,           0,           0,           0,           0,           0,           0,           0,           0,           0,           0,           0,           0,           0,           0,           0,\n",
            "                  0,           0,           0,           0,           0,           0,           0,           0,           0,           0,           0,           0,           0,           0,           0,           0,           0,           0,           0,           0,           0,           0,           0,\n",
            "                  0,           0,           0,           0,           0,           0,           0,           0,           0,           0,           0,           0,           0,           0,           0,           0,           0,           0,           0,           0,           0,           0,           0,\n",
            "                  0,           0,           0,           0,           0,           0,           0,           0,           0,           0,           0,           0,           0,           0,           0,           0,           0,           0,           0,           0,           0,           0,           0,\n",
            "                  0,           0,           0,           0,           0,           0,           0,           0,           0,           0,           0,           0,           0,           0,           0,           0,           0,           0,           0,           0,           0,           0,           0,\n",
            "                  0,           0,           0,           0,           0,           0,           0,           0,           0,           0,           0,           0,           0,           0,           0,           0,           0,           0,           0,           0,           0,           0,           0,\n",
            "                  0,           0,           0,           0,           0,           0,           0,           0,           0,           0,           0,           0,           0,           0,           0,           0,           0,           0,           0,           0,           0,           0,           0,\n",
            "                  0,           0,           0,           0,           0,           0,           0,           0,           0,           0,           0]]), 'Confidence', 'F1'], [array([          0,    0.001001,    0.002002,    0.003003,    0.004004,    0.005005,    0.006006,    0.007007,    0.008008,    0.009009,     0.01001,    0.011011,    0.012012,    0.013013,    0.014014,    0.015015,    0.016016,    0.017017,    0.018018,    0.019019,     0.02002,    0.021021,    0.022022,    0.023023,\n",
            "          0.024024,    0.025025,    0.026026,    0.027027,    0.028028,    0.029029,     0.03003,    0.031031,    0.032032,    0.033033,    0.034034,    0.035035,    0.036036,    0.037037,    0.038038,    0.039039,     0.04004,    0.041041,    0.042042,    0.043043,    0.044044,    0.045045,    0.046046,    0.047047,\n",
            "          0.048048,    0.049049,     0.05005,    0.051051,    0.052052,    0.053053,    0.054054,    0.055055,    0.056056,    0.057057,    0.058058,    0.059059,     0.06006,    0.061061,    0.062062,    0.063063,    0.064064,    0.065065,    0.066066,    0.067067,    0.068068,    0.069069,     0.07007,    0.071071,\n",
            "          0.072072,    0.073073,    0.074074,    0.075075,    0.076076,    0.077077,    0.078078,    0.079079,     0.08008,    0.081081,    0.082082,    0.083083,    0.084084,    0.085085,    0.086086,    0.087087,    0.088088,    0.089089,     0.09009,    0.091091,    0.092092,    0.093093,    0.094094,    0.095095,\n",
            "          0.096096,    0.097097,    0.098098,    0.099099,      0.1001,      0.1011,      0.1021,      0.1031,      0.1041,     0.10511,     0.10611,     0.10711,     0.10811,     0.10911,     0.11011,     0.11111,     0.11211,     0.11311,     0.11411,     0.11512,     0.11612,     0.11712,     0.11812,     0.11912,\n",
            "           0.12012,     0.12112,     0.12212,     0.12312,     0.12412,     0.12513,     0.12613,     0.12713,     0.12813,     0.12913,     0.13013,     0.13113,     0.13213,     0.13313,     0.13413,     0.13514,     0.13614,     0.13714,     0.13814,     0.13914,     0.14014,     0.14114,     0.14214,     0.14314,\n",
            "           0.14414,     0.14515,     0.14615,     0.14715,     0.14815,     0.14915,     0.15015,     0.15115,     0.15215,     0.15315,     0.15415,     0.15516,     0.15616,     0.15716,     0.15816,     0.15916,     0.16016,     0.16116,     0.16216,     0.16316,     0.16416,     0.16517,     0.16617,     0.16717,\n",
            "           0.16817,     0.16917,     0.17017,     0.17117,     0.17217,     0.17317,     0.17417,     0.17518,     0.17618,     0.17718,     0.17818,     0.17918,     0.18018,     0.18118,     0.18218,     0.18318,     0.18418,     0.18519,     0.18619,     0.18719,     0.18819,     0.18919,     0.19019,     0.19119,\n",
            "           0.19219,     0.19319,     0.19419,      0.1952,      0.1962,      0.1972,      0.1982,      0.1992,      0.2002,      0.2012,      0.2022,      0.2032,      0.2042,     0.20521,     0.20621,     0.20721,     0.20821,     0.20921,     0.21021,     0.21121,     0.21221,     0.21321,     0.21421,     0.21522,\n",
            "           0.21622,     0.21722,     0.21822,     0.21922,     0.22022,     0.22122,     0.22222,     0.22322,     0.22422,     0.22523,     0.22623,     0.22723,     0.22823,     0.22923,     0.23023,     0.23123,     0.23223,     0.23323,     0.23423,     0.23524,     0.23624,     0.23724,     0.23824,     0.23924,\n",
            "           0.24024,     0.24124,     0.24224,     0.24324,     0.24424,     0.24525,     0.24625,     0.24725,     0.24825,     0.24925,     0.25025,     0.25125,     0.25225,     0.25325,     0.25425,     0.25526,     0.25626,     0.25726,     0.25826,     0.25926,     0.26026,     0.26126,     0.26226,     0.26326,\n",
            "           0.26426,     0.26527,     0.26627,     0.26727,     0.26827,     0.26927,     0.27027,     0.27127,     0.27227,     0.27327,     0.27427,     0.27528,     0.27628,     0.27728,     0.27828,     0.27928,     0.28028,     0.28128,     0.28228,     0.28328,     0.28428,     0.28529,     0.28629,     0.28729,\n",
            "           0.28829,     0.28929,     0.29029,     0.29129,     0.29229,     0.29329,     0.29429,      0.2953,      0.2963,      0.2973,      0.2983,      0.2993,      0.3003,      0.3013,      0.3023,      0.3033,      0.3043,     0.30531,     0.30631,     0.30731,     0.30831,     0.30931,     0.31031,     0.31131,\n",
            "           0.31231,     0.31331,     0.31431,     0.31532,     0.31632,     0.31732,     0.31832,     0.31932,     0.32032,     0.32132,     0.32232,     0.32332,     0.32432,     0.32533,     0.32633,     0.32733,     0.32833,     0.32933,     0.33033,     0.33133,     0.33233,     0.33333,     0.33433,     0.33534,\n",
            "           0.33634,     0.33734,     0.33834,     0.33934,     0.34034,     0.34134,     0.34234,     0.34334,     0.34434,     0.34535,     0.34635,     0.34735,     0.34835,     0.34935,     0.35035,     0.35135,     0.35235,     0.35335,     0.35435,     0.35536,     0.35636,     0.35736,     0.35836,     0.35936,\n",
            "           0.36036,     0.36136,     0.36236,     0.36336,     0.36436,     0.36537,     0.36637,     0.36737,     0.36837,     0.36937,     0.37037,     0.37137,     0.37237,     0.37337,     0.37437,     0.37538,     0.37638,     0.37738,     0.37838,     0.37938,     0.38038,     0.38138,     0.38238,     0.38338,\n",
            "           0.38438,     0.38539,     0.38639,     0.38739,     0.38839,     0.38939,     0.39039,     0.39139,     0.39239,     0.39339,     0.39439,      0.3954,      0.3964,      0.3974,      0.3984,      0.3994,      0.4004,      0.4014,      0.4024,      0.4034,      0.4044,     0.40541,     0.40641,     0.40741,\n",
            "           0.40841,     0.40941,     0.41041,     0.41141,     0.41241,     0.41341,     0.41441,     0.41542,     0.41642,     0.41742,     0.41842,     0.41942,     0.42042,     0.42142,     0.42242,     0.42342,     0.42442,     0.42543,     0.42643,     0.42743,     0.42843,     0.42943,     0.43043,     0.43143,\n",
            "           0.43243,     0.43343,     0.43443,     0.43544,     0.43644,     0.43744,     0.43844,     0.43944,     0.44044,     0.44144,     0.44244,     0.44344,     0.44444,     0.44545,     0.44645,     0.44745,     0.44845,     0.44945,     0.45045,     0.45145,     0.45245,     0.45345,     0.45445,     0.45546,\n",
            "           0.45646,     0.45746,     0.45846,     0.45946,     0.46046,     0.46146,     0.46246,     0.46346,     0.46446,     0.46547,     0.46647,     0.46747,     0.46847,     0.46947,     0.47047,     0.47147,     0.47247,     0.47347,     0.47447,     0.47548,     0.47648,     0.47748,     0.47848,     0.47948,\n",
            "           0.48048,     0.48148,     0.48248,     0.48348,     0.48448,     0.48549,     0.48649,     0.48749,     0.48849,     0.48949,     0.49049,     0.49149,     0.49249,     0.49349,     0.49449,      0.4955,      0.4965,      0.4975,      0.4985,      0.4995,      0.5005,      0.5015,      0.5025,      0.5035,\n",
            "            0.5045,     0.50551,     0.50651,     0.50751,     0.50851,     0.50951,     0.51051,     0.51151,     0.51251,     0.51351,     0.51451,     0.51552,     0.51652,     0.51752,     0.51852,     0.51952,     0.52052,     0.52152,     0.52252,     0.52352,     0.52452,     0.52553,     0.52653,     0.52753,\n",
            "           0.52853,     0.52953,     0.53053,     0.53153,     0.53253,     0.53353,     0.53453,     0.53554,     0.53654,     0.53754,     0.53854,     0.53954,     0.54054,     0.54154,     0.54254,     0.54354,     0.54454,     0.54555,     0.54655,     0.54755,     0.54855,     0.54955,     0.55055,     0.55155,\n",
            "           0.55255,     0.55355,     0.55455,     0.55556,     0.55656,     0.55756,     0.55856,     0.55956,     0.56056,     0.56156,     0.56256,     0.56356,     0.56456,     0.56557,     0.56657,     0.56757,     0.56857,     0.56957,     0.57057,     0.57157,     0.57257,     0.57357,     0.57457,     0.57558,\n",
            "           0.57658,     0.57758,     0.57858,     0.57958,     0.58058,     0.58158,     0.58258,     0.58358,     0.58458,     0.58559,     0.58659,     0.58759,     0.58859,     0.58959,     0.59059,     0.59159,     0.59259,     0.59359,     0.59459,      0.5956,      0.5966,      0.5976,      0.5986,      0.5996,\n",
            "            0.6006,      0.6016,      0.6026,      0.6036,      0.6046,     0.60561,     0.60661,     0.60761,     0.60861,     0.60961,     0.61061,     0.61161,     0.61261,     0.61361,     0.61461,     0.61562,     0.61662,     0.61762,     0.61862,     0.61962,     0.62062,     0.62162,     0.62262,     0.62362,\n",
            "           0.62462,     0.62563,     0.62663,     0.62763,     0.62863,     0.62963,     0.63063,     0.63163,     0.63263,     0.63363,     0.63463,     0.63564,     0.63664,     0.63764,     0.63864,     0.63964,     0.64064,     0.64164,     0.64264,     0.64364,     0.64464,     0.64565,     0.64665,     0.64765,\n",
            "           0.64865,     0.64965,     0.65065,     0.65165,     0.65265,     0.65365,     0.65465,     0.65566,     0.65666,     0.65766,     0.65866,     0.65966,     0.66066,     0.66166,     0.66266,     0.66366,     0.66466,     0.66567,     0.66667,     0.66767,     0.66867,     0.66967,     0.67067,     0.67167,\n",
            "           0.67267,     0.67367,     0.67467,     0.67568,     0.67668,     0.67768,     0.67868,     0.67968,     0.68068,     0.68168,     0.68268,     0.68368,     0.68468,     0.68569,     0.68669,     0.68769,     0.68869,     0.68969,     0.69069,     0.69169,     0.69269,     0.69369,     0.69469,      0.6957,\n",
            "            0.6967,      0.6977,      0.6987,      0.6997,      0.7007,      0.7017,      0.7027,      0.7037,      0.7047,     0.70571,     0.70671,     0.70771,     0.70871,     0.70971,     0.71071,     0.71171,     0.71271,     0.71371,     0.71471,     0.71572,     0.71672,     0.71772,     0.71872,     0.71972,\n",
            "           0.72072,     0.72172,     0.72272,     0.72372,     0.72472,     0.72573,     0.72673,     0.72773,     0.72873,     0.72973,     0.73073,     0.73173,     0.73273,     0.73373,     0.73473,     0.73574,     0.73674,     0.73774,     0.73874,     0.73974,     0.74074,     0.74174,     0.74274,     0.74374,\n",
            "           0.74474,     0.74575,     0.74675,     0.74775,     0.74875,     0.74975,     0.75075,     0.75175,     0.75275,     0.75375,     0.75475,     0.75576,     0.75676,     0.75776,     0.75876,     0.75976,     0.76076,     0.76176,     0.76276,     0.76376,     0.76476,     0.76577,     0.76677,     0.76777,\n",
            "           0.76877,     0.76977,     0.77077,     0.77177,     0.77277,     0.77377,     0.77477,     0.77578,     0.77678,     0.77778,     0.77878,     0.77978,     0.78078,     0.78178,     0.78278,     0.78378,     0.78478,     0.78579,     0.78679,     0.78779,     0.78879,     0.78979,     0.79079,     0.79179,\n",
            "           0.79279,     0.79379,     0.79479,      0.7958,      0.7968,      0.7978,      0.7988,      0.7998,      0.8008,      0.8018,      0.8028,      0.8038,      0.8048,     0.80581,     0.80681,     0.80781,     0.80881,     0.80981,     0.81081,     0.81181,     0.81281,     0.81381,     0.81481,     0.81582,\n",
            "           0.81682,     0.81782,     0.81882,     0.81982,     0.82082,     0.82182,     0.82282,     0.82382,     0.82482,     0.82583,     0.82683,     0.82783,     0.82883,     0.82983,     0.83083,     0.83183,     0.83283,     0.83383,     0.83483,     0.83584,     0.83684,     0.83784,     0.83884,     0.83984,\n",
            "           0.84084,     0.84184,     0.84284,     0.84384,     0.84484,     0.84585,     0.84685,     0.84785,     0.84885,     0.84985,     0.85085,     0.85185,     0.85285,     0.85385,     0.85485,     0.85586,     0.85686,     0.85786,     0.85886,     0.85986,     0.86086,     0.86186,     0.86286,     0.86386,\n",
            "           0.86486,     0.86587,     0.86687,     0.86787,     0.86887,     0.86987,     0.87087,     0.87187,     0.87287,     0.87387,     0.87487,     0.87588,     0.87688,     0.87788,     0.87888,     0.87988,     0.88088,     0.88188,     0.88288,     0.88388,     0.88488,     0.88589,     0.88689,     0.88789,\n",
            "           0.88889,     0.88989,     0.89089,     0.89189,     0.89289,     0.89389,     0.89489,      0.8959,      0.8969,      0.8979,      0.8989,      0.8999,      0.9009,      0.9019,      0.9029,      0.9039,      0.9049,     0.90591,     0.90691,     0.90791,     0.90891,     0.90991,     0.91091,     0.91191,\n",
            "           0.91291,     0.91391,     0.91491,     0.91592,     0.91692,     0.91792,     0.91892,     0.91992,     0.92092,     0.92192,     0.92292,     0.92392,     0.92492,     0.92593,     0.92693,     0.92793,     0.92893,     0.92993,     0.93093,     0.93193,     0.93293,     0.93393,     0.93493,     0.93594,\n",
            "           0.93694,     0.93794,     0.93894,     0.93994,     0.94094,     0.94194,     0.94294,     0.94394,     0.94494,     0.94595,     0.94695,     0.94795,     0.94895,     0.94995,     0.95095,     0.95195,     0.95295,     0.95395,     0.95495,     0.95596,     0.95696,     0.95796,     0.95896,     0.95996,\n",
            "           0.96096,     0.96196,     0.96296,     0.96396,     0.96496,     0.96597,     0.96697,     0.96797,     0.96897,     0.96997,     0.97097,     0.97197,     0.97297,     0.97397,     0.97497,     0.97598,     0.97698,     0.97798,     0.97898,     0.97998,     0.98098,     0.98198,     0.98298,     0.98398,\n",
            "           0.98498,     0.98599,     0.98699,     0.98799,     0.98899,     0.98999,     0.99099,     0.99199,     0.99299,     0.99399,     0.99499,       0.996,       0.997,       0.998,       0.999,           1]), array([[   0.054054,     0.05413,    0.082719,     0.10395,     0.11831,     0.13005,     0.14659,     0.15826,     0.16458,     0.17005,      0.1821,     0.19178,     0.19668,     0.20534,     0.20884,     0.21889,     0.22247,     0.23423,     0.24516,     0.26159,     0.26867,     0.27134,     0.28354,\n",
            "            0.28766,      0.3009,     0.30338,     0.30971,     0.31339,      0.3168,      0.3313,     0.33459,      0.3382,     0.34594,     0.35138,     0.35447,     0.36433,     0.37629,      0.3785,     0.38078,      0.3832,     0.38821,     0.39063,     0.39307,      0.3955,     0.39867,     0.41347,\n",
            "            0.41942,     0.42418,     0.42895,     0.43824,     0.44449,     0.45107,     0.45086,      0.4488,     0.44674,     0.45473,     0.45818,     0.45997,     0.46176,     0.46629,     0.47272,      0.4768,     0.48007,      0.4839,     0.48728,     0.48907,     0.49085,     0.49263,     0.49689,\n",
            "            0.50592,     0.51118,     0.51512,     0.51807,     0.52101,     0.52754,     0.53718,     0.54197,     0.55275,     0.55383,     0.55492,       0.556,     0.55709,     0.55817,     0.55925,     0.56034,     0.55833,     0.55531,      0.5556,     0.55903,     0.56245,     0.57296,     0.57603,\n",
            "             0.5791,     0.58802,     0.59096,      0.5919,     0.59283,     0.59377,      0.5947,     0.59564,     0.59657,     0.59751,     0.59844,     0.59938,     0.60405,     0.61418,      0.6325,     0.63752,     0.64254,     0.64841,     0.65434,     0.65606,     0.65762,     0.65919,     0.66075,\n",
            "            0.66232,     0.66389,     0.66545,     0.66711,     0.66907,     0.67103,     0.67299,     0.67495,     0.67691,     0.67887,     0.67598,     0.68177,     0.68372,     0.69346,     0.69178,     0.69011,     0.68843,     0.69786,     0.71733,     0.71661,     0.71589,     0.71517,     0.71446,\n",
            "            0.71374,     0.71302,      0.7123,     0.71158,     0.71177,     0.71366,     0.71555,     0.71743,     0.71932,      0.7212,     0.72309,     0.72498,     0.72686,     0.72864,     0.73038,     0.73213,     0.73388,     0.73562,     0.73737,     0.73912,     0.74086,     0.74261,     0.74414,\n",
            "            0.74369,     0.74324,     0.74279,     0.74234,     0.74189,     0.74144,     0.74099,     0.74054,     0.74009,     0.73965,      0.7392,     0.73875,      0.7383,      0.7388,     0.74007,     0.74135,     0.74262,     0.74389,     0.74516,     0.74644,     0.74771,     0.74898,     0.75026,\n",
            "            0.75153,      0.7528,     0.75407,     0.75535,     0.75572,      0.7548,     0.75388,     0.75297,     0.75205,     0.75113,     0.75021,     0.75187,     0.75431,     0.75674,     0.75918,     0.76162,     0.76406,     0.76649,     0.76893,     0.77203,     0.77522,     0.77841,      0.7816,\n",
            "            0.78479,     0.78798,     0.78907,     0.78831,     0.78756,      0.7868,     0.78604,     0.78528,     0.78453,     0.78378,     0.78349,     0.78321,     0.78293,     0.78264,     0.78236,     0.78208,     0.78179,     0.78151,     0.78123,     0.78094,     0.78066,     0.78038,     0.78009,\n",
            "            0.77981,     0.77952,     0.77924,     0.77896,     0.77867,     0.77839,     0.77811,     0.77782,     0.77489,     0.77146,     0.77087,      0.7703,     0.76974,     0.76917,     0.76861,     0.76804,     0.76748,     0.76691,     0.76634,     0.76578,     0.76521,     0.76469,     0.76448,\n",
            "            0.76428,     0.76408,     0.76388,     0.76367,     0.76347,     0.76327,     0.76307,     0.76286,     0.76266,     0.76246,     0.76226,     0.76205,     0.76185,     0.76165,     0.76145,     0.76124,     0.76104,     0.76084,     0.76064,     0.76044,     0.76023,     0.76003,     0.75983,\n",
            "            0.75963,     0.75942,     0.75922,     0.75902,     0.75882,     0.75861,     0.75841,     0.75821,     0.75801,      0.7578,      0.7576,     0.75581,     0.75377,     0.75174,     0.74939,     0.74523,     0.74162,     0.74009,     0.73856,     0.73703,     0.73551,     0.73398,     0.73205,\n",
            "            0.72984,     0.72762,     0.72541,     0.72831,     0.73809,     0.74786,     0.73292,      0.7188,     0.71647,     0.71414,     0.71181,     0.70948,     0.70624,     0.70213,     0.69802,     0.66546,     0.65753,     0.64995,     0.64894,     0.64793,     0.64692,     0.64591,      0.6449,\n",
            "            0.64389,     0.64288,     0.64187,     0.64086,     0.63985,     0.63884,     0.63783,     0.63682,     0.63581,      0.6348,     0.63378,     0.63277,     0.63176,     0.62297,     0.61243,      0.6125,     0.61408,     0.61567,     0.61726,     0.61884,     0.62043,     0.62201,      0.6236,\n",
            "            0.62518,     0.62677,     0.62836,     0.62994,     0.63153,     0.63311,      0.6347,     0.63628,     0.63787,     0.63945,     0.64104,     0.64263,     0.64421,      0.6458,      0.6403,      0.6331,     0.64819,     0.66328,     0.66497,     0.66279,     0.66061,     0.65843,     0.65625,\n",
            "            0.65406,     0.65188,      0.6497,     0.64752,     0.64534,     0.64315,     0.64046,     0.63769,     0.63492,     0.63214,     0.62937,      0.6266,     0.62383,     0.62105,     0.61828,     0.61551,     0.66813,      0.6919,     0.71567,     0.72214,     0.71211,     0.70208,     0.66228,\n",
            "            0.65617,     0.65006,     0.64396,     0.63785,     0.63174,     0.62563,      0.6301,     0.63579,     0.64148,     0.64717,     0.65287,     0.65856,     0.66425,     0.66994,     0.67563,     0.68132,     0.68701,      0.6927,     0.69839,     0.70408,     0.70977,      0.7223,     0.76113,\n",
            "            0.79996,     0.83309,     0.83133,     0.82958,     0.82782,     0.82607,     0.82431,     0.82256,     0.82081,     0.81905,      0.8173,     0.81554,     0.81379,     0.81203,     0.81028,     0.80853,     0.80677,     0.80502,     0.80326,     0.80151,       0.799,     0.79187,     0.78474,\n",
            "            0.77761,     0.77048,     0.76336,     0.75623,     0.74974,     0.74771,     0.74567,     0.74363,      0.7416,     0.73956,     0.73752,     0.73549,     0.73345,     0.73141,     0.72938,     0.72734,      0.7253,     0.72327,     0.72123,     0.71919,     0.71716,     0.71512,     0.71308,\n",
            "            0.71105,     0.70901,     0.70697,     0.70494,      0.7029,     0.70086,     0.69883,     0.69679,     0.69475,     0.69272,     0.69068,     0.68864,     0.68661,     0.68457,     0.68253,      0.6805,     0.67846,     0.67642,     0.67439,     0.67235,     0.67031,     0.66828,     0.66306,\n",
            "            0.64591,     0.62875,      0.6116,     0.59445,     0.57729,     0.56014,     0.54299,     0.52584,     0.50868,     0.50323,     0.50979,     0.51634,     0.52289,     0.52944,     0.53599,     0.54254,     0.54909,     0.55564,     0.56219,     0.56874,     0.57529,     0.58184,     0.58839,\n",
            "            0.59494,     0.60149,     0.60804,     0.61459,     0.62114,     0.62769,     0.63424,     0.64079,     0.64734,     0.65389,     0.66044,       0.667,     0.67355,      0.6801,     0.68665,      0.6932,     0.69975,      0.7063,     0.71285,      0.7194,     0.72595,      0.7325,     0.73905,\n",
            "             0.7456,     0.75215,      0.7587,     0.76525,      0.7718,     0.77835,      0.7849,     0.79145,       0.798,     0.80455,      0.8111,     0.81766,     0.82421,     0.83076,     0.83731,     0.84386,     0.85041,     0.85696,     0.86351,     0.87006,     0.87661,     0.88316,     0.88971,\n",
            "            0.89626,     0.90281,     0.90936,     0.91591,     0.92246,     0.92901,     0.93556,     0.94211,     0.94866,     0.95521,     0.96176,     0.96831,     0.97487,     0.98142,     0.98797,     0.99452,           1,           1,           1,           1,           1,           1,           1,\n",
            "                  1,           1,           1,           1,           1,           1,           1,           1,           1,           1,           1,           1,           1,           1,           1,           1,           1,           1,           1,           1,           1,           1,           1,\n",
            "                  1,           1,           1,           1,           1,           1,           1,           1,           1,           1,           1,           1,           1,           1,           1,           1,           1,           1,           1,           1,           1,           1,           1,\n",
            "                  1,           1,           1,           1,           1,           1,           1,           1,           1,           1,           1,           1,           1,           1,           1,           1,           1,           1,           1,           1,           1,           1,           1,\n",
            "                  1,           1,           1,           1,           1,           1,           1,           1,           1,           1,           1,           1,           1,           1,           1,           1,           1,           1,           1,           1,           1,           1,           1,\n",
            "                  1,           1,           1,           1,           1,           1,           1,           1,           1,           1,           1,           1,           1,           1,           1,           1,           1,           1,           1,           1,           1,           1,           1,\n",
            "                  1,           1,           1,           1,           1,           1,           1,           1,           1,           1,           1,           1,           1,           1,           1,           1,           1,           1,           1,           1,           1,           1,           1,\n",
            "                  1,           1,           1,           1,           1,           1,           1,           1,           1,           1,           1,           1,           1,           1,           1,           1,           1,           1,           1,           1,           1,           1,           1,\n",
            "                  1,           1,           1,           1,           1,           1,           1,           1,           1,           1,           1,           1,           1,           1,           1,           1,           1,           1,           1,           1,           1,           1,           1,\n",
            "                  1,           1,           1,           1,           1,           1,           1,           1,           1,           1,           1,           1,           1,           1,           1,           1,           1,           1,           1,           1,           1,           1,           1,\n",
            "                  1,           1,           1,           1,           1,           1,           1,           1,           1,           1,           1,           1,           1,           1,           1,           1,           1,           1,           1,           1,           1,           1,           1,\n",
            "                  1,           1,           1,           1,           1,           1,           1,           1,           1,           1,           1,           1,           1,           1,           1,           1,           1,           1,           1,           1,           1,           1,           1,\n",
            "                  1,           1,           1,           1,           1,           1,           1,           1,           1,           1,           1,           1,           1,           1,           1,           1,           1,           1,           1,           1,           1,           1,           1,\n",
            "                  1,           1,           1,           1,           1,           1,           1,           1,           1,           1,           1,           1,           1,           1,           1,           1,           1,           1,           1,           1,           1,           1,           1,\n",
            "                  1,           1,           1,           1,           1,           1,           1,           1,           1,           1,           1,           1,           1,           1,           1,           1,           1,           1,           1,           1,           1,           1,           1,\n",
            "                  1,           1,           1,           1,           1,           1,           1,           1,           1,           1,           1,           1,           1,           1,           1,           1,           1,           1,           1,           1,           1,           1,           1,\n",
            "                  1,           1,           1,           1,           1,           1,           1,           1,           1,           1,           1,           1,           1,           1,           1,           1,           1,           1,           1,           1,           1,           1,           1,\n",
            "                  1,           1,           1,           1,           1,           1,           1,           1,           1,           1,           1,           1,           1,           1,           1,           1,           1,           1,           1,           1,           1,           1,           1,\n",
            "                  1,           1,           1,           1,           1,           1,           1,           1,           1,           1,           1,           1,           1,           1,           1,           1,           1,           1,           1,           1,           1,           1,           1,\n",
            "                  1,           1,           1,           1,           1,           1,           1,           1,           1,           1,           1]]), 'Confidence', 'Precision'], [array([          0,    0.001001,    0.002002,    0.003003,    0.004004,    0.005005,    0.006006,    0.007007,    0.008008,    0.009009,     0.01001,    0.011011,    0.012012,    0.013013,    0.014014,    0.015015,    0.016016,    0.017017,    0.018018,    0.019019,     0.02002,    0.021021,    0.022022,    0.023023,\n",
            "          0.024024,    0.025025,    0.026026,    0.027027,    0.028028,    0.029029,     0.03003,    0.031031,    0.032032,    0.033033,    0.034034,    0.035035,    0.036036,    0.037037,    0.038038,    0.039039,     0.04004,    0.041041,    0.042042,    0.043043,    0.044044,    0.045045,    0.046046,    0.047047,\n",
            "          0.048048,    0.049049,     0.05005,    0.051051,    0.052052,    0.053053,    0.054054,    0.055055,    0.056056,    0.057057,    0.058058,    0.059059,     0.06006,    0.061061,    0.062062,    0.063063,    0.064064,    0.065065,    0.066066,    0.067067,    0.068068,    0.069069,     0.07007,    0.071071,\n",
            "          0.072072,    0.073073,    0.074074,    0.075075,    0.076076,    0.077077,    0.078078,    0.079079,     0.08008,    0.081081,    0.082082,    0.083083,    0.084084,    0.085085,    0.086086,    0.087087,    0.088088,    0.089089,     0.09009,    0.091091,    0.092092,    0.093093,    0.094094,    0.095095,\n",
            "          0.096096,    0.097097,    0.098098,    0.099099,      0.1001,      0.1011,      0.1021,      0.1031,      0.1041,     0.10511,     0.10611,     0.10711,     0.10811,     0.10911,     0.11011,     0.11111,     0.11211,     0.11311,     0.11411,     0.11512,     0.11612,     0.11712,     0.11812,     0.11912,\n",
            "           0.12012,     0.12112,     0.12212,     0.12312,     0.12412,     0.12513,     0.12613,     0.12713,     0.12813,     0.12913,     0.13013,     0.13113,     0.13213,     0.13313,     0.13413,     0.13514,     0.13614,     0.13714,     0.13814,     0.13914,     0.14014,     0.14114,     0.14214,     0.14314,\n",
            "           0.14414,     0.14515,     0.14615,     0.14715,     0.14815,     0.14915,     0.15015,     0.15115,     0.15215,     0.15315,     0.15415,     0.15516,     0.15616,     0.15716,     0.15816,     0.15916,     0.16016,     0.16116,     0.16216,     0.16316,     0.16416,     0.16517,     0.16617,     0.16717,\n",
            "           0.16817,     0.16917,     0.17017,     0.17117,     0.17217,     0.17317,     0.17417,     0.17518,     0.17618,     0.17718,     0.17818,     0.17918,     0.18018,     0.18118,     0.18218,     0.18318,     0.18418,     0.18519,     0.18619,     0.18719,     0.18819,     0.18919,     0.19019,     0.19119,\n",
            "           0.19219,     0.19319,     0.19419,      0.1952,      0.1962,      0.1972,      0.1982,      0.1992,      0.2002,      0.2012,      0.2022,      0.2032,      0.2042,     0.20521,     0.20621,     0.20721,     0.20821,     0.20921,     0.21021,     0.21121,     0.21221,     0.21321,     0.21421,     0.21522,\n",
            "           0.21622,     0.21722,     0.21822,     0.21922,     0.22022,     0.22122,     0.22222,     0.22322,     0.22422,     0.22523,     0.22623,     0.22723,     0.22823,     0.22923,     0.23023,     0.23123,     0.23223,     0.23323,     0.23423,     0.23524,     0.23624,     0.23724,     0.23824,     0.23924,\n",
            "           0.24024,     0.24124,     0.24224,     0.24324,     0.24424,     0.24525,     0.24625,     0.24725,     0.24825,     0.24925,     0.25025,     0.25125,     0.25225,     0.25325,     0.25425,     0.25526,     0.25626,     0.25726,     0.25826,     0.25926,     0.26026,     0.26126,     0.26226,     0.26326,\n",
            "           0.26426,     0.26527,     0.26627,     0.26727,     0.26827,     0.26927,     0.27027,     0.27127,     0.27227,     0.27327,     0.27427,     0.27528,     0.27628,     0.27728,     0.27828,     0.27928,     0.28028,     0.28128,     0.28228,     0.28328,     0.28428,     0.28529,     0.28629,     0.28729,\n",
            "           0.28829,     0.28929,     0.29029,     0.29129,     0.29229,     0.29329,     0.29429,      0.2953,      0.2963,      0.2973,      0.2983,      0.2993,      0.3003,      0.3013,      0.3023,      0.3033,      0.3043,     0.30531,     0.30631,     0.30731,     0.30831,     0.30931,     0.31031,     0.31131,\n",
            "           0.31231,     0.31331,     0.31431,     0.31532,     0.31632,     0.31732,     0.31832,     0.31932,     0.32032,     0.32132,     0.32232,     0.32332,     0.32432,     0.32533,     0.32633,     0.32733,     0.32833,     0.32933,     0.33033,     0.33133,     0.33233,     0.33333,     0.33433,     0.33534,\n",
            "           0.33634,     0.33734,     0.33834,     0.33934,     0.34034,     0.34134,     0.34234,     0.34334,     0.34434,     0.34535,     0.34635,     0.34735,     0.34835,     0.34935,     0.35035,     0.35135,     0.35235,     0.35335,     0.35435,     0.35536,     0.35636,     0.35736,     0.35836,     0.35936,\n",
            "           0.36036,     0.36136,     0.36236,     0.36336,     0.36436,     0.36537,     0.36637,     0.36737,     0.36837,     0.36937,     0.37037,     0.37137,     0.37237,     0.37337,     0.37437,     0.37538,     0.37638,     0.37738,     0.37838,     0.37938,     0.38038,     0.38138,     0.38238,     0.38338,\n",
            "           0.38438,     0.38539,     0.38639,     0.38739,     0.38839,     0.38939,     0.39039,     0.39139,     0.39239,     0.39339,     0.39439,      0.3954,      0.3964,      0.3974,      0.3984,      0.3994,      0.4004,      0.4014,      0.4024,      0.4034,      0.4044,     0.40541,     0.40641,     0.40741,\n",
            "           0.40841,     0.40941,     0.41041,     0.41141,     0.41241,     0.41341,     0.41441,     0.41542,     0.41642,     0.41742,     0.41842,     0.41942,     0.42042,     0.42142,     0.42242,     0.42342,     0.42442,     0.42543,     0.42643,     0.42743,     0.42843,     0.42943,     0.43043,     0.43143,\n",
            "           0.43243,     0.43343,     0.43443,     0.43544,     0.43644,     0.43744,     0.43844,     0.43944,     0.44044,     0.44144,     0.44244,     0.44344,     0.44444,     0.44545,     0.44645,     0.44745,     0.44845,     0.44945,     0.45045,     0.45145,     0.45245,     0.45345,     0.45445,     0.45546,\n",
            "           0.45646,     0.45746,     0.45846,     0.45946,     0.46046,     0.46146,     0.46246,     0.46346,     0.46446,     0.46547,     0.46647,     0.46747,     0.46847,     0.46947,     0.47047,     0.47147,     0.47247,     0.47347,     0.47447,     0.47548,     0.47648,     0.47748,     0.47848,     0.47948,\n",
            "           0.48048,     0.48148,     0.48248,     0.48348,     0.48448,     0.48549,     0.48649,     0.48749,     0.48849,     0.48949,     0.49049,     0.49149,     0.49249,     0.49349,     0.49449,      0.4955,      0.4965,      0.4975,      0.4985,      0.4995,      0.5005,      0.5015,      0.5025,      0.5035,\n",
            "            0.5045,     0.50551,     0.50651,     0.50751,     0.50851,     0.50951,     0.51051,     0.51151,     0.51251,     0.51351,     0.51451,     0.51552,     0.51652,     0.51752,     0.51852,     0.51952,     0.52052,     0.52152,     0.52252,     0.52352,     0.52452,     0.52553,     0.52653,     0.52753,\n",
            "           0.52853,     0.52953,     0.53053,     0.53153,     0.53253,     0.53353,     0.53453,     0.53554,     0.53654,     0.53754,     0.53854,     0.53954,     0.54054,     0.54154,     0.54254,     0.54354,     0.54454,     0.54555,     0.54655,     0.54755,     0.54855,     0.54955,     0.55055,     0.55155,\n",
            "           0.55255,     0.55355,     0.55455,     0.55556,     0.55656,     0.55756,     0.55856,     0.55956,     0.56056,     0.56156,     0.56256,     0.56356,     0.56456,     0.56557,     0.56657,     0.56757,     0.56857,     0.56957,     0.57057,     0.57157,     0.57257,     0.57357,     0.57457,     0.57558,\n",
            "           0.57658,     0.57758,     0.57858,     0.57958,     0.58058,     0.58158,     0.58258,     0.58358,     0.58458,     0.58559,     0.58659,     0.58759,     0.58859,     0.58959,     0.59059,     0.59159,     0.59259,     0.59359,     0.59459,      0.5956,      0.5966,      0.5976,      0.5986,      0.5996,\n",
            "            0.6006,      0.6016,      0.6026,      0.6036,      0.6046,     0.60561,     0.60661,     0.60761,     0.60861,     0.60961,     0.61061,     0.61161,     0.61261,     0.61361,     0.61461,     0.61562,     0.61662,     0.61762,     0.61862,     0.61962,     0.62062,     0.62162,     0.62262,     0.62362,\n",
            "           0.62462,     0.62563,     0.62663,     0.62763,     0.62863,     0.62963,     0.63063,     0.63163,     0.63263,     0.63363,     0.63463,     0.63564,     0.63664,     0.63764,     0.63864,     0.63964,     0.64064,     0.64164,     0.64264,     0.64364,     0.64464,     0.64565,     0.64665,     0.64765,\n",
            "           0.64865,     0.64965,     0.65065,     0.65165,     0.65265,     0.65365,     0.65465,     0.65566,     0.65666,     0.65766,     0.65866,     0.65966,     0.66066,     0.66166,     0.66266,     0.66366,     0.66466,     0.66567,     0.66667,     0.66767,     0.66867,     0.66967,     0.67067,     0.67167,\n",
            "           0.67267,     0.67367,     0.67467,     0.67568,     0.67668,     0.67768,     0.67868,     0.67968,     0.68068,     0.68168,     0.68268,     0.68368,     0.68468,     0.68569,     0.68669,     0.68769,     0.68869,     0.68969,     0.69069,     0.69169,     0.69269,     0.69369,     0.69469,      0.6957,\n",
            "            0.6967,      0.6977,      0.6987,      0.6997,      0.7007,      0.7017,      0.7027,      0.7037,      0.7047,     0.70571,     0.70671,     0.70771,     0.70871,     0.70971,     0.71071,     0.71171,     0.71271,     0.71371,     0.71471,     0.71572,     0.71672,     0.71772,     0.71872,     0.71972,\n",
            "           0.72072,     0.72172,     0.72272,     0.72372,     0.72472,     0.72573,     0.72673,     0.72773,     0.72873,     0.72973,     0.73073,     0.73173,     0.73273,     0.73373,     0.73473,     0.73574,     0.73674,     0.73774,     0.73874,     0.73974,     0.74074,     0.74174,     0.74274,     0.74374,\n",
            "           0.74474,     0.74575,     0.74675,     0.74775,     0.74875,     0.74975,     0.75075,     0.75175,     0.75275,     0.75375,     0.75475,     0.75576,     0.75676,     0.75776,     0.75876,     0.75976,     0.76076,     0.76176,     0.76276,     0.76376,     0.76476,     0.76577,     0.76677,     0.76777,\n",
            "           0.76877,     0.76977,     0.77077,     0.77177,     0.77277,     0.77377,     0.77477,     0.77578,     0.77678,     0.77778,     0.77878,     0.77978,     0.78078,     0.78178,     0.78278,     0.78378,     0.78478,     0.78579,     0.78679,     0.78779,     0.78879,     0.78979,     0.79079,     0.79179,\n",
            "           0.79279,     0.79379,     0.79479,      0.7958,      0.7968,      0.7978,      0.7988,      0.7998,      0.8008,      0.8018,      0.8028,      0.8038,      0.8048,     0.80581,     0.80681,     0.80781,     0.80881,     0.80981,     0.81081,     0.81181,     0.81281,     0.81381,     0.81481,     0.81582,\n",
            "           0.81682,     0.81782,     0.81882,     0.81982,     0.82082,     0.82182,     0.82282,     0.82382,     0.82482,     0.82583,     0.82683,     0.82783,     0.82883,     0.82983,     0.83083,     0.83183,     0.83283,     0.83383,     0.83483,     0.83584,     0.83684,     0.83784,     0.83884,     0.83984,\n",
            "           0.84084,     0.84184,     0.84284,     0.84384,     0.84484,     0.84585,     0.84685,     0.84785,     0.84885,     0.84985,     0.85085,     0.85185,     0.85285,     0.85385,     0.85485,     0.85586,     0.85686,     0.85786,     0.85886,     0.85986,     0.86086,     0.86186,     0.86286,     0.86386,\n",
            "           0.86486,     0.86587,     0.86687,     0.86787,     0.86887,     0.86987,     0.87087,     0.87187,     0.87287,     0.87387,     0.87487,     0.87588,     0.87688,     0.87788,     0.87888,     0.87988,     0.88088,     0.88188,     0.88288,     0.88388,     0.88488,     0.88589,     0.88689,     0.88789,\n",
            "           0.88889,     0.88989,     0.89089,     0.89189,     0.89289,     0.89389,     0.89489,      0.8959,      0.8969,      0.8979,      0.8989,      0.8999,      0.9009,      0.9019,      0.9029,      0.9039,      0.9049,     0.90591,     0.90691,     0.90791,     0.90891,     0.90991,     0.91091,     0.91191,\n",
            "           0.91291,     0.91391,     0.91491,     0.91592,     0.91692,     0.91792,     0.91892,     0.91992,     0.92092,     0.92192,     0.92292,     0.92392,     0.92492,     0.92593,     0.92693,     0.92793,     0.92893,     0.92993,     0.93093,     0.93193,     0.93293,     0.93393,     0.93493,     0.93594,\n",
            "           0.93694,     0.93794,     0.93894,     0.93994,     0.94094,     0.94194,     0.94294,     0.94394,     0.94494,     0.94595,     0.94695,     0.94795,     0.94895,     0.94995,     0.95095,     0.95195,     0.95295,     0.95395,     0.95495,     0.95596,     0.95696,     0.95796,     0.95896,     0.95996,\n",
            "           0.96096,     0.96196,     0.96296,     0.96396,     0.96496,     0.96597,     0.96697,     0.96797,     0.96897,     0.96997,     0.97097,     0.97197,     0.97297,     0.97397,     0.97497,     0.97598,     0.97698,     0.97798,     0.97898,     0.97998,     0.98098,     0.98198,     0.98298,     0.98398,\n",
            "           0.98498,     0.98599,     0.98699,     0.98799,     0.98899,     0.98999,     0.99099,     0.99199,     0.99299,     0.99399,     0.99499,       0.996,       0.997,       0.998,       0.999,           1]), array([[    0.67692,     0.67692,     0.67692,     0.67692,     0.66154,     0.66154,     0.66154,     0.66154,     0.64615,     0.63077,     0.63077,     0.63077,     0.63077,     0.63077,     0.63077,     0.63077,     0.61538,     0.61538,     0.61538,     0.61538,     0.61538,     0.61538,     0.61538,\n",
            "            0.61538,     0.61538,     0.61538,     0.61538,     0.61538,     0.61538,     0.61538,     0.61538,         0.6,         0.6,         0.6,         0.6,     0.58462,     0.58462,     0.58462,     0.58462,     0.58462,     0.58462,     0.58462,     0.58462,     0.58462,     0.58462,     0.58462,\n",
            "            0.58462,     0.58462,     0.58462,     0.58462,     0.58462,     0.58462,     0.58108,     0.57627,     0.57147,     0.56923,     0.56923,     0.56923,     0.56923,     0.56923,     0.56923,     0.56923,     0.56923,     0.56923,     0.56923,     0.56923,     0.56923,     0.56923,     0.56923,\n",
            "            0.56923,     0.56923,     0.56923,     0.56923,     0.56923,     0.56923,     0.56923,     0.56923,     0.56923,     0.56923,     0.56923,     0.56923,     0.56923,     0.56923,     0.56923,     0.56923,     0.56405,     0.55718,     0.55385,     0.55385,     0.55385,     0.55385,     0.55385,\n",
            "            0.55385,     0.55385,     0.55385,     0.55385,     0.55385,     0.55385,     0.55385,     0.55385,     0.55385,     0.55385,     0.55385,     0.55385,     0.55385,     0.55385,     0.55385,     0.55385,     0.55385,     0.55385,     0.55385,     0.55385,     0.55385,     0.55385,     0.55385,\n",
            "            0.55385,     0.55385,     0.55385,     0.55385,     0.55385,     0.55385,     0.55385,     0.55385,     0.55385,     0.55385,     0.53846,     0.53846,     0.53221,     0.52207,     0.51803,     0.51398,     0.50994,     0.50769,     0.50755,     0.50579,     0.50402,     0.50226,      0.5005,\n",
            "            0.49874,     0.49698,     0.49521,     0.49345,     0.49231,     0.49231,     0.49231,     0.49231,     0.49231,     0.49231,     0.49231,     0.49231,     0.49231,     0.49231,     0.49231,     0.49231,     0.49231,     0.49231,     0.49231,     0.49231,     0.49231,     0.49231,      0.4922,\n",
            "            0.49106,     0.48993,     0.48879,     0.48765,     0.48652,     0.48538,     0.48425,     0.48311,     0.48197,     0.48084,      0.4797,     0.47857,     0.47743,     0.47692,     0.47692,     0.47692,     0.47692,     0.47692,     0.47692,     0.47692,     0.47692,     0.47692,     0.47692,\n",
            "            0.47692,     0.47692,     0.47692,     0.47692,     0.47597,     0.47366,     0.47134,     0.46902,     0.46671,     0.46439,     0.46208,     0.46154,     0.46154,     0.46154,     0.46154,     0.46154,     0.46154,     0.46154,     0.46154,     0.46154,     0.46154,     0.46154,     0.46154,\n",
            "            0.46154,     0.46154,     0.46045,      0.4584,     0.45635,      0.4543,     0.45225,     0.45021,     0.44816,     0.44614,     0.44541,     0.44469,     0.44396,     0.44323,     0.44251,     0.44178,     0.44105,     0.44033,      0.4396,     0.43888,     0.43815,     0.43742,      0.4367,\n",
            "            0.43597,     0.43524,     0.43452,     0.43379,     0.43306,     0.43234,     0.43161,     0.43089,     0.42378,     0.41546,      0.4141,     0.41281,     0.41151,     0.41022,     0.40893,     0.40763,     0.40634,     0.40504,     0.40375,     0.40246,     0.40116,     0.39996,     0.39952,\n",
            "            0.39908,     0.39865,     0.39821,     0.39777,     0.39734,      0.3969,     0.39646,     0.39603,     0.39559,     0.39515,     0.39472,     0.39428,     0.39384,     0.39341,     0.39297,     0.39253,      0.3921,     0.39166,     0.39122,     0.39079,     0.39035,     0.38991,     0.38948,\n",
            "            0.38904,      0.3886,     0.38817,     0.38773,     0.38729,     0.38686,     0.38642,     0.38598,     0.38555,     0.38511,     0.38467,     0.38102,     0.37689,     0.37276,     0.36807,     0.36014,     0.35328,     0.35055,     0.34781,     0.34508,     0.34235,     0.33961,     0.33632,\n",
            "            0.33261,     0.32891,      0.3252,     0.32308,     0.32308,     0.32308,     0.29563,     0.27534,     0.27227,     0.26919,     0.26612,     0.26305,       0.259,     0.25401,     0.24902,     0.21427,     0.20695,     0.19996,     0.19911,     0.19827,     0.19743,     0.19658,     0.19574,\n",
            "             0.1949,     0.19405,     0.19321,     0.19236,     0.19152,     0.19068,     0.18983,     0.18899,     0.18815,      0.1873,     0.18646,     0.18561,     0.18477,     0.17814,     0.17022,     0.16923,     0.16923,     0.16923,     0.16923,     0.16923,     0.16923,     0.16923,     0.16923,\n",
            "            0.16923,     0.16923,     0.16923,     0.16923,     0.16923,     0.16923,     0.16923,     0.16923,     0.16923,     0.16923,     0.16923,     0.16923,     0.16923,     0.16923,     0.16452,     0.15385,     0.15385,     0.15385,     0.15275,     0.15134,     0.14993,     0.14852,     0.14711,\n",
            "             0.1457,     0.14429,     0.14288,     0.14147,     0.14006,     0.13865,     0.13712,     0.13557,     0.13402,     0.13246,     0.13091,     0.12936,      0.1278,     0.12625,      0.1247,     0.12315,     0.12308,     0.12308,     0.12308,     0.12018,     0.11452,     0.10887,    0.090688,\n",
            "           0.088433,    0.086177,    0.083922,    0.081667,    0.079411,    0.077156,    0.076923,    0.076923,    0.076923,    0.076923,    0.076923,    0.076923,    0.076923,    0.076923,    0.076923,    0.076923,    0.076923,    0.076923,    0.076923,    0.076923,    0.076923,    0.076923,    0.076923,\n",
            "           0.076923,    0.076809,       0.076,     0.07519,     0.07438,     0.07357,    0.072761,    0.071951,    0.071141,    0.070332,    0.069522,    0.068712,    0.067902,    0.067093,    0.066283,    0.065473,    0.064664,    0.063854,    0.063044,    0.062234,     0.06123,    0.059037,    0.056844,\n",
            "            0.05465,    0.052457,    0.050263,     0.04807,    0.046106,     0.04573,    0.045354,    0.044978,    0.044602,    0.044226,     0.04385,    0.043474,    0.043098,    0.042722,    0.042346,     0.04197,    0.041594,    0.041218,    0.040842,    0.040466,     0.04009,    0.039714,    0.039338,\n",
            "           0.038962,    0.038586,     0.03821,    0.037834,    0.037458,    0.037082,    0.036706,     0.03633,    0.035954,    0.035578,    0.035202,    0.034826,     0.03445,    0.034074,    0.033698,    0.033322,    0.032946,     0.03257,    0.032194,    0.031818,    0.031442,    0.031066,    0.030436,\n",
            "           0.028853,     0.02727,    0.025686,    0.024103,    0.022519,    0.020936,    0.019353,    0.017769,    0.016186,    0.015385,    0.015385,    0.015385,    0.015385,    0.015385,    0.015385,    0.015385,    0.015385,    0.015385,    0.015385,    0.015385,    0.015385,    0.015385,    0.015385,\n",
            "           0.015385,    0.015385,    0.015385,    0.015385,    0.015385,    0.015385,    0.015385,    0.015385,    0.015385,    0.015385,    0.015385,    0.015385,    0.015385,    0.015385,    0.015385,    0.015385,    0.015385,    0.015385,    0.015385,    0.015385,    0.015385,    0.015385,    0.015385,\n",
            "           0.015385,    0.015385,    0.015385,    0.015385,    0.015385,    0.015385,    0.015385,    0.015385,    0.015385,    0.015385,    0.015385,    0.015385,    0.015385,    0.015385,    0.015385,    0.015385,    0.015385,    0.015385,    0.015385,    0.015385,    0.015385,    0.015385,    0.015385,\n",
            "           0.015385,    0.015385,    0.015385,    0.015385,    0.015385,    0.015385,    0.015385,    0.015385,    0.015385,    0.015385,    0.015385,    0.015385,    0.015385,    0.015385,    0.015385,    0.015385,           0,           0,           0,           0,           0,           0,           0,\n",
            "                  0,           0,           0,           0,           0,           0,           0,           0,           0,           0,           0,           0,           0,           0,           0,           0,           0,           0,           0,           0,           0,           0,           0,\n",
            "                  0,           0,           0,           0,           0,           0,           0,           0,           0,           0,           0,           0,           0,           0,           0,           0,           0,           0,           0,           0,           0,           0,           0,\n",
            "                  0,           0,           0,           0,           0,           0,           0,           0,           0,           0,           0,           0,           0,           0,           0,           0,           0,           0,           0,           0,           0,           0,           0,\n",
            "                  0,           0,           0,           0,           0,           0,           0,           0,           0,           0,           0,           0,           0,           0,           0,           0,           0,           0,           0,           0,           0,           0,           0,\n",
            "                  0,           0,           0,           0,           0,           0,           0,           0,           0,           0,           0,           0,           0,           0,           0,           0,           0,           0,           0,           0,           0,           0,           0,\n",
            "                  0,           0,           0,           0,           0,           0,           0,           0,           0,           0,           0,           0,           0,           0,           0,           0,           0,           0,           0,           0,           0,           0,           0,\n",
            "                  0,           0,           0,           0,           0,           0,           0,           0,           0,           0,           0,           0,           0,           0,           0,           0,           0,           0,           0,           0,           0,           0,           0,\n",
            "                  0,           0,           0,           0,           0,           0,           0,           0,           0,           0,           0,           0,           0,           0,           0,           0,           0,           0,           0,           0,           0,           0,           0,\n",
            "                  0,           0,           0,           0,           0,           0,           0,           0,           0,           0,           0,           0,           0,           0,           0,           0,           0,           0,           0,           0,           0,           0,           0,\n",
            "                  0,           0,           0,           0,           0,           0,           0,           0,           0,           0,           0,           0,           0,           0,           0,           0,           0,           0,           0,           0,           0,           0,           0,\n",
            "                  0,           0,           0,           0,           0,           0,           0,           0,           0,           0,           0,           0,           0,           0,           0,           0,           0,           0,           0,           0,           0,           0,           0,\n",
            "                  0,           0,           0,           0,           0,           0,           0,           0,           0,           0,           0,           0,           0,           0,           0,           0,           0,           0,           0,           0,           0,           0,           0,\n",
            "                  0,           0,           0,           0,           0,           0,           0,           0,           0,           0,           0,           0,           0,           0,           0,           0,           0,           0,           0,           0,           0,           0,           0,\n",
            "                  0,           0,           0,           0,           0,           0,           0,           0,           0,           0,           0,           0,           0,           0,           0,           0,           0,           0,           0,           0,           0,           0,           0,\n",
            "                  0,           0,           0,           0,           0,           0,           0,           0,           0,           0,           0,           0,           0,           0,           0,           0,           0,           0,           0,           0,           0,           0,           0,\n",
            "                  0,           0,           0,           0,           0,           0,           0,           0,           0,           0,           0,           0,           0,           0,           0,           0,           0,           0,           0,           0,           0,           0,           0,\n",
            "                  0,           0,           0,           0,           0,           0,           0,           0,           0,           0,           0,           0,           0,           0,           0,           0,           0,           0,           0,           0,           0,           0,           0,\n",
            "                  0,           0,           0,           0,           0,           0,           0,           0,           0,           0,           0,           0,           0,           0,           0,           0,           0,           0,           0,           0,           0,           0,           0,\n",
            "                  0,           0,           0,           0,           0,           0,           0,           0,           0,           0,           0]]), 'Confidence', 'Recall']]\n",
            "fitness: np.float64(0.17152918366376763)\n",
            "keys: ['metrics/precision(B)', 'metrics/recall(B)', 'metrics/mAP50(B)', 'metrics/mAP50-95(B)']\n",
            "maps: array([    0.13712])\n",
            "names: {0: 'Location-of-ball'}\n",
            "plot: True\n",
            "results_dict: {'metrics/precision(B)': np.float64(0.7356239642800827), 'metrics/recall(B)': np.float64(0.49230769230769234), 'metrics/mAP50(B)': np.float64(0.48121706349337984), 'metrics/mAP50-95(B)': np.float64(0.13711941923825516), 'fitness': np.float64(0.17152918366376763)}\n",
            "save_dir: PosixPath('runs/detect/train72')\n",
            "speed: {'preprocess': 3.5464852615405107, 'inference': 23.384696923074863, 'loss': 0.0013220307734557607, 'postprocess': 3.838963984617294}\n",
            "task: 'detect'\n",
            "Drive already mounted at /content/drive; to attempt to forcibly remount, call drive.mount(\"/content/drive\", force_remount=True).\n",
            "Model saved to /content/drive/MyDrive/ball_best2.pt\n"
          ]
        }
      ]
    },
    {
      "cell_type": "code",
      "source": [
        "!ls runs/detect/train3/"
      ],
      "metadata": {
        "colab": {
          "base_uri": "https://localhost:8080/"
        },
        "id": "kSm0YptJH1lo",
        "outputId": "0544cec9-989f-4e3f-8693-996395125ce3"
      },
      "execution_count": 22,
      "outputs": [
        {
          "output_type": "stream",
          "name": "stdout",
          "text": [
            "args.yaml\t\t\t R_curve.png\t     train_batch602.jpg\n",
            "confusion_matrix_normalized.png  results.csv\t     val_batch0_labels.jpg\n",
            "confusion_matrix.png\t\t results.png\t     val_batch0_pred.jpg\n",
            "F1_curve.png\t\t\t train_batch0.jpg    val_batch1_labels.jpg\n",
            "labels_correlogram.jpg\t\t train_batch1.jpg    val_batch1_pred.jpg\n",
            "labels.jpg\t\t\t train_batch2.jpg    val_batch2_labels.jpg\n",
            "P_curve.png\t\t\t train_batch600.jpg  val_batch2_pred.jpg\n",
            "PR_curve.png\t\t\t train_batch601.jpg  weights\n"
          ]
        }
      ]
    },
    {
      "cell_type": "code",
      "source": [
        "!runs/detect/train3/results.png"
      ],
      "metadata": {
        "id": "2mb2mnrVIWkB"
      },
      "execution_count": null,
      "outputs": []
    },
    {
      "cell_type": "code",
      "source": [
        "import shutil\n",
        "\n",
        "# Path to the best model (after training)\n",
        "best_model_path = 'runs/detect/train3/weights/best.pt'\n",
        "\n",
        "# Your destination folder in Drive\n",
        "drive_path = '/content/drive/MyDrive/ball_best.pt'\n",
        "\n",
        "# Make sure the destination directory exists\n",
        "os.makedirs(os.path.dirname(drive_path), exist_ok=True)\n",
        "\n",
        "# Copy the model to Drive\n",
        "shutil.copy(best_model_path, drive_path)"
      ],
      "metadata": {
        "colab": {
          "base_uri": "https://localhost:8080/",
          "height": 36
        },
        "id": "c462_pfyHyqG",
        "outputId": "d9c0fa6a-ce9c-4b85-99a1-251ce15e77d6"
      },
      "execution_count": 23,
      "outputs": [
        {
          "output_type": "execute_result",
          "data": {
            "text/plain": [
              "'/content/drive/MyDrive/ball_best.pt'"
            ],
            "application/vnd.google.colaboratory.intrinsic+json": {
              "type": "string"
            }
          },
          "metadata": {},
          "execution_count": 23
        }
      ]
    }
  ]
}